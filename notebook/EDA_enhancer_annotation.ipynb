{
 "cells": [
  {
   "cell_type": "code",
   "execution_count": 25,
   "id": "f4245d69",
   "metadata": {},
   "outputs": [],
   "source": [
    "import h5py\n",
    "import numpy as np\n",
    "import pandas as pd\n",
    "import os\n",
    "import seaborn as sns\n",
    "\n",
    "\n",
    "DATA_DIR = '../data/enhancer_annotation'\n",
    "BED_FILE = os.path.join(DATA_DIR, 'enhancer_annotation.bed')\n",
    "H5_FILE = os.path.join(DATA_DIR, 'enhancer_annotation.hdf5')"
   ]
  },
  {
   "cell_type": "code",
   "execution_count": 2,
   "id": "14707b82",
   "metadata": {},
   "outputs": [
    {
     "data": {
      "text/html": [
       "<div>\n",
       "<style scoped>\n",
       "    .dataframe tbody tr th:only-of-type {\n",
       "        vertical-align: middle;\n",
       "    }\n",
       "\n",
       "    .dataframe tbody tr th {\n",
       "        vertical-align: top;\n",
       "    }\n",
       "\n",
       "    .dataframe thead th {\n",
       "        text-align: right;\n",
       "    }\n",
       "</style>\n",
       "<table border=\"1\" class=\"dataframe\">\n",
       "  <thead>\n",
       "    <tr style=\"text-align: right;\">\n",
       "      <th></th>\n",
       "      <th>chromosome</th>\n",
       "      <th>start</th>\n",
       "      <th>end</th>\n",
       "      <th>gene</th>\n",
       "      <th>score</th>\n",
       "      <th>strand</th>\n",
       "      <th>split</th>\n",
       "    </tr>\n",
       "  </thead>\n",
       "  <tbody>\n",
       "    <tr>\n",
       "      <th>0</th>\n",
       "      <td>chr10</td>\n",
       "      <td>104288458</td>\n",
       "      <td>104388554</td>\n",
       "      <td>ITPRIP</td>\n",
       "      <td>NaN</td>\n",
       "      <td>.</td>\n",
       "      <td>part2</td>\n",
       "    </tr>\n",
       "    <tr>\n",
       "      <th>1</th>\n",
       "      <td>chr1</td>\n",
       "      <td>180582042</td>\n",
       "      <td>180682138</td>\n",
       "      <td>XPR1</td>\n",
       "      <td>NaN</td>\n",
       "      <td>.</td>\n",
       "      <td>part9</td>\n",
       "    </tr>\n",
       "    <tr>\n",
       "      <th>2</th>\n",
       "      <td>chr11</td>\n",
       "      <td>263962</td>\n",
       "      <td>364058</td>\n",
       "      <td>IFITM1</td>\n",
       "      <td>NaN</td>\n",
       "      <td>.</td>\n",
       "      <td>part5</td>\n",
       "    </tr>\n",
       "    <tr>\n",
       "      <th>3</th>\n",
       "      <td>chr1</td>\n",
       "      <td>225377934</td>\n",
       "      <td>225478030</td>\n",
       "      <td>LBR</td>\n",
       "      <td>NaN</td>\n",
       "      <td>.</td>\n",
       "      <td>part9</td>\n",
       "    </tr>\n",
       "    <tr>\n",
       "      <th>4</th>\n",
       "      <td>chr1</td>\n",
       "      <td>247807202</td>\n",
       "      <td>247907298</td>\n",
       "      <td>TRIM58</td>\n",
       "      <td>NaN</td>\n",
       "      <td>.</td>\n",
       "      <td>part9</td>\n",
       "    </tr>\n",
       "    <tr>\n",
       "      <th>...</th>\n",
       "      <td>...</td>\n",
       "      <td>...</td>\n",
       "      <td>...</td>\n",
       "      <td>...</td>\n",
       "      <td>...</td>\n",
       "      <td>...</td>\n",
       "      <td>...</td>\n",
       "    </tr>\n",
       "    <tr>\n",
       "      <th>280</th>\n",
       "      <td>chr19</td>\n",
       "      <td>12619423</td>\n",
       "      <td>12719519</td>\n",
       "      <td>WDR83OS</td>\n",
       "      <td>NaN</td>\n",
       "      <td>.</td>\n",
       "      <td>part6</td>\n",
       "    </tr>\n",
       "    <tr>\n",
       "      <th>281</th>\n",
       "      <td>chr19</td>\n",
       "      <td>12888591</td>\n",
       "      <td>12988687</td>\n",
       "      <td>CALR</td>\n",
       "      <td>NaN</td>\n",
       "      <td>.</td>\n",
       "      <td>part6</td>\n",
       "    </tr>\n",
       "    <tr>\n",
       "      <th>282</th>\n",
       "      <td>chr3</td>\n",
       "      <td>129133800</td>\n",
       "      <td>129233896</td>\n",
       "      <td>CNBP</td>\n",
       "      <td>NaN</td>\n",
       "      <td>.</td>\n",
       "      <td>part4</td>\n",
       "    </tr>\n",
       "    <tr>\n",
       "      <th>283</th>\n",
       "      <td>chr12</td>\n",
       "      <td>54369206</td>\n",
       "      <td>54469302</td>\n",
       "      <td>ITGA5</td>\n",
       "      <td>NaN</td>\n",
       "      <td>.</td>\n",
       "      <td>part5</td>\n",
       "    </tr>\n",
       "    <tr>\n",
       "      <th>284</th>\n",
       "      <td>chr19</td>\n",
       "      <td>12756632</td>\n",
       "      <td>12856728</td>\n",
       "      <td>RNASEH2A</td>\n",
       "      <td>NaN</td>\n",
       "      <td>.</td>\n",
       "      <td>part6</td>\n",
       "    </tr>\n",
       "  </tbody>\n",
       "</table>\n",
       "<p>285 rows × 7 columns</p>\n",
       "</div>"
      ],
      "text/plain": [
       "    chromosome      start        end      gene  score strand  split\n",
       "0        chr10  104288458  104388554    ITPRIP    NaN      .  part2\n",
       "1         chr1  180582042  180682138      XPR1    NaN      .  part9\n",
       "2        chr11     263962     364058    IFITM1    NaN      .  part5\n",
       "3         chr1  225377934  225478030       LBR    NaN      .  part9\n",
       "4         chr1  247807202  247907298    TRIM58    NaN      .  part9\n",
       "..         ...        ...        ...       ...    ...    ...    ...\n",
       "280      chr19   12619423   12719519   WDR83OS    NaN      .  part6\n",
       "281      chr19   12888591   12988687      CALR    NaN      .  part6\n",
       "282       chr3  129133800  129233896      CNBP    NaN      .  part4\n",
       "283      chr12   54369206   54469302     ITGA5    NaN      .  part5\n",
       "284      chr19   12756632   12856728  RNASEH2A    NaN      .  part6\n",
       "\n",
       "[285 rows x 7 columns]"
      ]
     },
     "execution_count": 2,
     "metadata": {},
     "output_type": "execute_result"
    }
   ],
   "source": [
    "enhancer_df = pd.read_csv(BED_FILE, sep='\\t')\n",
    "enhancer_df"
   ]
  },
  {
   "cell_type": "code",
   "execution_count": 4,
   "id": "f19b5ebd",
   "metadata": {},
   "outputs": [
    {
     "data": {
      "text/plain": [
       "True"
      ]
     },
     "execution_count": 4,
     "metadata": {},
     "output_type": "execute_result"
    }
   ],
   "source": [
    "len(enhancer_df) == len(enhancer_df['gene'].unique())"
   ]
  },
  {
   "cell_type": "code",
   "execution_count": 7,
   "id": "a38e8456",
   "metadata": {},
   "outputs": [
    {
     "data": {
      "text/plain": [
       "count       285.0\n",
       "mean     100096.0\n",
       "std           0.0\n",
       "min      100096.0\n",
       "25%      100096.0\n",
       "50%      100096.0\n",
       "75%      100096.0\n",
       "max      100096.0\n",
       "Name: length, dtype: float64"
      ]
     },
     "execution_count": 7,
     "metadata": {},
     "output_type": "execute_result"
    }
   ],
   "source": [
    "enhancer_df['length'] = enhancer_df['end'] - enhancer_df['start']\n",
    "enhancer_df['length'].describe()"
   ]
  },
  {
   "cell_type": "code",
   "execution_count": 9,
   "id": "dc2d8a92",
   "metadata": {},
   "outputs": [
    {
     "data": {
      "text/plain": [
       "split\n",
       "part9     35\n",
       "part10    33\n",
       "part6     31\n",
       "part5     28\n",
       "part3     28\n",
       "part4     28\n",
       "part2     27\n",
       "part1     27\n",
       "part8     24\n",
       "part7     24\n",
       "Name: count, dtype: int64"
      ]
     },
     "execution_count": 9,
     "metadata": {},
     "output_type": "execute_result"
    }
   ],
   "source": [
    "enhancer_df['split'].value_counts()"
   ]
  },
  {
   "cell_type": "markdown",
   "id": "c2b889cf",
   "metadata": {},
   "source": [
    "Sequences are 100096 bp long, however the labels for each sequence are just 782.\n",
    "The reason being that each label applies to a binned dna segment of 128 bp. The label will be 1 if the binned segment contains at least 1 nucleotide lying in the enhancer element, 0 otherwise."
   ]
  },
  {
   "cell_type": "code",
   "execution_count": null,
   "id": "a0ae9828",
   "metadata": {},
   "outputs": [
    {
     "data": {
      "text/plain": [
       "<Axes: >"
      ]
     },
     "execution_count": 40,
     "metadata": {},
     "output_type": "execute_result"
    },
    {
     "data": {
      "image/png": "[encoded data removed]",
      "text/plain": [
       "<Figure size 640x480 with 1 Axes>"
      ]
     },
     "metadata": {},
     "output_type": "display_data"
    }
   ],
   "source": [
    "# Occurrence of enhancers across dna sequence positions\n",
    "\n",
    "labels_data = np.array(h5py.File(H5_FILE, 'r')['labels'])\n",
    "enhancers_spread = labels_data.sum(axis=0)\n",
    "enhancers_spread\n",
    "\n",
    "sns.lineplot(enhancers_spread)\n"
   ]
  },
  {
   "cell_type": "markdown",
   "id": "f158b4a6",
   "metadata": {},
   "source": [
    "The graph shows the distribution of 1 labels in the binned dna segments."
   ]
  },
  {
   "cell_type": "code",
   "execution_count": null,
   "id": "fd13680c",
   "metadata": {},
   "outputs": [],
   "source": []
  }
 ],
 "metadata": {
  "kernelspec": {
   "display_name": "bend",
   "language": "python",
   "name": "python3"
  },
  "language_info": {
   "codemirror_mode": {
    "name": "ipython",
    "version": 3
   },
   "file_extension": ".py",
   "mimetype": "text/x-python",
   "name": "python",
   "nbconvert_exporter": "python",
   "pygments_lexer": "ipython3",
   "version": "3.10.16"
  }
 },
 "nbformat": 4,
 "nbformat_minor": 5
}
