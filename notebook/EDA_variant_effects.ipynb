{
 "cells": [
  {
   "cell_type": "code",
   "execution_count": null,
   "id": "55571f28",
   "metadata": {},
   "outputs": [],
   "source": [
    "import os\n",
    "from tqdm.auto import tqdm\n",
    "import pandas as pd\n",
    "import numpy as np\n",
    "import seaborn as sns\n",
    "import matplotlib.pyplot as plt\n",
    "\n",
    "DATA_DIR = '../data/'\n",
    "VAR_EXP_FILE = os.path.join(DATA_DIR, 'variant_effects/variant_effects_expression.bed')\n",
    "VAR_DIS_FILE = os.path.join(DATA_DIR, 'variant_effects/variant_effects_disease.bed')\n",
    "\n",
    "def compute_SNP_types(df):\n",
    "    df['alt_type'] = np.where((df['alt'] == 'A') | (df['alt'] == 'G'), 'purine', 'pyrimidine')\n",
    "    df['ref_type'] = np.where((df['ref'] == 'A') | (df['ref'] == 'G'), 'purine', 'pyrimidine')\n",
    "\n",
    "    df['SNP_type'] = np.where(df['alt_type'] == df['ref_type'], 'transition', 'transversion')\n",
    "\n",
    "    df['SNP'] = df['ref']+'-'+df['alt']\n"
   ]
  },
  {
   "cell_type": "markdown",
   "id": "dc275c12",
   "metadata": {},
   "source": [
    "# Variant effects expression"
   ]
  },
  {
   "cell_type": "code",
   "execution_count": 165,
   "id": "044e8faf",
   "metadata": {},
   "outputs": [
    {
     "data": {
      "text/html": [
       "<div>\n",
       "<style scoped>\n",
       "    .dataframe tbody tr th:only-of-type {\n",
       "        vertical-align: middle;\n",
       "    }\n",
       "\n",
       "    .dataframe tbody tr th {\n",
       "        vertical-align: top;\n",
       "    }\n",
       "\n",
       "    .dataframe thead th {\n",
       "        text-align: right;\n",
       "    }\n",
       "</style>\n",
       "<table border=\"1\" class=\"dataframe\">\n",
       "  <thead>\n",
       "    <tr style=\"text-align: right;\">\n",
       "      <th></th>\n",
       "      <th>chromosome</th>\n",
       "      <th>start</th>\n",
       "      <th>end</th>\n",
       "      <th>ref</th>\n",
       "      <th>alt</th>\n",
       "      <th>split</th>\n",
       "      <th>label</th>\n",
       "      <th>Consequence</th>\n",
       "      <th>actual</th>\n",
       "    </tr>\n",
       "  </thead>\n",
       "  <tbody>\n",
       "    <tr>\n",
       "      <th>0</th>\n",
       "      <td>chr1</td>\n",
       "      <td>1055036</td>\n",
       "      <td>1055036</td>\n",
       "      <td>T</td>\n",
       "      <td>C</td>\n",
       "      <td>train</td>\n",
       "      <td>1</td>\n",
       "      <td>3_prime_UTR_variant</td>\n",
       "      <td>T</td>\n",
       "    </tr>\n",
       "    <tr>\n",
       "      <th>1</th>\n",
       "      <td>chr1</td>\n",
       "      <td>1070425</td>\n",
       "      <td>1070425</td>\n",
       "      <td>C</td>\n",
       "      <td>T</td>\n",
       "      <td>train</td>\n",
       "      <td>1</td>\n",
       "      <td>downstream_gene_variant</td>\n",
       "      <td>C</td>\n",
       "    </tr>\n",
       "    <tr>\n",
       "      <th>2</th>\n",
       "      <td>chr1</td>\n",
       "      <td>1095184</td>\n",
       "      <td>1095184</td>\n",
       "      <td>C</td>\n",
       "      <td>T</td>\n",
       "      <td>train</td>\n",
       "      <td>1</td>\n",
       "      <td>intron_variant</td>\n",
       "      <td>C</td>\n",
       "    </tr>\n",
       "    <tr>\n",
       "      <th>3</th>\n",
       "      <td>chr1</td>\n",
       "      <td>1189282</td>\n",
       "      <td>1189282</td>\n",
       "      <td>G</td>\n",
       "      <td>A</td>\n",
       "      <td>train</td>\n",
       "      <td>1</td>\n",
       "      <td>intron_variant</td>\n",
       "      <td>G</td>\n",
       "    </tr>\n",
       "    <tr>\n",
       "      <th>4</th>\n",
       "      <td>chr1</td>\n",
       "      <td>1190172</td>\n",
       "      <td>1190172</td>\n",
       "      <td>A</td>\n",
       "      <td>T</td>\n",
       "      <td>train</td>\n",
       "      <td>1</td>\n",
       "      <td>intron_variant</td>\n",
       "      <td>A</td>\n",
       "    </tr>\n",
       "  </tbody>\n",
       "</table>\n",
       "</div>"
      ],
      "text/plain": [
       "  chromosome    start      end ref alt  split  label              Consequence  \\\n",
       "0       chr1  1055036  1055036   T   C  train      1      3_prime_UTR_variant   \n",
       "1       chr1  1070425  1070425   C   T  train      1  downstream_gene_variant   \n",
       "2       chr1  1095184  1095184   C   T  train      1           intron_variant   \n",
       "3       chr1  1189282  1189282   G   A  train      1           intron_variant   \n",
       "4       chr1  1190172  1190172   A   T  train      1           intron_variant   \n",
       "\n",
       "  actual  \n",
       "0      T  \n",
       "1      C  \n",
       "2      C  \n",
       "3      G  \n",
       "4      A  "
      ]
     },
     "execution_count": 165,
     "metadata": {},
     "output_type": "execute_result"
    }
   ],
   "source": [
    "var_exp_df = pd.read_csv(VAR_EXP_FILE, sep='\\t', header=0)\n",
    "var_exp_df.head()"
   ]
  },
  {
   "cell_type": "markdown",
   "id": "c5a47be2",
   "metadata": {},
   "source": [
    "Labels indicate wheter the SNP (single nucleotide polymorphisms) has an effect on gene expression (1) or is genetic background variation (0)"
   ]
  },
  {
   "cell_type": "code",
   "execution_count": 166,
   "id": "52987bc0",
   "metadata": {},
   "outputs": [
    {
     "data": {
      "text/plain": [
       "label\n",
       "0    97326\n",
       "1     7937\n",
       "Name: count, dtype: int64"
      ]
     },
     "execution_count": 166,
     "metadata": {},
     "output_type": "execute_result"
    }
   ],
   "source": [
    "var_exp_df['label'].value_counts()"
   ]
  },
  {
   "cell_type": "code",
   "execution_count": 167,
   "id": "1bf8e424",
   "metadata": {},
   "outputs": [
    {
     "data": {
      "text/plain": [
       "chromosome\n",
       "chr1     80214\n",
       "chr10    25048\n",
       "chr9         1\n",
       "Name: count, dtype: int64"
      ]
     },
     "execution_count": 167,
     "metadata": {},
     "output_type": "execute_result"
    }
   ],
   "source": [
    "var_exp_df['chromosome'].value_counts()"
   ]
  },
  {
   "cell_type": "code",
   "execution_count": 168,
   "id": "77ef96fe",
   "metadata": {},
   "outputs": [
    {
     "data": {
      "text/plain": [
       "chromosome  label\n",
       "chr1        0        73309\n",
       "            1         6905\n",
       "chr10       0        24016\n",
       "            1         1032\n",
       "chr9        0            1\n",
       "Name: count, dtype: int64"
      ]
     },
     "execution_count": 168,
     "metadata": {},
     "output_type": "execute_result"
    }
   ],
   "source": [
    "var_exp_df.groupby('chromosome')['label'].value_counts()"
   ]
  },
  {
   "cell_type": "code",
   "execution_count": 169,
   "id": "1ea978a9",
   "metadata": {},
   "outputs": [
    {
     "data": {
      "text/plain": [
       "Consequence\n",
       "intron_variant                         60712\n",
       "intergenic_variant                     23218\n",
       "upstream_gene_variant                   6339\n",
       "downstream_gene_variant                 4581\n",
       "regulatory_region_variant               4010\n",
       "non_coding_transcript_exon_variant      3099\n",
       "3_prime_UTR_variant                     2025\n",
       "5_prime_UTR_variant                      462\n",
       "TF_binding_site_variant                  433\n",
       "splice_region_variant                    129\n",
       "splice_polypyrimidine_tract_variant      103\n",
       "missense_variant                          60\n",
       "splice_donor_region_variant               31\n",
       "synonymous_variant                        24\n",
       "splice_donor_variant                      15\n",
       "splice_donor_5th_base_variant             13\n",
       "splice_acceptor_variant                    5\n",
       "stop_lost                                  2\n",
       "mature_miRNA_variant                       2\n",
       "Name: count, dtype: int64"
      ]
     },
     "execution_count": 169,
     "metadata": {},
     "output_type": "execute_result"
    }
   ],
   "source": [
    "var_exp_df['Consequence'].value_counts()"
   ]
  },
  {
   "cell_type": "markdown",
   "id": "c2469073",
   "metadata": {},
   "source": [
    "### Distribution of SNP types\n",
    "Single Base-Pair Substitution involves the replacement of a single nucleotide base in DNA or RNA with another.\n",
    "- *Tansition*\n",
    "When a nucleotide is substituted by the another of the same type:\n",
    "    - A → G or G→A (purine type)\n",
    "    - T → C or C→T (pyrimidine type)\n",
    "- *Transversion*\n",
    "When a nucleotide of one type is substituted by one of the other type. IE:\n",
    "    - A → T (purine to pyrimidine)"
   ]
  },
  {
   "cell_type": "code",
   "execution_count": 170,
   "id": "14540e32",
   "metadata": {},
   "outputs": [
    {
     "data": {
      "text/plain": [
       "SNP_type\n",
       "transition      72202\n",
       "transversion    33061\n",
       "Name: count, dtype: int64"
      ]
     },
     "execution_count": 170,
     "metadata": {},
     "output_type": "execute_result"
    }
   ],
   "source": [
    "compute_SNP_types(var_exp_df)\n",
    "var_exp_df['SNP_type'].value_counts()"
   ]
  },
  {
   "cell_type": "code",
   "execution_count": 171,
   "id": "5911d473",
   "metadata": {},
   "outputs": [
    {
     "data": {
      "text/plain": [
       "SNP\n",
       "G-A    19186\n",
       "C-T    19039\n",
       "T-C    17052\n",
       "A-G    16925\n",
       "C-A     4531\n",
       "G-C     4476\n",
       "G-T     4438\n",
       "C-G     4340\n",
       "T-G     4094\n",
       "A-C     4044\n",
       "T-A     3610\n",
       "A-T     3528\n",
       "Name: count, dtype: int64"
      ]
     },
     "execution_count": 171,
     "metadata": {},
     "output_type": "execute_result"
    }
   ],
   "source": [
    "var_exp_df['SNP'].value_counts()"
   ]
  },
  {
   "cell_type": "code",
   "execution_count": 172,
   "id": "750bbd53",
   "metadata": {},
   "outputs": [
    {
     "data": {
      "text/html": [
       "<div>\n",
       "<style scoped>\n",
       "    .dataframe tbody tr th:only-of-type {\n",
       "        vertical-align: middle;\n",
       "    }\n",
       "\n",
       "    .dataframe tbody tr th {\n",
       "        vertical-align: top;\n",
       "    }\n",
       "\n",
       "    .dataframe thead th {\n",
       "        text-align: right;\n",
       "    }\n",
       "</style>\n",
       "<table border=\"1\" class=\"dataframe\">\n",
       "  <thead>\n",
       "    <tr style=\"text-align: right;\">\n",
       "      <th></th>\n",
       "      <th>chromosome</th>\n",
       "      <th>start</th>\n",
       "      <th>end</th>\n",
       "      <th>ref</th>\n",
       "      <th>alt</th>\n",
       "      <th>split</th>\n",
       "      <th>label</th>\n",
       "      <th>Consequence</th>\n",
       "      <th>actual</th>\n",
       "      <th>alt_type</th>\n",
       "      <th>ref_type</th>\n",
       "      <th>SNP_type</th>\n",
       "      <th>SNP</th>\n",
       "      <th>type_label</th>\n",
       "    </tr>\n",
       "  </thead>\n",
       "  <tbody>\n",
       "    <tr>\n",
       "      <th>0</th>\n",
       "      <td>chr1</td>\n",
       "      <td>1055036</td>\n",
       "      <td>1055036</td>\n",
       "      <td>T</td>\n",
       "      <td>C</td>\n",
       "      <td>train</td>\n",
       "      <td>1</td>\n",
       "      <td>3_prime_UTR_variant</td>\n",
       "      <td>T</td>\n",
       "      <td>pyrimidine</td>\n",
       "      <td>pyrimidine</td>\n",
       "      <td>transition</td>\n",
       "      <td>T-C</td>\n",
       "      <td>transition - 1</td>\n",
       "    </tr>\n",
       "    <tr>\n",
       "      <th>1</th>\n",
       "      <td>chr1</td>\n",
       "      <td>1070425</td>\n",
       "      <td>1070425</td>\n",
       "      <td>C</td>\n",
       "      <td>T</td>\n",
       "      <td>train</td>\n",
       "      <td>1</td>\n",
       "      <td>downstream_gene_variant</td>\n",
       "      <td>C</td>\n",
       "      <td>pyrimidine</td>\n",
       "      <td>pyrimidine</td>\n",
       "      <td>transition</td>\n",
       "      <td>C-T</td>\n",
       "      <td>transition - 1</td>\n",
       "    </tr>\n",
       "    <tr>\n",
       "      <th>2</th>\n",
       "      <td>chr1</td>\n",
       "      <td>1095184</td>\n",
       "      <td>1095184</td>\n",
       "      <td>C</td>\n",
       "      <td>T</td>\n",
       "      <td>train</td>\n",
       "      <td>1</td>\n",
       "      <td>intron_variant</td>\n",
       "      <td>C</td>\n",
       "      <td>pyrimidine</td>\n",
       "      <td>pyrimidine</td>\n",
       "      <td>transition</td>\n",
       "      <td>C-T</td>\n",
       "      <td>transition - 1</td>\n",
       "    </tr>\n",
       "    <tr>\n",
       "      <th>3</th>\n",
       "      <td>chr1</td>\n",
       "      <td>1189282</td>\n",
       "      <td>1189282</td>\n",
       "      <td>G</td>\n",
       "      <td>A</td>\n",
       "      <td>train</td>\n",
       "      <td>1</td>\n",
       "      <td>intron_variant</td>\n",
       "      <td>G</td>\n",
       "      <td>purine</td>\n",
       "      <td>purine</td>\n",
       "      <td>transition</td>\n",
       "      <td>G-A</td>\n",
       "      <td>transition - 1</td>\n",
       "    </tr>\n",
       "    <tr>\n",
       "      <th>4</th>\n",
       "      <td>chr1</td>\n",
       "      <td>1190172</td>\n",
       "      <td>1190172</td>\n",
       "      <td>A</td>\n",
       "      <td>T</td>\n",
       "      <td>train</td>\n",
       "      <td>1</td>\n",
       "      <td>intron_variant</td>\n",
       "      <td>A</td>\n",
       "      <td>pyrimidine</td>\n",
       "      <td>purine</td>\n",
       "      <td>transversion</td>\n",
       "      <td>A-T</td>\n",
       "      <td>transversion - 1</td>\n",
       "    </tr>\n",
       "    <tr>\n",
       "      <th>...</th>\n",
       "      <td>...</td>\n",
       "      <td>...</td>\n",
       "      <td>...</td>\n",
       "      <td>...</td>\n",
       "      <td>...</td>\n",
       "      <td>...</td>\n",
       "      <td>...</td>\n",
       "      <td>...</td>\n",
       "      <td>...</td>\n",
       "      <td>...</td>\n",
       "      <td>...</td>\n",
       "      <td>...</td>\n",
       "      <td>...</td>\n",
       "      <td>...</td>\n",
       "    </tr>\n",
       "    <tr>\n",
       "      <th>105258</th>\n",
       "      <td>chr10</td>\n",
       "      <td>67932572</td>\n",
       "      <td>67932572</td>\n",
       "      <td>T</td>\n",
       "      <td>C</td>\n",
       "      <td>train</td>\n",
       "      <td>0</td>\n",
       "      <td>intron_variant</td>\n",
       "      <td>T</td>\n",
       "      <td>pyrimidine</td>\n",
       "      <td>pyrimidine</td>\n",
       "      <td>transition</td>\n",
       "      <td>T-C</td>\n",
       "      <td>transition - 0</td>\n",
       "    </tr>\n",
       "    <tr>\n",
       "      <th>105259</th>\n",
       "      <td>chr10</td>\n",
       "      <td>67945376</td>\n",
       "      <td>67945376</td>\n",
       "      <td>A</td>\n",
       "      <td>G</td>\n",
       "      <td>train</td>\n",
       "      <td>0</td>\n",
       "      <td>intron_variant</td>\n",
       "      <td>A</td>\n",
       "      <td>purine</td>\n",
       "      <td>purine</td>\n",
       "      <td>transition</td>\n",
       "      <td>A-G</td>\n",
       "      <td>transition - 0</td>\n",
       "    </tr>\n",
       "    <tr>\n",
       "      <th>105260</th>\n",
       "      <td>chr10</td>\n",
       "      <td>67959643</td>\n",
       "      <td>67959643</td>\n",
       "      <td>A</td>\n",
       "      <td>C</td>\n",
       "      <td>train</td>\n",
       "      <td>0</td>\n",
       "      <td>intron_variant</td>\n",
       "      <td>A</td>\n",
       "      <td>pyrimidine</td>\n",
       "      <td>purine</td>\n",
       "      <td>transversion</td>\n",
       "      <td>A-C</td>\n",
       "      <td>transversion - 0</td>\n",
       "    </tr>\n",
       "    <tr>\n",
       "      <th>105261</th>\n",
       "      <td>chr10</td>\n",
       "      <td>67963971</td>\n",
       "      <td>67963971</td>\n",
       "      <td>G</td>\n",
       "      <td>T</td>\n",
       "      <td>train</td>\n",
       "      <td>0</td>\n",
       "      <td>intron_variant</td>\n",
       "      <td>G</td>\n",
       "      <td>pyrimidine</td>\n",
       "      <td>purine</td>\n",
       "      <td>transversion</td>\n",
       "      <td>G-T</td>\n",
       "      <td>transversion - 0</td>\n",
       "    </tr>\n",
       "    <tr>\n",
       "      <th>105262</th>\n",
       "      <td>chr10</td>\n",
       "      <td>67970137</td>\n",
       "      <td>67970137</td>\n",
       "      <td>T</td>\n",
       "      <td>C</td>\n",
       "      <td>train</td>\n",
       "      <td>0</td>\n",
       "      <td>intron_variant</td>\n",
       "      <td>T</td>\n",
       "      <td>pyrimidine</td>\n",
       "      <td>pyrimidine</td>\n",
       "      <td>transition</td>\n",
       "      <td>T-C</td>\n",
       "      <td>transition - 0</td>\n",
       "    </tr>\n",
       "  </tbody>\n",
       "</table>\n",
       "<p>105263 rows × 14 columns</p>\n",
       "</div>"
      ],
      "text/plain": [
       "       chromosome     start       end ref alt  split  label  \\\n",
       "0            chr1   1055036   1055036   T   C  train      1   \n",
       "1            chr1   1070425   1070425   C   T  train      1   \n",
       "2            chr1   1095184   1095184   C   T  train      1   \n",
       "3            chr1   1189282   1189282   G   A  train      1   \n",
       "4            chr1   1190172   1190172   A   T  train      1   \n",
       "...           ...       ...       ...  ..  ..    ...    ...   \n",
       "105258      chr10  67932572  67932572   T   C  train      0   \n",
       "105259      chr10  67945376  67945376   A   G  train      0   \n",
       "105260      chr10  67959643  67959643   A   C  train      0   \n",
       "105261      chr10  67963971  67963971   G   T  train      0   \n",
       "105262      chr10  67970137  67970137   T   C  train      0   \n",
       "\n",
       "                    Consequence actual    alt_type    ref_type      SNP_type  \\\n",
       "0           3_prime_UTR_variant      T  pyrimidine  pyrimidine    transition   \n",
       "1       downstream_gene_variant      C  pyrimidine  pyrimidine    transition   \n",
       "2                intron_variant      C  pyrimidine  pyrimidine    transition   \n",
       "3                intron_variant      G      purine      purine    transition   \n",
       "4                intron_variant      A  pyrimidine      purine  transversion   \n",
       "...                         ...    ...         ...         ...           ...   \n",
       "105258           intron_variant      T  pyrimidine  pyrimidine    transition   \n",
       "105259           intron_variant      A      purine      purine    transition   \n",
       "105260           intron_variant      A  pyrimidine      purine  transversion   \n",
       "105261           intron_variant      G  pyrimidine      purine  transversion   \n",
       "105262           intron_variant      T  pyrimidine  pyrimidine    transition   \n",
       "\n",
       "        SNP        type_label  \n",
       "0       T-C    transition - 1  \n",
       "1       C-T    transition - 1  \n",
       "2       C-T    transition - 1  \n",
       "3       G-A    transition - 1  \n",
       "4       A-T  transversion - 1  \n",
       "...     ...               ...  \n",
       "105258  T-C    transition - 0  \n",
       "105259  A-G    transition - 0  \n",
       "105260  A-C  transversion - 0  \n",
       "105261  G-T  transversion - 0  \n",
       "105262  T-C    transition - 0  \n",
       "\n",
       "[105263 rows x 14 columns]"
      ]
     },
     "execution_count": 172,
     "metadata": {},
     "output_type": "execute_result"
    }
   ],
   "source": [
    "var_exp_df['type_label'] = var_exp_df['SNP_type'] + ' - ' + var_exp_df['label'].astype(str)\n",
    "var_exp_df"
   ]
  },
  {
   "cell_type": "code",
   "execution_count": 173,
   "id": "1e4e351d",
   "metadata": {},
   "outputs": [
    {
     "data": {
      "text/plain": [
       "<Axes: xlabel='SNP', ylabel='count'>"
      ]
     },
     "execution_count": 173,
     "metadata": {},
     "output_type": "execute_result"
    },
    {
     "data": {
      "image/png": "[encoded data removed]",
      "text/plain": [
       "<Figure size 640x480 with 1 Axes>"
      ]
     },
     "metadata": {},
     "output_type": "display_data"
    }
   ],
   "source": [
    "sns.countplot(data=var_exp_df, x='SNP', hue='type_label', order=var_exp_df['SNP'].value_counts().index)"
   ]
  },
  {
   "cell_type": "code",
   "execution_count": 174,
   "id": "a84ed8c4",
   "metadata": {},
   "outputs": [
    {
     "data": {
      "text/plain": [
       "<Axes: xlabel='SNP', ylabel='count'>"
      ]
     },
     "execution_count": 174,
     "metadata": {},
     "output_type": "execute_result"
    },
    {
     "data": {
      "image/png": "[encoded data removed]",
      "text/plain": [
       "<Figure size 640x480 with 1 Axes>"
      ]
     },
     "metadata": {},
     "output_type": "display_data"
    }
   ],
   "source": [
    "sns.countplot(data=var_exp_df, x='SNP', hue='chromosome', order=var_exp_df['SNP'].value_counts().index)"
   ]
  },
  {
   "cell_type": "markdown",
   "id": "ae107100",
   "metadata": {},
   "source": [
    "### Does the SNP type influence the variant effect on gene expression?"
   ]
  },
  {
   "cell_type": "code",
   "execution_count": 175,
   "id": "2b66e0ad",
   "metadata": {},
   "outputs": [
    {
     "data": {
      "text/plain": [
       "Text(0.5, 1.0, 'SNP type distribution')"
      ]
     },
     "execution_count": 175,
     "metadata": {},
     "output_type": "execute_result"
    },
    {
     "data": {
      "image/png": "[encoded data removed]",
      "text/plain": [
       "<Figure size 640x480 with 1 Axes>"
      ]
     },
     "metadata": {},
     "output_type": "display_data"
    }
   ],
   "source": [
    "sns.countplot(data=var_exp_df, x='SNP_type', hue='label')\n",
    "plt.title('SNP type distribution')"
   ]
  },
  {
   "cell_type": "code",
   "execution_count": 176,
   "id": "3986c89e",
   "metadata": {},
   "outputs": [
    {
     "name": "stdout",
     "output_type": "stream",
     "text": [
      "odd ratio is : 2.6725828799511873\n",
      "p_value is : 0.0\n"
     ]
    }
   ],
   "source": [
    "import scipy.stats as stats \n",
    "\n",
    "transition_1 = len(var_exp_df[(var_exp_df['SNP_type'] == 'transition') & var_exp_df['label']==1])\n",
    "transition_0 = len(var_exp_df[(var_exp_df['SNP_type'] == 'transition') & var_exp_df['label']==0])\n",
    "transversion_1 = len(var_exp_df[(var_exp_df['SNP_type'] == 'transversion') & var_exp_df['label']==1])\n",
    "transversion_0 = len(var_exp_df[(var_exp_df['SNP_type'] == 'transversion') & var_exp_df['label']==0])\n",
    "\n",
    "contingency_table = [[transition_1, transition_0],[transversion_1, transversion_0]]\n",
    "\n",
    "# performing fishers exact test on the data\n",
    "odd_ratio, p_value = stats.fisher_exact(contingency_table)\n",
    "print('odd ratio is : ' + str(odd_ratio))\n",
    "print('p_value is : ' + str(p_value))"
   ]
  },
  {
   "cell_type": "markdown",
   "id": "3ffb2f6d",
   "metadata": {},
   "source": [
    "# Variant effect disease"
   ]
  },
  {
   "cell_type": "code",
   "execution_count": 177,
   "id": "090cd535",
   "metadata": {},
   "outputs": [
    {
     "data": {
      "text/html": [
       "<div>\n",
       "<style scoped>\n",
       "    .dataframe tbody tr th:only-of-type {\n",
       "        vertical-align: middle;\n",
       "    }\n",
       "\n",
       "    .dataframe tbody tr th {\n",
       "        vertical-align: top;\n",
       "    }\n",
       "\n",
       "    .dataframe thead th {\n",
       "        text-align: right;\n",
       "    }\n",
       "</style>\n",
       "<table border=\"1\" class=\"dataframe\">\n",
       "  <thead>\n",
       "    <tr style=\"text-align: right;\">\n",
       "      <th></th>\n",
       "      <th>chromosome</th>\n",
       "      <th>start</th>\n",
       "      <th>end</th>\n",
       "      <th>ref</th>\n",
       "      <th>alt</th>\n",
       "      <th>split</th>\n",
       "      <th>label</th>\n",
       "      <th>full_label</th>\n",
       "      <th>Consequence</th>\n",
       "    </tr>\n",
       "  </thead>\n",
       "  <tbody>\n",
       "    <tr>\n",
       "      <th>0</th>\n",
       "      <td>chr1</td>\n",
       "      <td>926024</td>\n",
       "      <td>926024</td>\n",
       "      <td>G</td>\n",
       "      <td>A</td>\n",
       "      <td>train</td>\n",
       "      <td>0</td>\n",
       "      <td>Likely benign</td>\n",
       "      <td>intron_variant</td>\n",
       "    </tr>\n",
       "    <tr>\n",
       "      <th>1</th>\n",
       "      <td>chr1</td>\n",
       "      <td>926025</td>\n",
       "      <td>926025</td>\n",
       "      <td>G</td>\n",
       "      <td>A</td>\n",
       "      <td>train</td>\n",
       "      <td>0</td>\n",
       "      <td>Likely benign</td>\n",
       "      <td>intron_variant</td>\n",
       "    </tr>\n",
       "    <tr>\n",
       "      <th>2</th>\n",
       "      <td>chr1</td>\n",
       "      <td>926026</td>\n",
       "      <td>926026</td>\n",
       "      <td>C</td>\n",
       "      <td>T</td>\n",
       "      <td>train</td>\n",
       "      <td>0</td>\n",
       "      <td>Likely benign</td>\n",
       "      <td>intron_variant</td>\n",
       "    </tr>\n",
       "    <tr>\n",
       "      <th>3</th>\n",
       "      <td>chr1</td>\n",
       "      <td>926028</td>\n",
       "      <td>926028</td>\n",
       "      <td>C</td>\n",
       "      <td>T</td>\n",
       "      <td>train</td>\n",
       "      <td>0</td>\n",
       "      <td>Likely benign</td>\n",
       "      <td>intron_variant</td>\n",
       "    </tr>\n",
       "    <tr>\n",
       "      <th>4</th>\n",
       "      <td>chr1</td>\n",
       "      <td>930135</td>\n",
       "      <td>930135</td>\n",
       "      <td>T</td>\n",
       "      <td>C</td>\n",
       "      <td>train</td>\n",
       "      <td>0</td>\n",
       "      <td>Likely benign</td>\n",
       "      <td>intron_variant</td>\n",
       "    </tr>\n",
       "  </tbody>\n",
       "</table>\n",
       "</div>"
      ],
      "text/plain": [
       "  chromosome   start     end ref alt  split  label     full_label  \\\n",
       "0       chr1  926024  926024   G   A  train      0  Likely benign   \n",
       "1       chr1  926025  926025   G   A  train      0  Likely benign   \n",
       "2       chr1  926026  926026   C   T  train      0  Likely benign   \n",
       "3       chr1  926028  926028   C   T  train      0  Likely benign   \n",
       "4       chr1  930135  930135   T   C  train      0  Likely benign   \n",
       "\n",
       "      Consequence  \n",
       "0  intron_variant  \n",
       "1  intron_variant  \n",
       "2  intron_variant  \n",
       "3  intron_variant  \n",
       "4  intron_variant  "
      ]
     },
     "execution_count": 177,
     "metadata": {},
     "output_type": "execute_result"
    }
   ],
   "source": [
    "var_dis_df = pd.read_csv(VAR_DIS_FILE, sep='\\t', header=0)\n",
    "var_dis_df.head()"
   ]
  },
  {
   "cell_type": "code",
   "execution_count": 178,
   "id": "11dce5c0",
   "metadata": {},
   "outputs": [
    {
     "data": {
      "text/plain": [
       "label\n",
       "0    274037\n",
       "1     21458\n",
       "Name: count, dtype: int64"
      ]
     },
     "execution_count": 178,
     "metadata": {},
     "output_type": "execute_result"
    }
   ],
   "source": [
    "var_dis_df['label'].value_counts()"
   ]
  },
  {
   "cell_type": "code",
   "execution_count": 179,
   "id": "1294ab85",
   "metadata": {},
   "outputs": [
    {
     "data": {
      "text/plain": [
       "chromosome\n",
       "chr2     26606\n",
       "chr1     25752\n",
       "chr11    17178\n",
       "chr17    16887\n",
       "chr3     16419\n",
       "chr9     15131\n",
       "chr5     14993\n",
       "chr16    14806\n",
       "chr19    14634\n",
       "chr7     14189\n",
       "chr12    13780\n",
       "chr6     13445\n",
       "chr10    12222\n",
       "chr15    10851\n",
       "chrX     10636\n",
       "chr4     10367\n",
       "chr8      9427\n",
       "chr14     9158\n",
       "chr22     6932\n",
       "chr20     6373\n",
       "chr18     6001\n",
       "chr13     5504\n",
       "chr21     4054\n",
       "chrY       150\n",
       "Name: count, dtype: int64"
      ]
     },
     "execution_count": 179,
     "metadata": {},
     "output_type": "execute_result"
    }
   ],
   "source": [
    "var_dis_df['chromosome'].value_counts()"
   ]
  },
  {
   "cell_type": "code",
   "execution_count": 180,
   "id": "38d205cf",
   "metadata": {},
   "outputs": [
    {
     "data": {
      "text/html": [
       "<div>\n",
       "<style scoped>\n",
       "    .dataframe tbody tr th:only-of-type {\n",
       "        vertical-align: middle;\n",
       "    }\n",
       "\n",
       "    .dataframe tbody tr th {\n",
       "        vertical-align: top;\n",
       "    }\n",
       "\n",
       "    .dataframe thead th {\n",
       "        text-align: right;\n",
       "    }\n",
       "</style>\n",
       "<table border=\"1\" class=\"dataframe\">\n",
       "  <thead>\n",
       "    <tr style=\"text-align: right;\">\n",
       "      <th></th>\n",
       "      <th>chromosome</th>\n",
       "      <th>start</th>\n",
       "      <th>end</th>\n",
       "      <th>ref</th>\n",
       "      <th>alt</th>\n",
       "      <th>split</th>\n",
       "      <th>label</th>\n",
       "      <th>full_label</th>\n",
       "      <th>Consequence</th>\n",
       "      <th>alt_type</th>\n",
       "      <th>ref_type</th>\n",
       "      <th>SNP_type</th>\n",
       "      <th>SNP</th>\n",
       "    </tr>\n",
       "  </thead>\n",
       "  <tbody>\n",
       "    <tr>\n",
       "      <th>0</th>\n",
       "      <td>chr1</td>\n",
       "      <td>926024</td>\n",
       "      <td>926024</td>\n",
       "      <td>G</td>\n",
       "      <td>A</td>\n",
       "      <td>train</td>\n",
       "      <td>0</td>\n",
       "      <td>Likely benign</td>\n",
       "      <td>intron_variant</td>\n",
       "      <td>purine</td>\n",
       "      <td>purine</td>\n",
       "      <td>transition</td>\n",
       "      <td>G-A</td>\n",
       "    </tr>\n",
       "    <tr>\n",
       "      <th>1</th>\n",
       "      <td>chr1</td>\n",
       "      <td>926025</td>\n",
       "      <td>926025</td>\n",
       "      <td>G</td>\n",
       "      <td>A</td>\n",
       "      <td>train</td>\n",
       "      <td>0</td>\n",
       "      <td>Likely benign</td>\n",
       "      <td>intron_variant</td>\n",
       "      <td>purine</td>\n",
       "      <td>purine</td>\n",
       "      <td>transition</td>\n",
       "      <td>G-A</td>\n",
       "    </tr>\n",
       "    <tr>\n",
       "      <th>2</th>\n",
       "      <td>chr1</td>\n",
       "      <td>926026</td>\n",
       "      <td>926026</td>\n",
       "      <td>C</td>\n",
       "      <td>T</td>\n",
       "      <td>train</td>\n",
       "      <td>0</td>\n",
       "      <td>Likely benign</td>\n",
       "      <td>intron_variant</td>\n",
       "      <td>pyrimidine</td>\n",
       "      <td>pyrimidine</td>\n",
       "      <td>transition</td>\n",
       "      <td>C-T</td>\n",
       "    </tr>\n",
       "    <tr>\n",
       "      <th>3</th>\n",
       "      <td>chr1</td>\n",
       "      <td>926028</td>\n",
       "      <td>926028</td>\n",
       "      <td>C</td>\n",
       "      <td>T</td>\n",
       "      <td>train</td>\n",
       "      <td>0</td>\n",
       "      <td>Likely benign</td>\n",
       "      <td>intron_variant</td>\n",
       "      <td>pyrimidine</td>\n",
       "      <td>pyrimidine</td>\n",
       "      <td>transition</td>\n",
       "      <td>C-T</td>\n",
       "    </tr>\n",
       "    <tr>\n",
       "      <th>4</th>\n",
       "      <td>chr1</td>\n",
       "      <td>930135</td>\n",
       "      <td>930135</td>\n",
       "      <td>T</td>\n",
       "      <td>C</td>\n",
       "      <td>train</td>\n",
       "      <td>0</td>\n",
       "      <td>Likely benign</td>\n",
       "      <td>intron_variant</td>\n",
       "      <td>pyrimidine</td>\n",
       "      <td>pyrimidine</td>\n",
       "      <td>transition</td>\n",
       "      <td>T-C</td>\n",
       "    </tr>\n",
       "    <tr>\n",
       "      <th>...</th>\n",
       "      <td>...</td>\n",
       "      <td>...</td>\n",
       "      <td>...</td>\n",
       "      <td>...</td>\n",
       "      <td>...</td>\n",
       "      <td>...</td>\n",
       "      <td>...</td>\n",
       "      <td>...</td>\n",
       "      <td>...</td>\n",
       "      <td>...</td>\n",
       "      <td>...</td>\n",
       "      <td>...</td>\n",
       "      <td>...</td>\n",
       "    </tr>\n",
       "    <tr>\n",
       "      <th>295490</th>\n",
       "      <td>chrX</td>\n",
       "      <td>129590144</td>\n",
       "      <td>129590144</td>\n",
       "      <td>G</td>\n",
       "      <td>C</td>\n",
       "      <td>train</td>\n",
       "      <td>1</td>\n",
       "      <td>Likely pathogenic</td>\n",
       "      <td>splice_acceptor_variant</td>\n",
       "      <td>pyrimidine</td>\n",
       "      <td>purine</td>\n",
       "      <td>transversion</td>\n",
       "      <td>G-C</td>\n",
       "    </tr>\n",
       "    <tr>\n",
       "      <th>295491</th>\n",
       "      <td>chrX</td>\n",
       "      <td>149490312</td>\n",
       "      <td>149490312</td>\n",
       "      <td>C</td>\n",
       "      <td>G</td>\n",
       "      <td>train</td>\n",
       "      <td>1</td>\n",
       "      <td>Pathogenic</td>\n",
       "      <td>splice_donor_variant</td>\n",
       "      <td>purine</td>\n",
       "      <td>pyrimidine</td>\n",
       "      <td>transversion</td>\n",
       "      <td>C-G</td>\n",
       "    </tr>\n",
       "    <tr>\n",
       "      <th>295492</th>\n",
       "      <td>chrX</td>\n",
       "      <td>149490441</td>\n",
       "      <td>149490441</td>\n",
       "      <td>T</td>\n",
       "      <td>C</td>\n",
       "      <td>train</td>\n",
       "      <td>1</td>\n",
       "      <td>Pathogenic</td>\n",
       "      <td>splice_acceptor_variant</td>\n",
       "      <td>pyrimidine</td>\n",
       "      <td>pyrimidine</td>\n",
       "      <td>transition</td>\n",
       "      <td>T-C</td>\n",
       "    </tr>\n",
       "    <tr>\n",
       "      <th>295493</th>\n",
       "      <td>chrX</td>\n",
       "      <td>153864819</td>\n",
       "      <td>153864819</td>\n",
       "      <td>C</td>\n",
       "      <td>A</td>\n",
       "      <td>train</td>\n",
       "      <td>1</td>\n",
       "      <td>Likely pathogenic</td>\n",
       "      <td>splice_donor_variant</td>\n",
       "      <td>purine</td>\n",
       "      <td>pyrimidine</td>\n",
       "      <td>transversion</td>\n",
       "      <td>C-A</td>\n",
       "    </tr>\n",
       "    <tr>\n",
       "      <th>295494</th>\n",
       "      <td>chrX</td>\n",
       "      <td>154354811</td>\n",
       "      <td>154354811</td>\n",
       "      <td>C</td>\n",
       "      <td>G</td>\n",
       "      <td>train</td>\n",
       "      <td>0</td>\n",
       "      <td>Likely benign</td>\n",
       "      <td>intron_variant</td>\n",
       "      <td>purine</td>\n",
       "      <td>pyrimidine</td>\n",
       "      <td>transversion</td>\n",
       "      <td>C-G</td>\n",
       "    </tr>\n",
       "  </tbody>\n",
       "</table>\n",
       "<p>295495 rows × 13 columns</p>\n",
       "</div>"
      ],
      "text/plain": [
       "       chromosome      start        end ref alt  split  label  \\\n",
       "0            chr1     926024     926024   G   A  train      0   \n",
       "1            chr1     926025     926025   G   A  train      0   \n",
       "2            chr1     926026     926026   C   T  train      0   \n",
       "3            chr1     926028     926028   C   T  train      0   \n",
       "4            chr1     930135     930135   T   C  train      0   \n",
       "...           ...        ...        ...  ..  ..    ...    ...   \n",
       "295490       chrX  129590144  129590144   G   C  train      1   \n",
       "295491       chrX  149490312  149490312   C   G  train      1   \n",
       "295492       chrX  149490441  149490441   T   C  train      1   \n",
       "295493       chrX  153864819  153864819   C   A  train      1   \n",
       "295494       chrX  154354811  154354811   C   G  train      0   \n",
       "\n",
       "               full_label              Consequence    alt_type    ref_type  \\\n",
       "0           Likely benign           intron_variant      purine      purine   \n",
       "1           Likely benign           intron_variant      purine      purine   \n",
       "2           Likely benign           intron_variant  pyrimidine  pyrimidine   \n",
       "3           Likely benign           intron_variant  pyrimidine  pyrimidine   \n",
       "4           Likely benign           intron_variant  pyrimidine  pyrimidine   \n",
       "...                   ...                      ...         ...         ...   \n",
       "295490  Likely pathogenic  splice_acceptor_variant  pyrimidine      purine   \n",
       "295491         Pathogenic     splice_donor_variant      purine  pyrimidine   \n",
       "295492         Pathogenic  splice_acceptor_variant  pyrimidine  pyrimidine   \n",
       "295493  Likely pathogenic     splice_donor_variant      purine  pyrimidine   \n",
       "295494      Likely benign           intron_variant      purine  pyrimidine   \n",
       "\n",
       "            SNP_type  SNP  \n",
       "0         transition  G-A  \n",
       "1         transition  G-A  \n",
       "2         transition  C-T  \n",
       "3         transition  C-T  \n",
       "4         transition  T-C  \n",
       "...              ...  ...  \n",
       "295490  transversion  G-C  \n",
       "295491  transversion  C-G  \n",
       "295492    transition  T-C  \n",
       "295493  transversion  C-A  \n",
       "295494  transversion  C-G  \n",
       "\n",
       "[295495 rows x 13 columns]"
      ]
     },
     "execution_count": 180,
     "metadata": {},
     "output_type": "execute_result"
    }
   ],
   "source": [
    "compute_SNP_types(var_dis_df)\n",
    "var_dis_df\n"
   ]
  },
  {
   "cell_type": "code",
   "execution_count": 181,
   "id": "5811a847",
   "metadata": {},
   "outputs": [
    {
     "data": {
      "text/plain": [
       "<Axes: xlabel='SNP', ylabel='count'>"
      ]
     },
     "execution_count": 181,
     "metadata": {},
     "output_type": "execute_result"
    },
    {
     "data": {
      "image/png": "[encoded data removed]",
      "text/plain": [
       "<Figure size 640x480 with 1 Axes>"
      ]
     },
     "metadata": {},
     "output_type": "display_data"
    }
   ],
   "source": [
    "sns.countplot(data=var_dis_df, x='SNP', hue='label', order=var_dis_df['SNP'].value_counts().index)"
   ]
  },
  {
   "cell_type": "code",
   "execution_count": null,
   "id": "21bb16e9",
   "metadata": {},
   "outputs": [],
   "source": []
  }
 ],
 "metadata": {
  "kernelspec": {
   "display_name": "bend",
   "language": "python",
   "name": "python3"
  },
  "language_info": {
   "codemirror_mode": {
    "name": "ipython",
    "version": 3
   },
   "file_extension": ".py",
   "mimetype": "text/x-python",
   "name": "python",
   "nbconvert_exporter": "python",
   "pygments_lexer": "ipython3",
   "version": "3.10.16"
  }
 },
 "nbformat": 4,
 "nbformat_minor": 5
}
