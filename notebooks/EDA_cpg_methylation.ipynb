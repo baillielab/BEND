{
 "cells": [
  {
   "cell_type": "code",
   "execution_count": 1,
   "id": "8b242705",
   "metadata": {},
   "outputs": [],
   "source": [
    "import pandas as pd\n",
    "\n",
    "CPG_FILE = '../data/cpg_methylation/cpg_methylation.bed'"
   ]
  },
  {
   "cell_type": "code",
   "execution_count": 3,
   "id": "86df285e",
   "metadata": {},
   "outputs": [
    {
     "data": {
      "text/html": [
       "<div>\n",
       "<style scoped>\n",
       "    .dataframe tbody tr th:only-of-type {\n",
       "        vertical-align: middle;\n",
       "    }\n",
       "\n",
       "    .dataframe tbody tr th {\n",
       "        vertical-align: top;\n",
       "    }\n",
       "\n",
       "    .dataframe thead th {\n",
       "        text-align: right;\n",
       "    }\n",
       "</style>\n",
       "<table border=\"1\" class=\"dataframe\">\n",
       "  <thead>\n",
       "    <tr style=\"text-align: right;\">\n",
       "      <th></th>\n",
       "      <th>chromosome</th>\n",
       "      <th>start</th>\n",
       "      <th>end</th>\n",
       "      <th>strand</th>\n",
       "      <th>label</th>\n",
       "      <th>split</th>\n",
       "    </tr>\n",
       "  </thead>\n",
       "  <tbody>\n",
       "    <tr>\n",
       "      <th>0</th>\n",
       "      <td>chr1</td>\n",
       "      <td>134839</td>\n",
       "      <td>135351</td>\n",
       "      <td>+</td>\n",
       "      <td>0,1,2,3,4,5,6</td>\n",
       "      <td>train</td>\n",
       "    </tr>\n",
       "    <tr>\n",
       "      <th>1</th>\n",
       "      <td>chr1</td>\n",
       "      <td>134946</td>\n",
       "      <td>135458</td>\n",
       "      <td>+</td>\n",
       "      <td>0,1,2,3,4,5,6</td>\n",
       "      <td>train</td>\n",
       "    </tr>\n",
       "    <tr>\n",
       "      <th>2</th>\n",
       "      <td>chr1</td>\n",
       "      <td>134951</td>\n",
       "      <td>135463</td>\n",
       "      <td>+</td>\n",
       "      <td>0,1,2,3,4,5,6</td>\n",
       "      <td>train</td>\n",
       "    </tr>\n",
       "    <tr>\n",
       "      <th>3</th>\n",
       "      <td>chr1</td>\n",
       "      <td>139110</td>\n",
       "      <td>139622</td>\n",
       "      <td>+</td>\n",
       "      <td>0,1,2,3,4,5,6</td>\n",
       "      <td>train</td>\n",
       "    </tr>\n",
       "    <tr>\n",
       "      <th>4</th>\n",
       "      <td>chr1</td>\n",
       "      <td>180816</td>\n",
       "      <td>181328</td>\n",
       "      <td>+</td>\n",
       "      <td>0,1,2,3,4,5,6</td>\n",
       "      <td>train</td>\n",
       "    </tr>\n",
       "    <tr>\n",
       "      <th>...</th>\n",
       "      <td>...</td>\n",
       "      <td>...</td>\n",
       "      <td>...</td>\n",
       "      <td>...</td>\n",
       "      <td>...</td>\n",
       "      <td>...</td>\n",
       "    </tr>\n",
       "    <tr>\n",
       "      <th>959034</th>\n",
       "      <td>chrY</td>\n",
       "      <td>6535336</td>\n",
       "      <td>6535848</td>\n",
       "      <td>-</td>\n",
       "      <td>0,1,2,3,4,5,6</td>\n",
       "      <td>train</td>\n",
       "    </tr>\n",
       "    <tr>\n",
       "      <th>959035</th>\n",
       "      <td>chrY</td>\n",
       "      <td>6535372</td>\n",
       "      <td>6535884</td>\n",
       "      <td>+</td>\n",
       "      <td>0,1,2,3,4,5,6</td>\n",
       "      <td>train</td>\n",
       "    </tr>\n",
       "    <tr>\n",
       "      <th>959036</th>\n",
       "      <td>chrY</td>\n",
       "      <td>6744500</td>\n",
       "      <td>6745012</td>\n",
       "      <td>+</td>\n",
       "      <td>4</td>\n",
       "      <td>train</td>\n",
       "    </tr>\n",
       "    <tr>\n",
       "      <th>959037</th>\n",
       "      <td>chrY</td>\n",
       "      <td>10223411</td>\n",
       "      <td>10223923</td>\n",
       "      <td>-</td>\n",
       "      <td>NaN</td>\n",
       "      <td>train</td>\n",
       "    </tr>\n",
       "    <tr>\n",
       "      <th>959038</th>\n",
       "      <td>chrY</td>\n",
       "      <td>11395623</td>\n",
       "      <td>11396135</td>\n",
       "      <td>-</td>\n",
       "      <td>4</td>\n",
       "      <td>train</td>\n",
       "    </tr>\n",
       "  </tbody>\n",
       "</table>\n",
       "<p>959039 rows × 6 columns</p>\n",
       "</div>"
      ],
      "text/plain": [
       "       chromosome     start       end strand          label  split\n",
       "0            chr1    134839    135351      +  0,1,2,3,4,5,6  train\n",
       "1            chr1    134946    135458      +  0,1,2,3,4,5,6  train\n",
       "2            chr1    134951    135463      +  0,1,2,3,4,5,6  train\n",
       "3            chr1    139110    139622      +  0,1,2,3,4,5,6  train\n",
       "4            chr1    180816    181328      +  0,1,2,3,4,5,6  train\n",
       "...           ...       ...       ...    ...            ...    ...\n",
       "959034       chrY   6535336   6535848      -  0,1,2,3,4,5,6  train\n",
       "959035       chrY   6535372   6535884      +  0,1,2,3,4,5,6  train\n",
       "959036       chrY   6744500   6745012      +              4  train\n",
       "959037       chrY  10223411  10223923      -            NaN  train\n",
       "959038       chrY  11395623  11396135      -              4  train\n",
       "\n",
       "[959039 rows x 6 columns]"
      ]
     },
     "execution_count": 3,
     "metadata": {},
     "output_type": "execute_result"
    }
   ],
   "source": [
    "annotations = pd.read_csv(CPG_FILE, sep='\\t', low_memory=False)\n",
    "annotations"
   ]
  },
  {
   "cell_type": "code",
   "execution_count": 4,
   "id": "22bfa5e6",
   "metadata": {},
   "outputs": [
    {
     "data": {
      "text/plain": [
       "count    959039.0\n",
       "mean        512.0\n",
       "std           0.0\n",
       "min         512.0\n",
       "25%         512.0\n",
       "50%         512.0\n",
       "75%         512.0\n",
       "max         512.0\n",
       "Name: length, dtype: float64"
      ]
     },
     "execution_count": 4,
     "metadata": {},
     "output_type": "execute_result"
    }
   ],
   "source": [
    "annotations['length'] = annotations['end'] - annotations['start']\n",
    "annotations['length'].describe()"
   ]
  },
  {
   "cell_type": "code",
   "execution_count": 5,
   "id": "70d21700",
   "metadata": {},
   "outputs": [
    {
     "data": {
      "text/plain": [
       "split\n",
       "train    743095\n",
       "valid    109717\n",
       "test     106227\n",
       "Name: count, dtype: int64"
      ]
     },
     "execution_count": 5,
     "metadata": {},
     "output_type": "execute_result"
    }
   ],
   "source": [
    "annotations['split'].value_counts()"
   ]
  },
  {
   "cell_type": "code",
   "execution_count": 6,
   "id": "74b623a8",
   "metadata": {},
   "outputs": [
    {
     "data": {
      "text/plain": [
       "strand\n",
       "-    512737\n",
       "+    446302\n",
       "Name: count, dtype: int64"
      ]
     },
     "execution_count": 6,
     "metadata": {},
     "output_type": "execute_result"
    }
   ],
   "source": [
    "annotations['strand'].value_counts()"
   ]
  },
  {
   "cell_type": "code",
   "execution_count": null,
   "id": "aca8b6a9",
   "metadata": {},
   "outputs": [],
   "source": []
  }
 ],
 "metadata": {
  "kernelspec": {
   "display_name": "bend",
   "language": "python",
   "name": "python3"
  },
  "language_info": {
   "codemirror_mode": {
    "name": "ipython",
    "version": 3
   },
   "file_extension": ".py",
   "mimetype": "text/x-python",
   "name": "python",
   "nbconvert_exporter": "python",
   "pygments_lexer": "ipython3",
   "version": "3.10.16"
  }
 },
 "nbformat": 4,
 "nbformat_minor": 5
}
