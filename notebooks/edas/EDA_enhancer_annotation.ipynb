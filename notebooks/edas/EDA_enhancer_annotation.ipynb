{
 "cells": [
  {
   "cell_type": "code",
   "execution_count": 1,
   "id": "f4245d69",
   "metadata": {},
   "outputs": [],
   "source": [
    "import h5py\n",
    "import numpy as np\n",
    "import pandas as pd\n",
    "import os\n",
    "import seaborn as sns\n",
    "from utils import DATA_DIR, load_annotations, plot_seq_overlap\n",
    "\n",
    "TASK = 'enhancer_annotation'\n",
    "H5_FILE = os.path.join(DATA_DIR, TASK, f'{TASK}.hdf5')"
   ]
  },
  {
   "cell_type": "code",
   "execution_count": 2,
   "id": "14707b82",
   "metadata": {},
   "outputs": [
    {
     "data": {
      "text/html": [
       "<div>\n",
       "<style scoped>\n",
       "    .dataframe tbody tr th:only-of-type {\n",
       "        vertical-align: middle;\n",
       "    }\n",
       "\n",
       "    .dataframe tbody tr th {\n",
       "        vertical-align: top;\n",
       "    }\n",
       "\n",
       "    .dataframe thead th {\n",
       "        text-align: right;\n",
       "    }\n",
       "</style>\n",
       "<table border=\"1\" class=\"dataframe\">\n",
       "  <thead>\n",
       "    <tr style=\"text-align: right;\">\n",
       "      <th></th>\n",
       "      <th>chromosome</th>\n",
       "      <th>start</th>\n",
       "      <th>end</th>\n",
       "      <th>gene</th>\n",
       "      <th>score</th>\n",
       "      <th>strand</th>\n",
       "      <th>split</th>\n",
       "    </tr>\n",
       "  </thead>\n",
       "  <tbody>\n",
       "    <tr>\n",
       "      <th>0</th>\n",
       "      <td>10</td>\n",
       "      <td>104288458</td>\n",
       "      <td>104388554</td>\n",
       "      <td>ITPRIP</td>\n",
       "      <td>NaN</td>\n",
       "      <td>.</td>\n",
       "      <td>part2</td>\n",
       "    </tr>\n",
       "    <tr>\n",
       "      <th>1</th>\n",
       "      <td>1</td>\n",
       "      <td>180582042</td>\n",
       "      <td>180682138</td>\n",
       "      <td>XPR1</td>\n",
       "      <td>NaN</td>\n",
       "      <td>.</td>\n",
       "      <td>part9</td>\n",
       "    </tr>\n",
       "    <tr>\n",
       "      <th>2</th>\n",
       "      <td>11</td>\n",
       "      <td>263962</td>\n",
       "      <td>364058</td>\n",
       "      <td>IFITM1</td>\n",
       "      <td>NaN</td>\n",
       "      <td>.</td>\n",
       "      <td>part5</td>\n",
       "    </tr>\n",
       "    <tr>\n",
       "      <th>3</th>\n",
       "      <td>1</td>\n",
       "      <td>225377934</td>\n",
       "      <td>225478030</td>\n",
       "      <td>LBR</td>\n",
       "      <td>NaN</td>\n",
       "      <td>.</td>\n",
       "      <td>part9</td>\n",
       "    </tr>\n",
       "    <tr>\n",
       "      <th>4</th>\n",
       "      <td>1</td>\n",
       "      <td>247807202</td>\n",
       "      <td>247907298</td>\n",
       "      <td>TRIM58</td>\n",
       "      <td>NaN</td>\n",
       "      <td>.</td>\n",
       "      <td>part9</td>\n",
       "    </tr>\n",
       "    <tr>\n",
       "      <th>...</th>\n",
       "      <td>...</td>\n",
       "      <td>...</td>\n",
       "      <td>...</td>\n",
       "      <td>...</td>\n",
       "      <td>...</td>\n",
       "      <td>...</td>\n",
       "      <td>...</td>\n",
       "    </tr>\n",
       "    <tr>\n",
       "      <th>280</th>\n",
       "      <td>19</td>\n",
       "      <td>12619423</td>\n",
       "      <td>12719519</td>\n",
       "      <td>WDR83OS</td>\n",
       "      <td>NaN</td>\n",
       "      <td>.</td>\n",
       "      <td>part6</td>\n",
       "    </tr>\n",
       "    <tr>\n",
       "      <th>281</th>\n",
       "      <td>19</td>\n",
       "      <td>12888591</td>\n",
       "      <td>12988687</td>\n",
       "      <td>CALR</td>\n",
       "      <td>NaN</td>\n",
       "      <td>.</td>\n",
       "      <td>part6</td>\n",
       "    </tr>\n",
       "    <tr>\n",
       "      <th>282</th>\n",
       "      <td>3</td>\n",
       "      <td>129133800</td>\n",
       "      <td>129233896</td>\n",
       "      <td>CNBP</td>\n",
       "      <td>NaN</td>\n",
       "      <td>.</td>\n",
       "      <td>part4</td>\n",
       "    </tr>\n",
       "    <tr>\n",
       "      <th>283</th>\n",
       "      <td>12</td>\n",
       "      <td>54369206</td>\n",
       "      <td>54469302</td>\n",
       "      <td>ITGA5</td>\n",
       "      <td>NaN</td>\n",
       "      <td>.</td>\n",
       "      <td>part5</td>\n",
       "    </tr>\n",
       "    <tr>\n",
       "      <th>284</th>\n",
       "      <td>19</td>\n",
       "      <td>12756632</td>\n",
       "      <td>12856728</td>\n",
       "      <td>RNASEH2A</td>\n",
       "      <td>NaN</td>\n",
       "      <td>.</td>\n",
       "      <td>part6</td>\n",
       "    </tr>\n",
       "  </tbody>\n",
       "</table>\n",
       "<p>285 rows × 7 columns</p>\n",
       "</div>"
      ],
      "text/plain": [
       "    chromosome      start        end      gene  score strand  split\n",
       "0           10  104288458  104388554    ITPRIP    NaN      .  part2\n",
       "1            1  180582042  180682138      XPR1    NaN      .  part9\n",
       "2           11     263962     364058    IFITM1    NaN      .  part5\n",
       "3            1  225377934  225478030       LBR    NaN      .  part9\n",
       "4            1  247807202  247907298    TRIM58    NaN      .  part9\n",
       "..         ...        ...        ...       ...    ...    ...    ...\n",
       "280         19   12619423   12719519   WDR83OS    NaN      .  part6\n",
       "281         19   12888591   12988687      CALR    NaN      .  part6\n",
       "282          3  129133800  129233896      CNBP    NaN      .  part4\n",
       "283         12   54369206   54469302     ITGA5    NaN      .  part5\n",
       "284         19   12756632   12856728  RNASEH2A    NaN      .  part6\n",
       "\n",
       "[285 rows x 7 columns]"
      ]
     },
     "execution_count": 2,
     "metadata": {},
     "output_type": "execute_result"
    }
   ],
   "source": [
    "annotations = load_annotations(TASK)\n",
    "annotations"
   ]
  },
  {
   "cell_type": "code",
   "execution_count": 3,
   "id": "21d0a21c",
   "metadata": {},
   "outputs": [
    {
     "name": "stdout",
     "output_type": "stream",
     "text": [
      "Number of annotations with overlaps: 31.0\n",
      "Total number of samples: 285\n",
      "Percentage of annotations with overlaps: 10.88%\n"
     ]
    },
    {
     "data": {
      "image/png": "[encoded data removed]",
      "text/plain": [
       "<Figure size 640x480 with 1 Axes>"
      ]
     },
     "metadata": {},
     "output_type": "display_data"
    }
   ],
   "source": [
    "overlaps = plot_seq_overlap(annotations)"
   ]
  },
  {
   "cell_type": "code",
   "execution_count": 4,
   "id": "d1510cb2",
   "metadata": {},
   "outputs": [
    {
     "data": {
      "text/html": [
       "<div>\n",
       "<style scoped>\n",
       "    .dataframe tbody tr th:only-of-type {\n",
       "        vertical-align: middle;\n",
       "    }\n",
       "\n",
       "    .dataframe tbody tr th {\n",
       "        vertical-align: top;\n",
       "    }\n",
       "\n",
       "    .dataframe thead th {\n",
       "        text-align: right;\n",
       "    }\n",
       "</style>\n",
       "<table border=\"1\" class=\"dataframe\">\n",
       "  <thead>\n",
       "    <tr style=\"text-align: right;\">\n",
       "      <th></th>\n",
       "      <th>length</th>\n",
       "      <th>overlap</th>\n",
       "      <th>pct_overlap</th>\n",
       "    </tr>\n",
       "  </thead>\n",
       "  <tbody>\n",
       "    <tr>\n",
       "      <th>count</th>\n",
       "      <td>31.0</td>\n",
       "      <td>31.000000</td>\n",
       "      <td>31.000000</td>\n",
       "    </tr>\n",
       "    <tr>\n",
       "      <th>mean</th>\n",
       "      <td>100096.0</td>\n",
       "      <td>62435.838710</td>\n",
       "      <td>62.375958</td>\n",
       "    </tr>\n",
       "    <tr>\n",
       "      <th>std</th>\n",
       "      <td>0.0</td>\n",
       "      <td>27492.351874</td>\n",
       "      <td>27.465985</td>\n",
       "    </tr>\n",
       "    <tr>\n",
       "      <th>min</th>\n",
       "      <td>100096.0</td>\n",
       "      <td>3624.000000</td>\n",
       "      <td>3.620524</td>\n",
       "    </tr>\n",
       "    <tr>\n",
       "      <th>25%</th>\n",
       "      <td>100096.0</td>\n",
       "      <td>43068.500000</td>\n",
       "      <td>43.027194</td>\n",
       "    </tr>\n",
       "    <tr>\n",
       "      <th>50%</th>\n",
       "      <td>100096.0</td>\n",
       "      <td>60161.000000</td>\n",
       "      <td>60.103301</td>\n",
       "    </tr>\n",
       "    <tr>\n",
       "      <th>75%</th>\n",
       "      <td>100096.0</td>\n",
       "      <td>88650.500000</td>\n",
       "      <td>88.565477</td>\n",
       "    </tr>\n",
       "    <tr>\n",
       "      <th>max</th>\n",
       "      <td>100096.0</td>\n",
       "      <td>99840.000000</td>\n",
       "      <td>99.744246</td>\n",
       "    </tr>\n",
       "  </tbody>\n",
       "</table>\n",
       "</div>"
      ],
      "text/plain": [
       "         length       overlap  pct_overlap\n",
       "count      31.0     31.000000    31.000000\n",
       "mean   100096.0  62435.838710    62.375958\n",
       "std         0.0  27492.351874    27.465985\n",
       "min    100096.0   3624.000000     3.620524\n",
       "25%    100096.0  43068.500000    43.027194\n",
       "50%    100096.0  60161.000000    60.103301\n",
       "75%    100096.0  88650.500000    88.565477\n",
       "max    100096.0  99840.000000    99.744246"
      ]
     },
     "execution_count": 4,
     "metadata": {},
     "output_type": "execute_result"
    }
   ],
   "source": [
    "overlaps.describe()"
   ]
  },
  {
   "cell_type": "code",
   "execution_count": 6,
   "id": "f19b5ebd",
   "metadata": {},
   "outputs": [
    {
     "data": {
      "text/plain": [
       "True"
      ]
     },
     "execution_count": 6,
     "metadata": {},
     "output_type": "execute_result"
    }
   ],
   "source": [
    "len(annotations) == len(annotations['gene'].unique())"
   ]
  },
  {
   "cell_type": "code",
   "execution_count": 7,
   "id": "a38e8456",
   "metadata": {},
   "outputs": [
    {
     "data": {
      "text/plain": [
       "count       285.0\n",
       "mean     100096.0\n",
       "std           0.0\n",
       "min      100096.0\n",
       "25%      100096.0\n",
       "50%      100096.0\n",
       "75%      100096.0\n",
       "max      100096.0\n",
       "Name: length, dtype: float64"
      ]
     },
     "execution_count": 7,
     "metadata": {},
     "output_type": "execute_result"
    }
   ],
   "source": [
    "annotations['length'] = annotations['end'] - annotations['start']\n",
    "annotations['length'].describe()"
   ]
  },
  {
   "cell_type": "code",
   "execution_count": 8,
   "id": "dc2d8a92",
   "metadata": {},
   "outputs": [
    {
     "data": {
      "text/plain": [
       "split\n",
       "part9     35\n",
       "part10    33\n",
       "part6     31\n",
       "part5     28\n",
       "part3     28\n",
       "part4     28\n",
       "part2     27\n",
       "part1     27\n",
       "part8     24\n",
       "part7     24\n",
       "Name: count, dtype: int64"
      ]
     },
     "execution_count": 8,
     "metadata": {},
     "output_type": "execute_result"
    }
   ],
   "source": [
    "annotations['split'].value_counts()"
   ]
  },
  {
   "cell_type": "markdown",
   "id": "c2b889cf",
   "metadata": {},
   "source": [
    "Sequences are 100096 bp long, however the labels for each sequence are just 782.\n",
    "The reason being that each label applies to a binned dna segment of 128 bp. The label will be 1 if the binned segment contains at least 1 nucleotide lying in the enhancer element, 0 otherwise."
   ]
  },
  {
   "cell_type": "code",
   "execution_count": 9,
   "id": "a0ae9828",
   "metadata": {},
   "outputs": [
    {
     "data": {
      "text/plain": [
       "<Axes: >"
      ]
     },
     "execution_count": 9,
     "metadata": {},
     "output_type": "execute_result"
    },
    {
     "data": {
      "image/png": "[encoded data removed]",
      "text/plain": [
       "<Figure size 640x480 with 1 Axes>"
      ]
     },
     "metadata": {},
     "output_type": "display_data"
    }
   ],
   "source": [
    "# Occurrence of enhancers across dna sequence positions\n",
    "\n",
    "labels_data = np.array(h5py.File(H5_FILE, 'r')['labels'])\n",
    "enhancers_spread = labels_data.sum(axis=0)\n",
    "enhancers_spread\n",
    "\n",
    "sns.lineplot(enhancers_spread)\n"
   ]
  },
  {
   "cell_type": "markdown",
   "id": "f158b4a6",
   "metadata": {},
   "source": [
    "The graph shows the distribution of 1 labels in the binned dna segments."
   ]
  },
  {
   "cell_type": "code",
   "execution_count": null,
   "id": "fd13680c",
   "metadata": {},
   "outputs": [],
   "source": []
  }
 ],
 "metadata": {
  "kernelspec": {
   "display_name": "bend",
   "language": "python",
   "name": "python3"
  },
  "language_info": {
   "codemirror_mode": {
    "name": "ipython",
    "version": 3
   },
   "file_extension": ".py",
   "mimetype": "text/x-python",
   "name": "python",
   "nbconvert_exporter": "python",
   "pygments_lexer": "ipython3",
   "version": "3.10.16"
  }
 },
 "nbformat": 4,
 "nbformat_minor": 5
}
