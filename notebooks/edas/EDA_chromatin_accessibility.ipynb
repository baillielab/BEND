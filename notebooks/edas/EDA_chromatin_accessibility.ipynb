{
 "cells": [
  {
   "cell_type": "code",
   "execution_count": 1,
   "id": "da8a53c5",
   "metadata": {},
   "outputs": [],
   "source": [
    "import pandas as pd\n",
    "import seaborn as sns\n",
    "import matplotlib.pyplot as plt\n",
    "from utils import plot_chr_in_splits, load_annotations, get_labels, plot_seq_overlap\n",
    "import os\n",
    "\n",
    "TASK = 'chromatin_accessibility'\n",
    "LABEL_DEPTH = 125"
   ]
  },
  {
   "cell_type": "code",
   "execution_count": 2,
   "id": "e1ac4571",
   "metadata": {},
   "outputs": [
    {
     "data": {
      "text/html": [
       "<div>\n",
       "<style scoped>\n",
       "    .dataframe tbody tr th:only-of-type {\n",
       "        vertical-align: middle;\n",
       "    }\n",
       "\n",
       "    .dataframe tbody tr th {\n",
       "        vertical-align: top;\n",
       "    }\n",
       "\n",
       "    .dataframe thead th {\n",
       "        text-align: right;\n",
       "    }\n",
       "</style>\n",
       "<table border=\"1\" class=\"dataframe\">\n",
       "  <thead>\n",
       "    <tr style=\"text-align: right;\">\n",
       "      <th></th>\n",
       "      <th>chromosome</th>\n",
       "      <th>start</th>\n",
       "      <th>end</th>\n",
       "      <th>score</th>\n",
       "      <th>-</th>\n",
       "      <th>strand</th>\n",
       "      <th>label</th>\n",
       "      <th>split</th>\n",
       "    </tr>\n",
       "  </thead>\n",
       "  <tbody>\n",
       "    <tr>\n",
       "      <th>0</th>\n",
       "      <td>13</td>\n",
       "      <td>19144364</td>\n",
       "      <td>19144876</td>\n",
       "      <td>.</td>\n",
       "      <td>1</td>\n",
       "      <td>+</td>\n",
       "      <td>4</td>\n",
       "      <td>train</td>\n",
       "    </tr>\n",
       "    <tr>\n",
       "      <th>1</th>\n",
       "      <td>13</td>\n",
       "      <td>19168839</td>\n",
       "      <td>19169351</td>\n",
       "      <td>.</td>\n",
       "      <td>1</td>\n",
       "      <td>+</td>\n",
       "      <td>72</td>\n",
       "      <td>train</td>\n",
       "    </tr>\n",
       "    <tr>\n",
       "      <th>2</th>\n",
       "      <td>13</td>\n",
       "      <td>19170044</td>\n",
       "      <td>19170556</td>\n",
       "      <td>.</td>\n",
       "      <td>1</td>\n",
       "      <td>+</td>\n",
       "      <td>25</td>\n",
       "      <td>train</td>\n",
       "    </tr>\n",
       "    <tr>\n",
       "      <th>3</th>\n",
       "      <td>13</td>\n",
       "      <td>19172161</td>\n",
       "      <td>19172673</td>\n",
       "      <td>.</td>\n",
       "      <td>1</td>\n",
       "      <td>+</td>\n",
       "      <td>2,8,10,21,26,29,48,118</td>\n",
       "      <td>train</td>\n",
       "    </tr>\n",
       "    <tr>\n",
       "      <th>4</th>\n",
       "      <td>13</td>\n",
       "      <td>19172651</td>\n",
       "      <td>19173163</td>\n",
       "      <td>.</td>\n",
       "      <td>1</td>\n",
       "      <td>+</td>\n",
       "      <td>0,2,21,22,24,36,38,116,121</td>\n",
       "      <td>train</td>\n",
       "    </tr>\n",
       "    <tr>\n",
       "      <th>...</th>\n",
       "      <td>...</td>\n",
       "      <td>...</td>\n",
       "      <td>...</td>\n",
       "      <td>...</td>\n",
       "      <td>...</td>\n",
       "      <td>...</td>\n",
       "      <td>...</td>\n",
       "      <td>...</td>\n",
       "    </tr>\n",
       "    <tr>\n",
       "      <th>2062124</th>\n",
       "      <td>17</td>\n",
       "      <td>81185397</td>\n",
       "      <td>81185909</td>\n",
       "      <td>.</td>\n",
       "      <td>1</td>\n",
       "      <td>+</td>\n",
       "      <td>42,44,47,55,58,59,61,65,66,73,79,82,84,86,88,9...</td>\n",
       "      <td>train</td>\n",
       "    </tr>\n",
       "    <tr>\n",
       "      <th>2062125</th>\n",
       "      <td>17</td>\n",
       "      <td>81188729</td>\n",
       "      <td>81189241</td>\n",
       "      <td>.</td>\n",
       "      <td>1</td>\n",
       "      <td>+</td>\n",
       "      <td>95,117,118</td>\n",
       "      <td>train</td>\n",
       "    </tr>\n",
       "    <tr>\n",
       "      <th>2062126</th>\n",
       "      <td>17</td>\n",
       "      <td>81189569</td>\n",
       "      <td>81190081</td>\n",
       "      <td>.</td>\n",
       "      <td>1</td>\n",
       "      <td>+</td>\n",
       "      <td>117,118</td>\n",
       "      <td>train</td>\n",
       "    </tr>\n",
       "    <tr>\n",
       "      <th>2062127</th>\n",
       "      <td>17</td>\n",
       "      <td>81190044</td>\n",
       "      <td>81190556</td>\n",
       "      <td>.</td>\n",
       "      <td>1</td>\n",
       "      <td>+</td>\n",
       "      <td>103,117,118,122</td>\n",
       "      <td>train</td>\n",
       "    </tr>\n",
       "    <tr>\n",
       "      <th>2062128</th>\n",
       "      <td>17</td>\n",
       "      <td>81194757</td>\n",
       "      <td>81195269</td>\n",
       "      <td>.</td>\n",
       "      <td>1</td>\n",
       "      <td>+</td>\n",
       "      <td>19,33,54,94,101</td>\n",
       "      <td>train</td>\n",
       "    </tr>\n",
       "  </tbody>\n",
       "</table>\n",
       "<p>2062129 rows × 8 columns</p>\n",
       "</div>"
      ],
      "text/plain": [
       "        chromosome     start       end score  - strand  \\\n",
       "0               13  19144364  19144876     .  1      +   \n",
       "1               13  19168839  19169351     .  1      +   \n",
       "2               13  19170044  19170556     .  1      +   \n",
       "3               13  19172161  19172673     .  1      +   \n",
       "4               13  19172651  19173163     .  1      +   \n",
       "...            ...       ...       ...   ... ..    ...   \n",
       "2062124         17  81185397  81185909     .  1      +   \n",
       "2062125         17  81188729  81189241     .  1      +   \n",
       "2062126         17  81189569  81190081     .  1      +   \n",
       "2062127         17  81190044  81190556     .  1      +   \n",
       "2062128         17  81194757  81195269     .  1      +   \n",
       "\n",
       "                                                     label  split  \n",
       "0                                                        4  train  \n",
       "1                                                       72  train  \n",
       "2                                                       25  train  \n",
       "3                                   2,8,10,21,26,29,48,118  train  \n",
       "4                               0,2,21,22,24,36,38,116,121  train  \n",
       "...                                                    ...    ...  \n",
       "2062124  42,44,47,55,58,59,61,65,66,73,79,82,84,86,88,9...  train  \n",
       "2062125                                         95,117,118  train  \n",
       "2062126                                            117,118  train  \n",
       "2062127                                    103,117,118,122  train  \n",
       "2062128                                    19,33,54,94,101  train  \n",
       "\n",
       "[2062129 rows x 8 columns]"
      ]
     },
     "execution_count": 2,
     "metadata": {},
     "output_type": "execute_result"
    }
   ],
   "source": [
    "annotations = load_annotations(TASK)\n",
    "annotations"
   ]
  },
  {
   "cell_type": "code",
   "execution_count": 3,
   "id": "2c22e89f",
   "metadata": {},
   "outputs": [
    {
     "data": {
      "text/plain": [
       "split\n",
       "train    68.402801\n",
       "test     18.047028\n",
       "valid    13.550171\n",
       "Name: count, dtype: float64"
      ]
     },
     "execution_count": 3,
     "metadata": {},
     "output_type": "execute_result"
    }
   ],
   "source": [
    "annotations['split'].value_counts()/len(annotations)*100"
   ]
  },
  {
   "cell_type": "code",
   "execution_count": 4,
   "id": "754fea8f",
   "metadata": {},
   "outputs": [
    {
     "data": {
      "text/plain": [
       "count    2062129.0\n",
       "mean         512.0\n",
       "std            0.0\n",
       "min          512.0\n",
       "25%          512.0\n",
       "50%          512.0\n",
       "75%          512.0\n",
       "max          512.0\n",
       "Name: length, dtype: float64"
      ]
     },
     "execution_count": 4,
     "metadata": {},
     "output_type": "execute_result"
    }
   ],
   "source": [
    "annotations['length'] = annotations['end'] - annotations['start']\n",
    "annotations['length'].describe()"
   ]
  },
  {
   "cell_type": "code",
   "execution_count": 5,
   "id": "824018cd",
   "metadata": {},
   "outputs": [
    {
     "data": {
      "image/png": "[encoded data removed]",
      "text/plain": [
       "<Figure size 640x480 with 1 Axes>"
      ]
     },
     "metadata": {},
     "output_type": "display_data"
    }
   ],
   "source": [
    "plot_chr_in_splits(annotations)"
   ]
  },
  {
   "cell_type": "code",
   "execution_count": 6,
   "id": "8883c1b2",
   "metadata": {},
   "outputs": [
    {
     "name": "stdout",
     "output_type": "stream",
     "text": [
      "Number of annotations with overlaps: 399001.0\n",
      "Total number of samples: 1410554\n",
      "Percentage of annotations with overlaps: 28.29%\n"
     ]
    },
    {
     "data": {
      "image/png": "[encoded data removed]",
      "text/plain": [
       "<Figure size 640x480 with 1 Axes>"
      ]
     },
     "metadata": {},
     "output_type": "display_data"
    }
   ],
   "source": [
    "train_annotations = annotations[annotations['split'] == 'train'].copy()\n",
    "\n",
    "overlap = plot_seq_overlap(train_annotations)"
   ]
  },
  {
   "cell_type": "code",
   "execution_count": 7,
   "id": "cb7194a6",
   "metadata": {},
   "outputs": [
    {
     "data": {
      "text/html": [
       "<div>\n",
       "<style scoped>\n",
       "    .dataframe tbody tr th:only-of-type {\n",
       "        vertical-align: middle;\n",
       "    }\n",
       "\n",
       "    .dataframe tbody tr th {\n",
       "        vertical-align: top;\n",
       "    }\n",
       "\n",
       "    .dataframe thead th {\n",
       "        text-align: right;\n",
       "    }\n",
       "</style>\n",
       "<table border=\"1\" class=\"dataframe\">\n",
       "  <thead>\n",
       "    <tr style=\"text-align: right;\">\n",
       "      <th></th>\n",
       "      <th>length</th>\n",
       "      <th>overlap</th>\n",
       "      <th>pct_overlap</th>\n",
       "    </tr>\n",
       "  </thead>\n",
       "  <tbody>\n",
       "    <tr>\n",
       "      <th>count</th>\n",
       "      <td>399001.0</td>\n",
       "      <td>399001.000000</td>\n",
       "      <td>399001.000000</td>\n",
       "    </tr>\n",
       "    <tr>\n",
       "      <th>mean</th>\n",
       "      <td>512.0</td>\n",
       "      <td>102.454167</td>\n",
       "      <td>20.010579</td>\n",
       "    </tr>\n",
       "    <tr>\n",
       "      <th>std</th>\n",
       "      <td>0.0</td>\n",
       "      <td>57.024438</td>\n",
       "      <td>11.137586</td>\n",
       "    </tr>\n",
       "    <tr>\n",
       "      <th>min</th>\n",
       "      <td>512.0</td>\n",
       "      <td>1.000000</td>\n",
       "      <td>0.195312</td>\n",
       "    </tr>\n",
       "    <tr>\n",
       "      <th>25%</th>\n",
       "      <td>512.0</td>\n",
       "      <td>53.000000</td>\n",
       "      <td>10.351562</td>\n",
       "    </tr>\n",
       "    <tr>\n",
       "      <th>50%</th>\n",
       "      <td>512.0</td>\n",
       "      <td>104.000000</td>\n",
       "      <td>20.312500</td>\n",
       "    </tr>\n",
       "    <tr>\n",
       "      <th>75%</th>\n",
       "      <td>512.0</td>\n",
       "      <td>152.000000</td>\n",
       "      <td>29.687500</td>\n",
       "    </tr>\n",
       "    <tr>\n",
       "      <th>max</th>\n",
       "      <td>512.0</td>\n",
       "      <td>199.000000</td>\n",
       "      <td>38.867188</td>\n",
       "    </tr>\n",
       "  </tbody>\n",
       "</table>\n",
       "</div>"
      ],
      "text/plain": [
       "         length        overlap    pct_overlap\n",
       "count  399001.0  399001.000000  399001.000000\n",
       "mean      512.0     102.454167      20.010579\n",
       "std         0.0      57.024438      11.137586\n",
       "min       512.0       1.000000       0.195312\n",
       "25%       512.0      53.000000      10.351562\n",
       "50%       512.0     104.000000      20.312500\n",
       "75%       512.0     152.000000      29.687500\n",
       "max       512.0     199.000000      38.867188"
      ]
     },
     "execution_count": 7,
     "metadata": {},
     "output_type": "execute_result"
    }
   ],
   "source": [
    "overlap.describe()"
   ]
  },
  {
   "cell_type": "code",
   "execution_count": null,
   "id": "a19592ed",
   "metadata": {},
   "outputs": [],
   "source": [
    "labels_df, total_labels = get_labels(annotations, LABEL_DEPTH)\n",
    "total_labels"
   ]
  },
  {
   "cell_type": "code",
   "execution_count": null,
   "id": "6acece6b",
   "metadata": {},
   "outputs": [],
   "source": []
  }
 ],
 "metadata": {
  "kernelspec": {
   "display_name": "bend",
   "language": "python",
   "name": "python3"
  },
  "language_info": {
   "codemirror_mode": {
    "name": "ipython",
    "version": 3
   },
   "file_extension": ".py",
   "mimetype": "text/x-python",
   "name": "python",
   "nbconvert_exporter": "python",
   "pygments_lexer": "ipython3",
   "version": "3.10.16"
  }
 },
 "nbformat": 4,
 "nbformat_minor": 5
}
