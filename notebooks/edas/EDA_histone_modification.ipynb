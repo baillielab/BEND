{
 "cells": [
  {
   "cell_type": "code",
   "execution_count": 2,
   "id": "c2f3b8bf",
   "metadata": {},
   "outputs": [],
   "source": [
    "import pandas as pd\n",
    "import seaborn as sns\n",
    "import matplotlib.pyplot as plt\n",
    "from utils import plot_chr_in_splits, get_labels, load_annotations, plot_seq_overlap\n",
    "import os\n",
    "import numpy as np\n",
    "\n",
    "TASK = 'histone_modification'\n",
    "LABEL_DEPTH = 18"
   ]
  },
  {
   "cell_type": "code",
   "execution_count": 3,
   "id": "7682933e",
   "metadata": {},
   "outputs": [
    {
     "data": {
      "text/html": [
       "<div>\n",
       "<style scoped>\n",
       "    .dataframe tbody tr th:only-of-type {\n",
       "        vertical-align: middle;\n",
       "    }\n",
       "\n",
       "    .dataframe tbody tr th {\n",
       "        vertical-align: top;\n",
       "    }\n",
       "\n",
       "    .dataframe thead th {\n",
       "        text-align: right;\n",
       "    }\n",
       "</style>\n",
       "<table border=\"1\" class=\"dataframe\">\n",
       "  <thead>\n",
       "    <tr style=\"text-align: right;\">\n",
       "      <th></th>\n",
       "      <th>chromosome</th>\n",
       "      <th>start</th>\n",
       "      <th>end</th>\n",
       "      <th>score</th>\n",
       "      <th>-</th>\n",
       "      <th>strand</th>\n",
       "      <th>label</th>\n",
       "      <th>split</th>\n",
       "    </tr>\n",
       "  </thead>\n",
       "  <tbody>\n",
       "    <tr>\n",
       "      <th>0</th>\n",
       "      <td>13</td>\n",
       "      <td>18172516</td>\n",
       "      <td>18173028</td>\n",
       "      <td>.</td>\n",
       "      <td>1</td>\n",
       "      <td>+</td>\n",
       "      <td>7</td>\n",
       "      <td>train</td>\n",
       "    </tr>\n",
       "    <tr>\n",
       "      <th>1</th>\n",
       "      <td>13</td>\n",
       "      <td>18189858</td>\n",
       "      <td>18190370</td>\n",
       "      <td>.</td>\n",
       "      <td>1</td>\n",
       "      <td>+</td>\n",
       "      <td>6</td>\n",
       "      <td>train</td>\n",
       "    </tr>\n",
       "    <tr>\n",
       "      <th>2</th>\n",
       "      <td>13</td>\n",
       "      <td>18191521</td>\n",
       "      <td>18192033</td>\n",
       "      <td>.</td>\n",
       "      <td>1</td>\n",
       "      <td>+</td>\n",
       "      <td>6</td>\n",
       "      <td>train</td>\n",
       "    </tr>\n",
       "    <tr>\n",
       "      <th>3</th>\n",
       "      <td>13</td>\n",
       "      <td>18212875</td>\n",
       "      <td>18213387</td>\n",
       "      <td>.</td>\n",
       "      <td>1</td>\n",
       "      <td>+</td>\n",
       "      <td>2,7</td>\n",
       "      <td>train</td>\n",
       "    </tr>\n",
       "    <tr>\n",
       "      <th>4</th>\n",
       "      <td>13</td>\n",
       "      <td>18213362</td>\n",
       "      <td>18213874</td>\n",
       "      <td>.</td>\n",
       "      <td>1</td>\n",
       "      <td>+</td>\n",
       "      <td>2</td>\n",
       "      <td>train</td>\n",
       "    </tr>\n",
       "    <tr>\n",
       "      <th>...</th>\n",
       "      <td>...</td>\n",
       "      <td>...</td>\n",
       "      <td>...</td>\n",
       "      <td>...</td>\n",
       "      <td>...</td>\n",
       "      <td>...</td>\n",
       "      <td>...</td>\n",
       "      <td>...</td>\n",
       "    </tr>\n",
       "    <tr>\n",
       "      <th>625224</th>\n",
       "      <td>17</td>\n",
       "      <td>83199009</td>\n",
       "      <td>83199521</td>\n",
       "      <td>.</td>\n",
       "      <td>1</td>\n",
       "      <td>+</td>\n",
       "      <td>5</td>\n",
       "      <td>train</td>\n",
       "    </tr>\n",
       "    <tr>\n",
       "      <th>625225</th>\n",
       "      <td>17</td>\n",
       "      <td>83199485</td>\n",
       "      <td>83199997</td>\n",
       "      <td>.</td>\n",
       "      <td>1</td>\n",
       "      <td>+</td>\n",
       "      <td>9</td>\n",
       "      <td>train</td>\n",
       "    </tr>\n",
       "    <tr>\n",
       "      <th>625226</th>\n",
       "      <td>17</td>\n",
       "      <td>83200265</td>\n",
       "      <td>83200777</td>\n",
       "      <td>.</td>\n",
       "      <td>1</td>\n",
       "      <td>+</td>\n",
       "      <td>1,5</td>\n",
       "      <td>train</td>\n",
       "    </tr>\n",
       "    <tr>\n",
       "      <th>625227</th>\n",
       "      <td>17</td>\n",
       "      <td>83204011</td>\n",
       "      <td>83204523</td>\n",
       "      <td>.</td>\n",
       "      <td>1</td>\n",
       "      <td>+</td>\n",
       "      <td>2</td>\n",
       "      <td>train</td>\n",
       "    </tr>\n",
       "    <tr>\n",
       "      <th>625228</th>\n",
       "      <td>17</td>\n",
       "      <td>83204610</td>\n",
       "      <td>83205122</td>\n",
       "      <td>.</td>\n",
       "      <td>1</td>\n",
       "      <td>+</td>\n",
       "      <td>2</td>\n",
       "      <td>train</td>\n",
       "    </tr>\n",
       "  </tbody>\n",
       "</table>\n",
       "<p>625229 rows × 8 columns</p>\n",
       "</div>"
      ],
      "text/plain": [
       "       chromosome     start       end score  - strand label  split\n",
       "0              13  18172516  18173028     .  1      +     7  train\n",
       "1              13  18189858  18190370     .  1      +     6  train\n",
       "2              13  18191521  18192033     .  1      +     6  train\n",
       "3              13  18212875  18213387     .  1      +   2,7  train\n",
       "4              13  18213362  18213874     .  1      +     2  train\n",
       "...           ...       ...       ...   ... ..    ...   ...    ...\n",
       "625224         17  83199009  83199521     .  1      +     5  train\n",
       "625225         17  83199485  83199997     .  1      +     9  train\n",
       "625226         17  83200265  83200777     .  1      +   1,5  train\n",
       "625227         17  83204011  83204523     .  1      +     2  train\n",
       "625228         17  83204610  83205122     .  1      +     2  train\n",
       "\n",
       "[625229 rows x 8 columns]"
      ]
     },
     "execution_count": 3,
     "metadata": {},
     "output_type": "execute_result"
    }
   ],
   "source": [
    "annotations = load_annotations(TASK)\n",
    "annotations"
   ]
  },
  {
   "cell_type": "code",
   "execution_count": 4,
   "id": "6e945b82",
   "metadata": {},
   "outputs": [
    {
     "data": {
      "text/plain": [
       "split\n",
       "train    69.392335\n",
       "test     19.283654\n",
       "valid    11.324011\n",
       "Name: count, dtype: float64"
      ]
     },
     "execution_count": 4,
     "metadata": {},
     "output_type": "execute_result"
    }
   ],
   "source": [
    "annotations['split'].value_counts()/len(annotations)*100"
   ]
  },
  {
   "cell_type": "code",
   "execution_count": 5,
   "id": "75214c53",
   "metadata": {},
   "outputs": [
    {
     "data": {
      "text/plain": [
       "count    625229.0\n",
       "mean        512.0\n",
       "std           0.0\n",
       "min         512.0\n",
       "25%         512.0\n",
       "50%         512.0\n",
       "75%         512.0\n",
       "max         512.0\n",
       "Name: length, dtype: float64"
      ]
     },
     "execution_count": 5,
     "metadata": {},
     "output_type": "execute_result"
    }
   ],
   "source": [
    "annotations['length'] = annotations['end'] - annotations['start']\n",
    "annotations['length'].describe()"
   ]
  },
  {
   "cell_type": "code",
   "execution_count": 6,
   "id": "bc2e4ec5",
   "metadata": {},
   "outputs": [
    {
     "data": {
      "image/png": "[encoded data removed]",
      "text/plain": [
       "<Figure size 640x480 with 1 Axes>"
      ]
     },
     "metadata": {},
     "output_type": "display_data"
    }
   ],
   "source": [
    "plot_chr_in_splits(annotations)"
   ]
  },
  {
   "cell_type": "code",
   "execution_count": 7,
   "id": "33702c87",
   "metadata": {},
   "outputs": [
    {
     "name": "stdout",
     "output_type": "stream",
     "text": [
      "Number of annotations with overlaps: 73892.0\n",
      "Total number of samples: 433861\n",
      "Percentage of annotations with overlaps: 17.03%\n"
     ]
    },
    {
     "data": {
      "image/png": "[encoded data removed]",
      "text/plain": [
       "<Figure size 640x480 with 1 Axes>"
      ]
     },
     "metadata": {},
     "output_type": "display_data"
    }
   ],
   "source": [
    "train_annotations = annotations[annotations['split'] == 'train'].copy()\n",
    "overlap = plot_seq_overlap(train_annotations)"
   ]
  },
  {
   "cell_type": "code",
   "execution_count": 8,
   "id": "9c82bde3",
   "metadata": {},
   "outputs": [
    {
     "data": {
      "text/html": [
       "<div>\n",
       "<style scoped>\n",
       "    .dataframe tbody tr th:only-of-type {\n",
       "        vertical-align: middle;\n",
       "    }\n",
       "\n",
       "    .dataframe tbody tr th {\n",
       "        vertical-align: top;\n",
       "    }\n",
       "\n",
       "    .dataframe thead th {\n",
       "        text-align: right;\n",
       "    }\n",
       "</style>\n",
       "<table border=\"1\" class=\"dataframe\">\n",
       "  <thead>\n",
       "    <tr style=\"text-align: right;\">\n",
       "      <th></th>\n",
       "      <th>length</th>\n",
       "      <th>overlap</th>\n",
       "      <th>pct_overlap</th>\n",
       "    </tr>\n",
       "  </thead>\n",
       "  <tbody>\n",
       "    <tr>\n",
       "      <th>count</th>\n",
       "      <td>73892.0</td>\n",
       "      <td>73892.000000</td>\n",
       "      <td>73892.000000</td>\n",
       "    </tr>\n",
       "    <tr>\n",
       "      <th>mean</th>\n",
       "      <td>512.0</td>\n",
       "      <td>101.224409</td>\n",
       "      <td>19.770392</td>\n",
       "    </tr>\n",
       "    <tr>\n",
       "      <th>std</th>\n",
       "      <td>0.0</td>\n",
       "      <td>57.072043</td>\n",
       "      <td>11.146883</td>\n",
       "    </tr>\n",
       "    <tr>\n",
       "      <th>min</th>\n",
       "      <td>512.0</td>\n",
       "      <td>1.000000</td>\n",
       "      <td>0.195312</td>\n",
       "    </tr>\n",
       "    <tr>\n",
       "      <th>25%</th>\n",
       "      <td>512.0</td>\n",
       "      <td>52.750000</td>\n",
       "      <td>10.302734</td>\n",
       "    </tr>\n",
       "    <tr>\n",
       "      <th>50%</th>\n",
       "      <td>512.0</td>\n",
       "      <td>102.000000</td>\n",
       "      <td>19.921875</td>\n",
       "    </tr>\n",
       "    <tr>\n",
       "      <th>75%</th>\n",
       "      <td>512.0</td>\n",
       "      <td>151.000000</td>\n",
       "      <td>29.492188</td>\n",
       "    </tr>\n",
       "    <tr>\n",
       "      <th>max</th>\n",
       "      <td>512.0</td>\n",
       "      <td>200.000000</td>\n",
       "      <td>39.062500</td>\n",
       "    </tr>\n",
       "  </tbody>\n",
       "</table>\n",
       "</div>"
      ],
      "text/plain": [
       "        length       overlap   pct_overlap\n",
       "count  73892.0  73892.000000  73892.000000\n",
       "mean     512.0    101.224409     19.770392\n",
       "std        0.0     57.072043     11.146883\n",
       "min      512.0      1.000000      0.195312\n",
       "25%      512.0     52.750000     10.302734\n",
       "50%      512.0    102.000000     19.921875\n",
       "75%      512.0    151.000000     29.492188\n",
       "max      512.0    200.000000     39.062500"
      ]
     },
     "execution_count": 8,
     "metadata": {},
     "output_type": "execute_result"
    }
   ],
   "source": [
    "overlap.describe()"
   ]
  },
  {
   "cell_type": "markdown",
   "id": "9ef57b03",
   "metadata": {},
   "source": [
    "### Labels"
   ]
  },
  {
   "cell_type": "code",
   "execution_count": 7,
   "id": "78ab868b",
   "metadata": {},
   "outputs": [
    {
     "data": {
      "text/plain": [
       "label_0      41506\n",
       "label_1      93261\n",
       "label_2      25295\n",
       "label_3      98678\n",
       "label_4      35382\n",
       "label_5      92587\n",
       "label_6      71400\n",
       "label_7      69975\n",
       "label_8      38312\n",
       "label_9     133535\n",
       "label_10     21717\n",
       "label_11     19706\n",
       "label_12     29394\n",
       "label_13     40934\n",
       "label_14     67714\n",
       "label_15     59069\n",
       "label_16     42993\n",
       "label_17    107810\n",
       "dtype: int64"
      ]
     },
     "execution_count": 7,
     "metadata": {},
     "output_type": "execute_result"
    }
   ],
   "source": [
    "labels_df, total_labels = get_labels(annotations, LABEL_DEPTH)\n",
    "total_labels"
   ]
  },
  {
   "cell_type": "code",
   "execution_count": 10,
   "id": "58c77fed",
   "metadata": {},
   "outputs": [
    {
     "data": {
      "text/plain": [
       "label_0      3.810449\n",
       "label_1      8.561805\n",
       "label_2      2.322202\n",
       "label_3      9.059111\n",
       "label_4      3.248236\n",
       "label_5      8.499928\n",
       "label_6      6.554861\n",
       "label_7      6.424039\n",
       "label_8      3.517224\n",
       "label_9     12.259150\n",
       "label_10     1.993724\n",
       "label_11     1.809105\n",
       "label_12     2.698509\n",
       "label_13     3.757937\n",
       "label_14     6.216468\n",
       "label_15     5.422816\n",
       "label_16     3.946963\n",
       "label_17     9.897472\n",
       "dtype: float64"
      ]
     },
     "execution_count": 10,
     "metadata": {},
     "output_type": "execute_result"
    }
   ],
   "source": [
    "total_labels/total_labels.sum() * 100"
   ]
  },
  {
   "cell_type": "code",
   "execution_count": null,
   "id": "21dcd11a",
   "metadata": {},
   "outputs": [],
   "source": []
  }
 ],
 "metadata": {
  "kernelspec": {
   "display_name": "bend",
   "language": "python",
   "name": "python3"
  },
  "language_info": {
   "codemirror_mode": {
    "name": "ipython",
    "version": 3
   },
   "file_extension": ".py",
   "mimetype": "text/x-python",
   "name": "python",
   "nbconvert_exporter": "python",
   "pygments_lexer": "ipython3",
   "version": "3.10.16"
  }
 },
 "nbformat": 4,
 "nbformat_minor": 5
}
