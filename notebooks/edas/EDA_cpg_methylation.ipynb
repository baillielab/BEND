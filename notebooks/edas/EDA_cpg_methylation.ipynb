{
 "cells": [
  {
   "cell_type": "code",
   "execution_count": 1,
   "id": "8b242705",
   "metadata": {},
   "outputs": [],
   "source": [
    "import pandas as pd\n",
    "import seaborn as sns\n",
    "import matplotlib.pyplot as plt\n",
    "from utils import plot_chr_in_splits, load_annotations, get_labels, plot_seq_overlap\n",
    "import os\n",
    "\n",
    "TASK = 'cpg_methylation'\n",
    "LABEL_DEPTH = 7"
   ]
  },
  {
   "cell_type": "code",
   "execution_count": 2,
   "id": "adec6951",
   "metadata": {},
   "outputs": [
    {
     "data": {
      "text/html": [
       "<div>\n",
       "<style scoped>\n",
       "    .dataframe tbody tr th:only-of-type {\n",
       "        vertical-align: middle;\n",
       "    }\n",
       "\n",
       "    .dataframe tbody tr th {\n",
       "        vertical-align: top;\n",
       "    }\n",
       "\n",
       "    .dataframe thead th {\n",
       "        text-align: right;\n",
       "    }\n",
       "</style>\n",
       "<table border=\"1\" class=\"dataframe\">\n",
       "  <thead>\n",
       "    <tr style=\"text-align: right;\">\n",
       "      <th></th>\n",
       "      <th>chromosome</th>\n",
       "      <th>start</th>\n",
       "      <th>end</th>\n",
       "      <th>strand</th>\n",
       "      <th>label</th>\n",
       "      <th>split</th>\n",
       "    </tr>\n",
       "  </thead>\n",
       "  <tbody>\n",
       "    <tr>\n",
       "      <th>0</th>\n",
       "      <td>1</td>\n",
       "      <td>134839</td>\n",
       "      <td>135351</td>\n",
       "      <td>+</td>\n",
       "      <td>0,1,2,3,4,5,6</td>\n",
       "      <td>train</td>\n",
       "    </tr>\n",
       "    <tr>\n",
       "      <th>1</th>\n",
       "      <td>1</td>\n",
       "      <td>134946</td>\n",
       "      <td>135458</td>\n",
       "      <td>+</td>\n",
       "      <td>0,1,2,3,4,5,6</td>\n",
       "      <td>train</td>\n",
       "    </tr>\n",
       "    <tr>\n",
       "      <th>2</th>\n",
       "      <td>1</td>\n",
       "      <td>134951</td>\n",
       "      <td>135463</td>\n",
       "      <td>+</td>\n",
       "      <td>0,1,2,3,4,5,6</td>\n",
       "      <td>train</td>\n",
       "    </tr>\n",
       "    <tr>\n",
       "      <th>3</th>\n",
       "      <td>1</td>\n",
       "      <td>139110</td>\n",
       "      <td>139622</td>\n",
       "      <td>+</td>\n",
       "      <td>0,1,2,3,4,5,6</td>\n",
       "      <td>train</td>\n",
       "    </tr>\n",
       "    <tr>\n",
       "      <th>4</th>\n",
       "      <td>1</td>\n",
       "      <td>180816</td>\n",
       "      <td>181328</td>\n",
       "      <td>+</td>\n",
       "      <td>0,1,2,3,4,5,6</td>\n",
       "      <td>train</td>\n",
       "    </tr>\n",
       "    <tr>\n",
       "      <th>...</th>\n",
       "      <td>...</td>\n",
       "      <td>...</td>\n",
       "      <td>...</td>\n",
       "      <td>...</td>\n",
       "      <td>...</td>\n",
       "      <td>...</td>\n",
       "    </tr>\n",
       "    <tr>\n",
       "      <th>959034</th>\n",
       "      <td>Y</td>\n",
       "      <td>6535336</td>\n",
       "      <td>6535848</td>\n",
       "      <td>-</td>\n",
       "      <td>0,1,2,3,4,5,6</td>\n",
       "      <td>train</td>\n",
       "    </tr>\n",
       "    <tr>\n",
       "      <th>959035</th>\n",
       "      <td>Y</td>\n",
       "      <td>6535372</td>\n",
       "      <td>6535884</td>\n",
       "      <td>+</td>\n",
       "      <td>0,1,2,3,4,5,6</td>\n",
       "      <td>train</td>\n",
       "    </tr>\n",
       "    <tr>\n",
       "      <th>959036</th>\n",
       "      <td>Y</td>\n",
       "      <td>6744500</td>\n",
       "      <td>6745012</td>\n",
       "      <td>+</td>\n",
       "      <td>4</td>\n",
       "      <td>train</td>\n",
       "    </tr>\n",
       "    <tr>\n",
       "      <th>959037</th>\n",
       "      <td>Y</td>\n",
       "      <td>10223411</td>\n",
       "      <td>10223923</td>\n",
       "      <td>-</td>\n",
       "      <td>NaN</td>\n",
       "      <td>train</td>\n",
       "    </tr>\n",
       "    <tr>\n",
       "      <th>959038</th>\n",
       "      <td>Y</td>\n",
       "      <td>11395623</td>\n",
       "      <td>11396135</td>\n",
       "      <td>-</td>\n",
       "      <td>4</td>\n",
       "      <td>train</td>\n",
       "    </tr>\n",
       "  </tbody>\n",
       "</table>\n",
       "<p>959039 rows × 6 columns</p>\n",
       "</div>"
      ],
      "text/plain": [
       "       chromosome     start       end strand          label  split\n",
       "0               1    134839    135351      +  0,1,2,3,4,5,6  train\n",
       "1               1    134946    135458      +  0,1,2,3,4,5,6  train\n",
       "2               1    134951    135463      +  0,1,2,3,4,5,6  train\n",
       "3               1    139110    139622      +  0,1,2,3,4,5,6  train\n",
       "4               1    180816    181328      +  0,1,2,3,4,5,6  train\n",
       "...           ...       ...       ...    ...            ...    ...\n",
       "959034          Y   6535336   6535848      -  0,1,2,3,4,5,6  train\n",
       "959035          Y   6535372   6535884      +  0,1,2,3,4,5,6  train\n",
       "959036          Y   6744500   6745012      +              4  train\n",
       "959037          Y  10223411  10223923      -            NaN  train\n",
       "959038          Y  11395623  11396135      -              4  train\n",
       "\n",
       "[959039 rows x 6 columns]"
      ]
     },
     "execution_count": 2,
     "metadata": {},
     "output_type": "execute_result"
    }
   ],
   "source": [
    "annotations = load_annotations(TASK)\n",
    "annotations"
   ]
  },
  {
   "cell_type": "markdown",
   "id": "5a8f5dee",
   "metadata": {},
   "source": [
    "### General statistics"
   ]
  },
  {
   "cell_type": "code",
   "execution_count": 3,
   "id": "22bfa5e6",
   "metadata": {},
   "outputs": [
    {
     "data": {
      "text/plain": [
       "count    959039.0\n",
       "mean        512.0\n",
       "std           0.0\n",
       "min         512.0\n",
       "25%         512.0\n",
       "50%         512.0\n",
       "75%         512.0\n",
       "max         512.0\n",
       "Name: length, dtype: float64"
      ]
     },
     "execution_count": 3,
     "metadata": {},
     "output_type": "execute_result"
    }
   ],
   "source": [
    "annotations['length'] = annotations['end'] - annotations['start']\n",
    "annotations['length'].describe()"
   ]
  },
  {
   "cell_type": "code",
   "execution_count": 4,
   "id": "70d21700",
   "metadata": {},
   "outputs": [
    {
     "data": {
      "text/plain": [
       "split\n",
       "train    77.483293\n",
       "valid    11.440306\n",
       "test     11.076400\n",
       "Name: count, dtype: float64"
      ]
     },
     "execution_count": 4,
     "metadata": {},
     "output_type": "execute_result"
    }
   ],
   "source": [
    "annotations['split'].value_counts()/len(annotations)*100"
   ]
  },
  {
   "cell_type": "code",
   "execution_count": 5,
   "id": "74b623a8",
   "metadata": {},
   "outputs": [
    {
     "data": {
      "text/plain": [
       "strand\n",
       "-    53.463623\n",
       "+    46.536377\n",
       "Name: count, dtype: float64"
      ]
     },
     "execution_count": 5,
     "metadata": {},
     "output_type": "execute_result"
    }
   ],
   "source": [
    "annotations['strand'].value_counts()/len(annotations)*100"
   ]
  },
  {
   "cell_type": "code",
   "execution_count": 6,
   "id": "aca8b6a9",
   "metadata": {},
   "outputs": [
    {
     "data": {
      "image/png": "[encoded data removed]",
      "text/plain": [
       "<Figure size 640x480 with 1 Axes>"
      ]
     },
     "metadata": {},
     "output_type": "display_data"
    }
   ],
   "source": [
    "# How are chromosomes distributed into splits? \n",
    "\n",
    "plot_chr_in_splits(annotations)"
   ]
  },
  {
   "cell_type": "code",
   "execution_count": 7,
   "id": "cc389c21",
   "metadata": {},
   "outputs": [
    {
     "name": "stdout",
     "output_type": "stream",
     "text": [
      "Number of annotations with overlaps: 385512.0\n",
      "Total number of samples: 743095\n",
      "Percentage of annotations with overlaps: 51.88%\n"
     ]
    },
    {
     "data": {
      "image/png": "[encoded data removed]",
      "text/plain": [
       "<Figure size 640x480 with 1 Axes>"
      ]
     },
     "metadata": {},
     "output_type": "display_data"
    }
   ],
   "source": [
    "train_annotations = annotations[annotations['split'] == 'train'].copy()\n",
    "overlap = plot_seq_overlap(train_annotations)"
   ]
  },
  {
   "cell_type": "code",
   "execution_count": 8,
   "id": "cc944b74",
   "metadata": {},
   "outputs": [
    {
     "data": {
      "text/html": [
       "<div>\n",
       "<style scoped>\n",
       "    .dataframe tbody tr th:only-of-type {\n",
       "        vertical-align: middle;\n",
       "    }\n",
       "\n",
       "    .dataframe tbody tr th {\n",
       "        vertical-align: top;\n",
       "    }\n",
       "\n",
       "    .dataframe thead th {\n",
       "        text-align: right;\n",
       "    }\n",
       "</style>\n",
       "<table border=\"1\" class=\"dataframe\">\n",
       "  <thead>\n",
       "    <tr style=\"text-align: right;\">\n",
       "      <th></th>\n",
       "      <th>length</th>\n",
       "      <th>overlap</th>\n",
       "      <th>pct_overlap</th>\n",
       "    </tr>\n",
       "  </thead>\n",
       "  <tbody>\n",
       "    <tr>\n",
       "      <th>count</th>\n",
       "      <td>385512.0</td>\n",
       "      <td>385512.000000</td>\n",
       "      <td>385512.000000</td>\n",
       "    </tr>\n",
       "    <tr>\n",
       "      <th>mean</th>\n",
       "      <td>512.0</td>\n",
       "      <td>381.866707</td>\n",
       "      <td>74.583341</td>\n",
       "    </tr>\n",
       "    <tr>\n",
       "      <th>std</th>\n",
       "      <td>0.0</td>\n",
       "      <td>143.256282</td>\n",
       "      <td>27.979743</td>\n",
       "    </tr>\n",
       "    <tr>\n",
       "      <th>min</th>\n",
       "      <td>512.0</td>\n",
       "      <td>1.000000</td>\n",
       "      <td>0.195312</td>\n",
       "    </tr>\n",
       "    <tr>\n",
       "      <th>25%</th>\n",
       "      <td>512.0</td>\n",
       "      <td>299.000000</td>\n",
       "      <td>58.398438</td>\n",
       "    </tr>\n",
       "    <tr>\n",
       "      <th>50%</th>\n",
       "      <td>512.0</td>\n",
       "      <td>449.000000</td>\n",
       "      <td>87.695312</td>\n",
       "    </tr>\n",
       "    <tr>\n",
       "      <th>75%</th>\n",
       "      <td>512.0</td>\n",
       "      <td>497.000000</td>\n",
       "      <td>97.070312</td>\n",
       "    </tr>\n",
       "    <tr>\n",
       "      <th>max</th>\n",
       "      <td>512.0</td>\n",
       "      <td>511.000000</td>\n",
       "      <td>99.804688</td>\n",
       "    </tr>\n",
       "  </tbody>\n",
       "</table>\n",
       "</div>"
      ],
      "text/plain": [
       "         length        overlap    pct_overlap\n",
       "count  385512.0  385512.000000  385512.000000\n",
       "mean      512.0     381.866707      74.583341\n",
       "std         0.0     143.256282      27.979743\n",
       "min       512.0       1.000000       0.195312\n",
       "25%       512.0     299.000000      58.398438\n",
       "50%       512.0     449.000000      87.695312\n",
       "75%       512.0     497.000000      97.070312\n",
       "max       512.0     511.000000      99.804688"
      ]
     },
     "execution_count": 8,
     "metadata": {},
     "output_type": "execute_result"
    }
   ],
   "source": [
    "overlap.describe()"
   ]
  },
  {
   "cell_type": "code",
   "execution_count": 7,
   "id": "df10d83b",
   "metadata": {},
   "outputs": [
    {
     "data": {
      "text/plain": [
       "label_0    799345\n",
       "label_1    801170\n",
       "label_2    800118\n",
       "label_3    781154\n",
       "label_4    877331\n",
       "label_5    801175\n",
       "label_6    804389\n",
       "dtype: int64"
      ]
     },
     "execution_count": 7,
     "metadata": {},
     "output_type": "execute_result"
    }
   ],
   "source": [
    "label_df, total_labels = get_labels(annotations, LABEL_DEPTH)\n",
    "total_labels"
   ]
  },
  {
   "cell_type": "code",
   "execution_count": 9,
   "id": "6342fd3c",
   "metadata": {},
   "outputs": [
    {
     "data": {
      "text/plain": [
       "label_0    14.111030\n",
       "label_1    14.143248\n",
       "label_2    14.124676\n",
       "label_3    13.789900\n",
       "label_4    15.487736\n",
       "label_5    14.143336\n",
       "label_6    14.200073\n",
       "dtype: float64"
      ]
     },
     "execution_count": 9,
     "metadata": {},
     "output_type": "execute_result"
    }
   ],
   "source": [
    "total_labels/total_labels.sum() * 100"
   ]
  },
  {
   "cell_type": "code",
   "execution_count": null,
   "id": "c8bec6cd",
   "metadata": {},
   "outputs": [],
   "source": []
  }
 ],
 "metadata": {
  "kernelspec": {
   "display_name": "bend",
   "language": "python",
   "name": "python3"
  },
  "language_info": {
   "codemirror_mode": {
    "name": "ipython",
    "version": 3
   },
   "file_extension": ".py",
   "mimetype": "text/x-python",
   "name": "python",
   "nbconvert_exporter": "python",
   "pygments_lexer": "ipython3",
   "version": "3.10.16"
  }
 },
 "nbformat": 4,
 "nbformat_minor": 5
}
