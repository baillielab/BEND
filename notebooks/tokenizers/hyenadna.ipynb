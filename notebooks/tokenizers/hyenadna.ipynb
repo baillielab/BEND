{
 "cells": [
  {
   "cell_type": "code",
   "execution_count": 27,
   "id": "521d59d5",
   "metadata": {},
   "outputs": [
    {
     "name": "stdout",
     "output_type": "stream",
     "text": [
      "Using device: mps\n"
     ]
    }
   ],
   "source": [
    "from bend.models.hyena_dna import HyenaDNAPreTrainedModel, CharacterTokenizer\n",
    "import os\n",
    "from utils import generate_random_dna_sequence, get_device, chunkify_sequences, process_chunk_embeddings\n",
    "import torch\n",
    "import numpy as np\n",
    "from bend_batch.datasets import DataSupervised\n",
    "from hydra import compose, initialize\n",
    "from torch.utils.data import DataLoader\n",
    "\n",
    "\n",
    "WORK_PATH = '../../'\n",
    "EMBEDDER_DIR = os.path.join(WORK_PATH, 'pretrained_models', 'hyenadna')\n",
    "EMBEDDER_NAME = 'hyenadna-tiny-1k-seqlen'\n",
    "EMBEDDER_PATH = os.path.join(EMBEDDER_DIR, EMBEDDER_NAME)\n",
    "\n",
    "PADDING_VALUE = -100\n",
    "\n",
    "MAX_LENGTHS = {\n",
    "    \"hyenadna-tiny-1k-seqlen\": 1024,\n",
    "    \"hyenadna-small-32k-seqlen\": 32768,\n",
    "    \"hyenadna-medium-160k-seqlen\": 160000,\n",
    "    \"hyenadna-medium-450k-seqlen\": 450000,\n",
    "    \"hyenadna-large-1m-seqlen\": 1_000_000,\n",
    "}\n",
    "\n",
    "device = get_device()"
   ]
  },
  {
   "cell_type": "code",
   "execution_count": 2,
   "id": "87f38af3",
   "metadata": {},
   "outputs": [
    {
     "name": "stdout",
     "output_type": "stream",
     "text": [
      "Loaded pretrained weights ok!\n"
     ]
    }
   ],
   "source": [
    "tokenizer = CharacterTokenizer(\n",
    "    characters=[\"A\", \"C\", \"G\", \"T\", \"N\"],  # add DNA characters, N is uncertain\n",
    "    model_max_length=MAX_LENGTHS[EMBEDDER_NAME]\n",
    "    + 2,  # to account for special tokens, like EOS\n",
    "    add_special_tokens=False,  # we handle special tokens elsewhere\n",
    "    padding_side=\"left\",  # since HyenaDNA is causal, we pad on the left\n",
    ")\n",
    "\n",
    "model = HyenaDNAPreTrainedModel.from_pretrained(\n",
    "    os.path.join(EMBEDDER_DIR, EMBEDDER_NAME),\n",
    "    EMBEDDER_NAME,\n",
    "    download=not os.path.exists(EMBEDDER_DIR),\n",
    "    config=None,\n",
    "    device=device,\n",
    "    use_head=False,\n",
    "    use_lm_head=False,  # we don't use the LM head for embeddings\n",
    "    n_classes=2,\n",
    ").eval().to(device)"
   ]
  },
  {
   "cell_type": "code",
   "execution_count": 3,
   "id": "5ec6cfd1",
   "metadata": {},
   "outputs": [
    {
     "data": {
      "text/plain": [
       "['AGGCACTAAATCTTA',\n",
       " 'GAGCATT',\n",
       " 'TGATCTACCCC',\n",
       " 'GCGGTGTATATTC',\n",
       " 'GTGTA',\n",
       " 'CGCCCTCCTCAGGAA',\n",
       " 'TTAGTACGAT',\n",
       " 'GGTCGCTTC',\n",
       " 'CAAGAAAT',\n",
       " 'CTAGCA']"
      ]
     },
     "execution_count": 3,
     "metadata": {},
     "output_type": "execute_result"
    }
   ],
   "source": [
    "sequences = [generate_random_dna_sequence(min_length=5, max_length=15) for _ in range(10)]\n",
    "sequences"
   ]
  },
  {
   "cell_type": "markdown",
   "id": "d310e59a",
   "metadata": {},
   "source": [
    "#### Divide into chunks"
   ]
  },
  {
   "cell_type": "code",
   "execution_count": 25,
   "id": "b76d762b",
   "metadata": {},
   "outputs": [
    {
     "name": "stdout",
     "output_type": "stream",
     "text": [
      "Chunk ID: 0, Sequence: AGGC\n",
      "Chunk ID: 0, Sequence: ACTA\n",
      "Chunk ID: 0, Sequence: AATC\n",
      "Chunk ID: 0, Sequence: TTA\n",
      "Chunk ID: 1, Sequence: GAGC\n",
      "Chunk ID: 1, Sequence: ATT\n",
      "Chunk ID: 2, Sequence: TGAT\n",
      "Chunk ID: 2, Sequence: CTAC\n",
      "Chunk ID: 2, Sequence: CCC\n",
      "Chunk ID: 3, Sequence: GCGG\n",
      "Chunk ID: 3, Sequence: TGTA\n",
      "Chunk ID: 3, Sequence: TATT\n",
      "Chunk ID: 3, Sequence: C\n",
      "Chunk ID: 4, Sequence: GTGT\n",
      "Chunk ID: 4, Sequence: A\n",
      "Chunk ID: 5, Sequence: CGCC\n",
      "Chunk ID: 5, Sequence: CTCC\n",
      "Chunk ID: 5, Sequence: TCAG\n",
      "Chunk ID: 5, Sequence: GAA\n",
      "Chunk ID: 6, Sequence: TTAG\n",
      "Chunk ID: 6, Sequence: TACG\n",
      "Chunk ID: 6, Sequence: AT\n",
      "Chunk ID: 7, Sequence: GGTC\n",
      "Chunk ID: 7, Sequence: GCTT\n",
      "Chunk ID: 7, Sequence: C\n",
      "Chunk ID: 8, Sequence: CAAG\n",
      "Chunk ID: 8, Sequence: AAAT\n",
      "Chunk ID: 9, Sequence: CTAG\n",
      "Chunk ID: 9, Sequence: CA\n"
     ]
    }
   ],
   "source": [
    "MAX_MODEL_LENGTH = 4\n",
    "chunked_sequences = []\n",
    "chunk_ids = []\n",
    "\n",
    "for seq_idx, seq in enumerate(sequences):\n",
    "    chunked_sequence = [\n",
    "        seq[i : i + MAX_MODEL_LENGTH]\n",
    "        for i in range(0, len(seq), MAX_MODEL_LENGTH)\n",
    "    ]\n",
    "    chunked_sequences.extend(chunked_sequence)\n",
    "    chunk_ids.extend([seq_idx] * len(chunked_sequence))\n",
    "\n",
    "for seq, chunk_id in zip(chunked_sequences, chunk_ids):\n",
    "    print(f\"Chunk ID: {chunk_id}, Sequence: {seq}\")"
   ]
  },
  {
   "cell_type": "markdown",
   "id": "83c52b25",
   "metadata": {},
   "source": [
    "#### Tokenise sequences"
   ]
  },
  {
   "cell_type": "code",
   "execution_count": 11,
   "id": "60673588",
   "metadata": {},
   "outputs": [
    {
     "data": {
      "text/plain": [
       "tensor([[ 0,  7,  9,  9,  8,  1],\n",
       "        [ 0,  7,  8, 10,  7,  1],\n",
       "        [ 0,  7,  7, 10,  8,  1],\n",
       "        [ 4,  0, 10, 10,  7,  1],\n",
       "        [ 0,  9,  7,  9,  8,  1],\n",
       "        [ 4,  0,  7, 10, 10,  1],\n",
       "        [ 0, 10,  9,  7, 10,  1],\n",
       "        [ 0,  8, 10,  7,  8,  1],\n",
       "        [ 4,  0,  8,  8,  8,  1],\n",
       "        [ 0,  9,  8,  9,  9,  1],\n",
       "        [ 0, 10,  9, 10,  7,  1],\n",
       "        [ 0, 10,  7, 10, 10,  1],\n",
       "        [ 4,  4,  4,  0,  8,  1],\n",
       "        [ 0,  9, 10,  9, 10,  1],\n",
       "        [ 4,  4,  4,  0,  7,  1],\n",
       "        [ 0,  8,  9,  8,  8,  1],\n",
       "        [ 0,  8, 10,  8,  8,  1],\n",
       "        [ 0, 10,  8,  7,  9,  1],\n",
       "        [ 4,  0,  9,  7,  7,  1],\n",
       "        [ 0, 10, 10,  7,  9,  1],\n",
       "        [ 0, 10,  7,  8,  9,  1],\n",
       "        [ 4,  4,  0,  7, 10,  1],\n",
       "        [ 0,  9,  9, 10,  8,  1],\n",
       "        [ 0,  9,  8, 10, 10,  1],\n",
       "        [ 4,  4,  4,  0,  8,  1],\n",
       "        [ 0,  8,  7,  7,  9,  1],\n",
       "        [ 0,  7,  7,  7, 10,  1],\n",
       "        [ 0,  8, 10,  7,  9,  1],\n",
       "        [ 4,  4,  0,  8,  7,  1]])"
      ]
     },
     "execution_count": 11,
     "metadata": {},
     "output_type": "execute_result"
    }
   ],
   "source": [
    "input_ids = tokenizer(\n",
    "    chunked_sequences,\n",
    "    return_tensors=\"pt\",\n",
    "    return_token_type_ids=False,\n",
    "    return_attention_mask=False,  # HyenaDNA does not use attention masks\n",
    "    padding=\"longest\",\n",
    ")[\"input_ids\"]\n",
    "\n",
    "# input_ids = output[\"input_ids\"]\n",
    "# attention_mask = output[\"attention_mask\"]\n",
    "\n",
    "input_ids"
   ]
  },
  {
   "cell_type": "code",
   "execution_count": 12,
   "id": "19ec0961",
   "metadata": {},
   "outputs": [
    {
     "name": "stdout",
     "output_type": "stream",
     "text": [
      "['[CLS]', 'A', 'G', 'G', 'C', '[SEP]']\n",
      "['[CLS]', 'A', 'C', 'T', 'A', '[SEP]']\n",
      "['[CLS]', 'A', 'A', 'T', 'C', '[SEP]']\n",
      "['[PAD]', '[CLS]', 'T', 'T', 'A', '[SEP]']\n",
      "['[CLS]', 'G', 'A', 'G', 'C', '[SEP]']\n",
      "['[PAD]', '[CLS]', 'A', 'T', 'T', '[SEP]']\n",
      "['[CLS]', 'T', 'G', 'A', 'T', '[SEP]']\n",
      "['[CLS]', 'C', 'T', 'A', 'C', '[SEP]']\n",
      "['[PAD]', '[CLS]', 'C', 'C', 'C', '[SEP]']\n",
      "['[CLS]', 'G', 'C', 'G', 'G', '[SEP]']\n",
      "['[CLS]', 'T', 'G', 'T', 'A', '[SEP]']\n",
      "['[CLS]', 'T', 'A', 'T', 'T', '[SEP]']\n",
      "['[PAD]', '[PAD]', '[PAD]', '[CLS]', 'C', '[SEP]']\n",
      "['[CLS]', 'G', 'T', 'G', 'T', '[SEP]']\n",
      "['[PAD]', '[PAD]', '[PAD]', '[CLS]', 'A', '[SEP]']\n",
      "['[CLS]', 'C', 'G', 'C', 'C', '[SEP]']\n",
      "['[CLS]', 'C', 'T', 'C', 'C', '[SEP]']\n",
      "['[CLS]', 'T', 'C', 'A', 'G', '[SEP]']\n",
      "['[PAD]', '[CLS]', 'G', 'A', 'A', '[SEP]']\n",
      "['[CLS]', 'T', 'T', 'A', 'G', '[SEP]']\n",
      "['[CLS]', 'T', 'A', 'C', 'G', '[SEP]']\n",
      "['[PAD]', '[PAD]', '[CLS]', 'A', 'T', '[SEP]']\n",
      "['[CLS]', 'G', 'G', 'T', 'C', '[SEP]']\n",
      "['[CLS]', 'G', 'C', 'T', 'T', '[SEP]']\n",
      "['[PAD]', '[PAD]', '[PAD]', '[CLS]', 'C', '[SEP]']\n",
      "['[CLS]', 'C', 'A', 'A', 'G', '[SEP]']\n",
      "['[CLS]', 'A', 'A', 'A', 'T', '[SEP]']\n",
      "['[CLS]', 'C', 'T', 'A', 'G', '[SEP]']\n",
      "['[PAD]', '[PAD]', '[CLS]', 'C', 'A', '[SEP]']\n"
     ]
    }
   ],
   "source": [
    "for ids in input_ids:\n",
    "    print(tokenizer.convert_ids_to_tokens(ids, skip_special_tokens=False))"
   ]
  },
  {
   "cell_type": "code",
   "execution_count": 8,
   "id": "93db1e46",
   "metadata": {},
   "outputs": [
    {
     "data": {
      "text/plain": [
       "tensor([[1, 1, 1, 1, 1, 1],\n",
       "        [1, 1, 1, 1, 1, 1],\n",
       "        [1, 1, 1, 1, 1, 1],\n",
       "        [0, 1, 1, 1, 1, 1],\n",
       "        [1, 1, 1, 1, 1, 1],\n",
       "        [0, 1, 1, 1, 1, 1],\n",
       "        [1, 1, 1, 1, 1, 1],\n",
       "        [1, 1, 1, 1, 1, 1],\n",
       "        [0, 1, 1, 1, 1, 1],\n",
       "        [1, 1, 1, 1, 1, 1],\n",
       "        [1, 1, 1, 1, 1, 1],\n",
       "        [1, 1, 1, 1, 1, 1],\n",
       "        [0, 0, 0, 1, 1, 1],\n",
       "        [1, 1, 1, 1, 1, 1],\n",
       "        [0, 0, 0, 1, 1, 1],\n",
       "        [1, 1, 1, 1, 1, 1],\n",
       "        [1, 1, 1, 1, 1, 1],\n",
       "        [1, 1, 1, 1, 1, 1],\n",
       "        [0, 1, 1, 1, 1, 1],\n",
       "        [1, 1, 1, 1, 1, 1],\n",
       "        [1, 1, 1, 1, 1, 1],\n",
       "        [0, 0, 1, 1, 1, 1],\n",
       "        [1, 1, 1, 1, 1, 1],\n",
       "        [1, 1, 1, 1, 1, 1],\n",
       "        [0, 0, 0, 1, 1, 1],\n",
       "        [1, 1, 1, 1, 1, 1],\n",
       "        [1, 1, 1, 1, 1, 1],\n",
       "        [1, 1, 1, 1, 1, 1],\n",
       "        [0, 0, 1, 1, 1, 1]])"
      ]
     },
     "execution_count": 8,
     "metadata": {},
     "output_type": "execute_result"
    }
   ],
   "source": [
    "attention_mask"
   ]
  },
  {
   "cell_type": "markdown",
   "id": "96c8277f",
   "metadata": {},
   "source": [
    "#### Embed sequences"
   ]
  },
  {
   "cell_type": "code",
   "execution_count": 13,
   "id": "2f95ec94",
   "metadata": {},
   "outputs": [
    {
     "data": {
      "text/plain": [
       "(29, 6, 128)"
      ]
     },
     "execution_count": 13,
     "metadata": {},
     "output_type": "execute_result"
    }
   ],
   "source": [
    "input_ids = torch.LongTensor(input_ids)\n",
    "embeddings = (\n",
    "    model(input_ids=input_ids.to(device)).detach().cpu().numpy()\n",
    ")\n",
    "input_ids = input_ids.numpy()\n",
    "\n",
    "embeddings.shape"
   ]
  },
  {
   "cell_type": "code",
   "execution_count": 9,
   "id": "523f6980",
   "metadata": {},
   "outputs": [
    {
     "data": {
      "text/plain": [
       "array([-0.16824079,  0.04744038,  0.04514444,  0.19083378,  0.05306307,\n",
       "       -0.19100481,  0.13585165,  0.49546304, -0.11520602,  0.35716903,\n",
       "       -0.50841016, -0.03071012, -0.33436307, -0.3122338 , -0.5464077 ,\n",
       "       -0.23307246, -0.33157188,  0.02428012,  0.2100084 , -0.37095368,\n",
       "       -0.3122338 ,  0.04744038, -0.04458451,  0.42001677, -0.2036671 ,\n",
       "        0.61932755, -0.2555642 , -0.07029043,  0.30389643, -0.2047453 ,\n",
       "       -0.21036223], dtype=float32)"
      ]
     },
     "execution_count": 9,
     "metadata": {},
     "output_type": "execute_result"
    }
   ],
   "source": [
    "embeddings[:, -1, -1]  # last token embeddings"
   ]
  },
  {
   "cell_type": "markdown",
   "id": "1abfe137",
   "metadata": {},
   "source": [
    "#### Post-process chunks into a list"
   ]
  },
  {
   "cell_type": "code",
   "execution_count": 14,
   "id": "6dc9de19",
   "metadata": {},
   "outputs": [],
   "source": [
    "masked_embeddings = []\n",
    "\n",
    "for sequence_idx in np.unique(chunk_ids):\n",
    "\n",
    "    mask_sequence = sequence_idx == chunk_ids\n",
    "    concat_embeddings = np.concatenate(embeddings[mask_sequence], axis=0)\n",
    "    concat_input_ids = np.concatenate(input_ids[mask_sequence], axis=0)\n",
    "\n",
    "    # concat_embeddings = self._remove_special_tokens(\n",
    "    #     concat_input_ids, concat_embeddings\n",
    "    # )\n",
    "\n",
    "    masked_embeddings.append(concat_embeddings)"
   ]
  },
  {
   "cell_type": "code",
   "execution_count": 16,
   "id": "19f2cb55",
   "metadata": {},
   "outputs": [
    {
     "name": "stdout",
     "output_type": "stream",
     "text": [
      "(24, 128)\n",
      "(12, 128)\n",
      "(18, 128)\n",
      "(24, 128)\n",
      "(12, 128)\n",
      "(24, 128)\n",
      "(18, 128)\n",
      "(18, 128)\n",
      "(12, 128)\n",
      "(12, 128)\n"
     ]
    }
   ],
   "source": [
    "for emb in masked_embeddings:\n",
    "    print(emb.shape)"
   ]
  },
  {
   "cell_type": "code",
   "execution_count": 18,
   "id": "f0edc954",
   "metadata": {},
   "outputs": [
    {
     "name": "stdout",
     "output_type": "stream",
     "text": [
      "Chunk ID: 0\n",
      "Sequence: CACCGAACAGCGGCG  Length: 15\n",
      "  Tokens: CACCGAACAGCGGCG\n",
      "Embedding shape: (15, 128)\n",
      "Chunk ID: 1\n",
      "Sequence: CCTGTTAACGT  Length: 11\n",
      "  Tokens: CCTGTTAACGT\n",
      "Embedding shape: (11, 128)\n",
      "Chunk ID: 2\n",
      "Sequence: TATGTAGG  Length: 8\n",
      "  Tokens: TATGTAGG\n",
      "Embedding shape: (8, 128)\n",
      "Chunk ID: 3\n",
      "Sequence: ACACCTCACCCCG  Length: 13\n",
      "  Tokens: ACACCTCACCCCG\n",
      "Embedding shape: (13, 128)\n",
      "Chunk ID: 4\n",
      "Sequence: TCCATCAAAACGCAG  Length: 15\n",
      "  Tokens: TCCATCAAAACGCAG\n",
      "Embedding shape: (15, 128)\n",
      "Chunk ID: 5\n",
      "Sequence: AGCACT  Length: 6\n",
      "  Tokens: AGCACT\n",
      "Embedding shape: (6, 128)\n",
      "Chunk ID: 6\n",
      "Sequence: ACGGTCCAGAACCGC  Length: 15\n",
      "  Tokens: ACGGTCCAGAACCGC\n",
      "Embedding shape: (15, 128)\n",
      "Chunk ID: 7\n",
      "Sequence: CGTAA  Length: 5\n",
      "  Tokens: CGTAA\n",
      "Embedding shape: (5, 128)\n",
      "Chunk ID: 8\n",
      "Sequence: AGCTTGGGGC  Length: 10\n",
      "  Tokens: AGCTTGGGGC\n",
      "Embedding shape: (10, 128)\n",
      "Chunk ID: 9\n",
      "Sequence: GTTAGCCAT  Length: 9\n",
      "  Tokens: GTTAGCCAT\n",
      "Embedding shape: (9, 128)\n"
     ]
    }
   ],
   "source": [
    "sequence_embeddings, masked_tokens = process_chunk_embeddings(tokenizer, embeddings, input_ids, chunk_ids, upsample=False)\n",
    "\n",
    "for i, seq_emb in enumerate(sequence_embeddings):\n",
    "    assert sequences[i] == ''.join(masked_tokens[i]), f\"Mismatch in sequence {i}: {sequences[i]} != {''.join(masked_tokens[i])}\"\n",
    "    print(f\"Chunk ID: {np.unique(chunk_ids)[i]}\")\n",
    "    print(f\"Sequence: {sequences[i]}  Length: {len(sequences[i])}\")\n",
    "    print(f\"  Tokens: {''.join(masked_tokens[i])}\")\n",
    "    print(f\"Embedding shape: {seq_emb.shape}\")"
   ]
  },
  {
   "cell_type": "markdown",
   "id": "80cacc5a",
   "metadata": {},
   "source": [
    "# Real dataset"
   ]
  },
  {
   "cell_type": "code",
   "execution_count": null,
   "id": "63878ed5",
   "metadata": {},
   "outputs": [
    {
     "name": "stdout",
     "output_type": "stream",
     "text": [
      "Filtered annotations to 597\n",
      "Filtered annotations from 5977 to 597\n"
     ]
    },
    {
     "name": "stderr",
     "output_type": "stream",
     "text": [
      "/Users/dgreco2/miniconda3/envs/bend/lib/python3.10/site-packages/hydra/_internal/config_loader_impl.py:216: UserWarning: provider=hydra.searchpath in main, path=config is not available.\n",
      "  warnings.warn(\n"
     ]
    },
    {
     "data": {
      "application/vnd.jupyter.widget-view+json": {
       "model_id": "097cddfdb4614ff59ce7204ff2101bc4",
       "version_major": 2,
       "version_minor": 0
      },
      "text/plain": [
       "  0%|          | 0/597 [00:00<?, ?it/s]"
      ]
     },
     "metadata": {},
     "output_type": "display_data"
    }
   ],
   "source": [
    "task = \"gene_finding\"  # or any other task you want to test\n",
    "\n",
    "with initialize(version_base=None, config_path=\"../../config/\"):\n",
    "    cfg_batch = compose(config_name=\"config\", overrides=[f\"tasks@task={task}\"])\n",
    "\n",
    "dataset = DataSupervised(\n",
    "    '../../data/gene_finding/gene_finding.bed',\n",
    "    '../../data/genomes/GRCh38.primary_assembly.genome.fa',\n",
    "    hdf5_path='../../data/gene_finding/gene_finding.hdf5',\n",
    "    label_depth=cfg_batch[\"task\"][\"dataset\"].get(\"label_depth\", None),\n",
    "    sequence_length=cfg_batch[\"task\"][\"dataset\"].get(\"sequence_length\", None),\n",
    "    split='test',  # or 'train', 'valid' depending on your needs\n",
    ")\n",
    "\n",
    "dataloader = DataLoader(dataset, batch_size=1, shuffle=False, num_workers=1)"
   ]
  },
  {
   "cell_type": "code",
   "execution_count": null,
   "id": "1b6d4c1b",
   "metadata": {},
   "outputs": [
    {
     "name": "stdout",
     "output_type": "stream",
     "text": [
      "Len sequence: 6567 bases\n",
      "Chunk ID: 0, Sequence: CAAGGGGTCCCTACCCACCCCGCCCCTGGCTGGGGGCCGTAGGCTGGCCCTGCCCCGCTGCGCCGGAGGTGGACCTCTACCAGGGCAGTTTCTCTCTGAGGCTGCGCGCTAAGGCGGTGGGCGGTCCCAGGCAGGCCCAGAAGCTGGGCAGCCTCTGCCGGGTTCCGGGAAAAGGAGCTCCTGCTGCCACTGCTCTTCCGGAGCCTGCAGCATGGGGCCCCTGCCGCGCACCGTGGAGCTCTTCTATGACGTGCTGTCCCCCTACTCCTGGCTGGGCTTCGAGGTGACGCTGGGAGGGGTCGCCTCGGCAGTGTCTGGGGAGTGAGGGCGGAGGGAAGAGTGAGCGCAGGGCTCCGGGACAGAGGTCTCGTGTAACTCCTGGCGCCGCCCAAGGGGTTAAGGCAAGCAGGGAGAGCTCCGGGGCTGAAGGTCACTTTGTGCTTTTAAACGGAATAGAGTCGCTGGCTCCAACCCGAGCCTTTATATCCCGACTGCAGTTTCCCACGGTGGTGGAAAGAGGGGCGGCTCCAAACATTCAGGGAGAAATGCAGAACACGGCCACCTCTTAGCCCAACGATGGCAGTTTTGGGGAAAACTGGCCACAGGAGCGAAGATCCTGGAATAGATTTCTAGTAGTGAGGAGAGTTTTGCCAATTTCAAACCAAACAATGTAGGGTGTCCGCATAACCCCTGCTCTGCACTTAGCGCCTCCCTTCCCTTTCCCTCGGCTCTTTCACTTTTCCATCTTGCACACTGGCAATCGTTCTTGACCTCTGCCCGCAGATCCTGTGCCGGTATCAGAATATCTGGAACATCAACCTGCAGTTGCGGCCCAGCCTCATAACAGGGATCATGAAAGACAGTGGTAGGAAGGGAGGGTCGGGGCAGGGGTGATCTCAGTGGCCCAAGAGAGCCGACCCCAGCGGGTCCTTATATTGGCACTGGCAGCCAGAAAGCTGCCCTCTGCCCCGTCTCTACTAAAAATACAAAATTAGCCGGGCGTGGTAGTGCATGCCTGTATACC bases\n",
      "Chunk ID: 0, Sequence: ACAGCTACTCGGGAGGCTGAGGCGGGAGAATCGCTTGAACCCAGGAGGCGGAGGTTGCGGTGAGCTGAGATCGCACCATTGCACTCCAGCCTGGGCAACAAGAGCGAAACAACAAGAGAAAAAAAAGGAAGCTGCCCTCTGCCCAAAACCCACGTCGAGGTCCCCAAACCTGGGACCCTTAGGTCTTTTCTCACTTAGCGTGCCCAACCTTCTCCTGGCAGGAAACAAGCCTCCAGGTCTGCTTCCCCGCAAAGGACTATACATGGCAAATGACTTAAAGCTCCTGAGACACCATCTCCAGATTCCCATCCACTTCCCCAAGGATTTCTTGTCTGTGATGCTTGAAAAAGGTGAAGAGAGTGGGATGTAGACAGGGTATCCAGTGAAAAACACAGAAGTCGGAGATTGAGGGATTGATAGGATGGAGGGGCTGCGGGAGACTAAAGCAAGTGAAGCCTGCCTTGGGAAACCTCAGGATCAGCCTTGAGCGAGCTGAAGGTTGCCGGGCATGAAAGGGAAGAAGAGCAGGCAAATAGGTCATGGGAACCTTGGGTGAGAGGCTGAGGGCGGAGGAGCTCTGGGGGATGTCAGAAGCAAGGAAGAGCTAGTCCTCCACCAGGAAAGCAGCAAGAGGAGCCCTGCCTCTGGGTGCCTCTGCCCCACAGGAAGTTTGTCTGCCATGCGTTTCCTCACCGCCGTGAACTTGGAGCATCCAGAGATGCTGGAGAAAGCGTCCCGGGAGCTGTGGATGCGCGTCTGGTCAAGGGTGAGTGTGGGGCTCTGGGAATCCTCTGGGAGGACCTTGGATGACTTTCTGACCTTCCCCAGGCACGTTTTCAGGGTCATGATCCTGCCCCCGCCCGGGGGATCTACTGTCCTCCCAGTCACACCCCTCTCCCCGCACCGCCTTCCTGCTGTCTTCTCTTCTTCCCAGAATGAAGACATCACCGAGCCGCAGAGCATCCTGGCGGTGAGTGTCCTGGCTCCACCCCAACTGCACTCATAGAGAATCTGAGAACAGTTG bases\n",
      "Chunk ID: 0, Sequence: GCGTTTGGGGGTAAAGAAGACAATAGGTCTCTTATTGCATGGAAAAGGTTATAATTACTGGGGAAGAAAGGATGTCTGTGATTCAGGGCACAAACTACTGAAAAGTTGGAACTAAGGATCCTCAAAAGGATATCTCAAGGTTGAAAGGGGAAGTGCAAAAGGGACAATATATGGGAAGAATTTATTTGCTGAAAGATGTCAGTGAGAGAAAGATGCTCAGTGTTGGAACCCCTGGATGGGGAGGGATATAGTATTCACAAGTCTCCACAAACTCCAACACAAACCTCACCAACACATCCAGAGTGGAAGGCAGGAGACTTGTTCCAAGAGGCTTTAAAAAGACGAAAAGAGATAACTAATGCCAGGGTTATATAGGAGCCTGAGTGAGAACAAATGGAAATAGCTCAAAACATTGACCAGTGAGCCATGGATGGGGGTATAAAAGTAAGTTTGTCTTCAGGATTAAATTAGGAAATTCAAAACAGTATTATTCCTCTGGTTTACAAAAAAAAATAGTTGAGACCTATTCAAATTTAATATATAAAGTGGCAAATCACACAAAAGTTAAACGTATAAGGAATGGCAAATATATCTTCTACAGTCTATACTCCTGCAAAGTACATGTGTAATTTTTAGCTTGCTTTTTTACTTCATATTTAATCATTTTCCATGCTTTTTTTTTTTTTTTTTTTTTTTTTGAGACACGGTCTGGCTCTGTCGCCCAGGCTGGAGTGCAGTGGTGTGACCTCGACCCACTGTACCCTTTGCCTCCTGGACTCAAGCAATCTTCCCACCTCAGTCTCCTGAGTAGCTGGGACTACAGGCACACACTACCATGTCTGGCTAACTTTTTTATTTTTTGTAGAGAAGGGGTTTCACTGTGTTGCCCAGGCTGGTCTCAAACTCCTGTGCTCAAGAGATCTGTCTGCCTCCACCTCCCAAAGTGCTGTGTTTACAGGAATGAGCCACTGTGCCCAGCCTCCATGGAATTCTTAACTCTGAAAGTATAGTTCTTTGTTTCTAT bases\n",
      "Chunk ID: 0, Sequence: AGAGGTTCCACTGAGTGGACTTATTTTTGTTTTGCTTAACCATTTTTCTGTGGTTAAACATTTTGTGTAGGACATAATTCTCTAATTTAACCAAGTCAAAGATAGTGTCTCATTAGGACAGGCTACATGAATTCCTGGGTCCCACTTCTGATCTAGGAAGTCAAGTTGCAGTGGTTGTCAATCTTGGCTGTGAATTAAAATCACCTGGAGCACCTTGGCGCTAACCCTTTCCCCTGGAATTGTGATGTAATTGTTCTTGTTCTTTTTTTTCTTTCTTTCTTTTTTTTTTTTTTTTTTTTTTTTTTGAGACAGTGTCTTGCTTTGTCACCCAGGCTGGGGTGCAGTGGCATGATCATGGCTCACTGCAGACTCAACCTCTTGGGCTCAAGTGATCTCGCATCTCAGCCTTACGAGTAGCTGGGACTTCAAGCATGTGCCACCATGCCTAATTTTTTAAAAATTTTTTGTAGAGATGGGGGTTTCACTTTGCTGCCCAGGCTGGTCTCGAACTCCTGGGCTGAAGCAATCTCCTGCCTCAGTCTCCCAAAGTGCTAGAATTACAGGCATGAGCCACAGTGCTTGGATCTAGTTCTAAGGGATGACCTCACGTGGAGATTTTTTAAAGCTCCTCAGGAGTTTCAGATGGGCAGCCAAAGTTAAGAACCATCTATCCCAAACTATACCAACAAACCACAAACTGAAGCCTTTATCTTTGTCTTGAAGCCAGGTAGGTGGCTGCAGCCATGTGCCTTGTTACAAAGTTCTCAGGAAGTTCCACTGGAATTACAGCCTAGCTCTTGATTCAAAAAAAGCATGAGATACTTAGGAACTGTGAGAGGTAGGAAGGAAAGAGCCCTGGACTTGAATTCTAGAGACCTGGATTCTAGTGTTGGCTCTGCTACCAACATGCTCTGTAACTCTGAGCAAGTAATGTATCACCTCTGGATTCAGGCTCTTCATTTGTGAAATAAAGAGGTCTATCTAGCTGCTCTCTAAGATGTCCGCTGGTGTTAATTTCTGTGAT bases\n",
      "Chunk ID: 0, Sequence: TGACTCTGTGCCATCTACCTTTTCTCCTTTTCCACCCATCTCAAGATTTGGGATAAAGGAAATAGTTCCTCTTGGCAAGGACAGATCTCCACTTGTGGGTGGGTAAGGGCATTGCCAGCAAAACTTGGGGGCAGAAAATAAAAAGACCAGAGTTTTCCTCTGAGATCCCCATCCAATATCATGCAGACACAGTTGTATTCCCTACTATATTCCCTTAGGCTGCAGAGAAGGCTGGTATGTCTGCAGAACAAGCCCAGGGACTTCTGGAAAAGATCGCAACGCCAAAGGTGAAGAACCAGCTCAAGGAGACCACTGAGGCAGCCTGCAGATACGGAGTGAGCAGCTCTTTATGTGTGTTCCCAGCACCCATCCTGAAGATGGAGACTTGAGAATCTCTAAGTTTGAGTCCTTATGCTCCTGTACAAAAGCCCCCTTTCCAAGTGTTCTCCTCAGTGCTCTTAAACAACCCTCATCTTCTTCCTTCTTTTCCTTGGGCTCAGGGAAAGGAAGGGAAGGAGATGCACAGTGAGAGAAAAGAGAGCATCTTAGAAACAGGAAGGCACCTGGGGCCACAGAGCCTCTTAGACCTCTTTGCTTCTGTGAACTCAGAAAAGTACTGACTCAAAGGTTTCAACCCCTGCCTAATACCTGCTCCTTTGCCTTCCTCCTTGCATTGTAACTGCTTTCTCCAGGCCTTTGGGCTGCCCATCACCGTGGCCCATGTGGATGGCCAAACCCACATGTTATTTGGCTCTGACCGGATGGAGCTGCTGGCGCACCTGCTGGGTAAGTAAGTTAAAGAATCAACCCTGAGCCAGGTGCAGTGGCTCACGCCTGTAATCCCAGCACTTTGGTAGGCTGAGGCGAGCAGAGCACGAGTTCAGGAGATTAAGACCATCCTGGCCAACATGGTGAAACCCCGTCTCTACTAAAAATATAAAAATTAGCTGGGACTACAGCTGCCTCAGTGGGAGGCTGAGGCAGGAGAATCACTTGAACCTGGGAGGCGGAGGTTGCAGTGAGC bases\n",
      "Chunk ID: 0, Sequence: CGAGATCGCGCCACTGCACTCCAGCCTGGGTGACAAAGCAAGACTCCGTCTCAAAAAATAAAAAGATTCAACCCTGAGCTGCCTTTGACCCCAGCTCCACACCCACTATATCAGTTGACCAGAAGGAGGGGCTCAGAGCAAAAAAATATTCTTGGCACTTCCAGTAACAAAGCGTTATGCAGTCAGTGCTGTTCAAGGTTGAGTGGGCAGGGGCTGTCTTCAACCCCATAAAAGAAAAGGAAGCCTTCTATACCTTGAAGCCAAGCAAAAGTCTTTCTAGAAAACCCCTGGGACCTTGTGGGACCAACTCCTGCTGCCAGAACACCTGAGAACAGTGTGCAGAGTCTGTTGTTTTCTTCATCCAGGAGAGAAGTGGATGGGCCCTATACCTCCAGCCGTGAATGCCAGACTTTAAGATTGCCCGGAGGAAGCAAACTCTTCGTATAAAAAAAGCAGGCCATCTGCTTAACCCTTGGCTCCACCATAAGGCACTGGGACTCGGATTTCTCTATCTGATAGAGGTATTTTCTGTGGCCCTGGGAGCTGTCTGTCTTTCCCCTACCCCCAAGGATGCCAGGAAGACGTCCACCATTAGCCATGTGGCAACCTTTACTTCTATGCCTCACAAGTGCCTTTCAGAGAGCCCCAATTCTGCTTTCCCACAAAATAAACCTAATGCCATCAGGCAAAACATTTCTGTGTCTGTATCTGCCCTGGTATATTCTCATTCCTGGGGTCACATCCTGCCTACTCTAGGGGTAGGTGAAGGAGAGCTGTTTCAGTATTTCCAGCCAGACCAGCCATGCAGCCCACCTTGAGCAGCTTGTGCGGTGGAAGAAGTGAGAATAGTCCCCCGTTCTCTCACACAGAAACTCCCCTGGTCTCTCTATCAGCAACAGAAAACCAAGCCAGATGGACTTTGCAACTAATCAAGTTTGGGATTTACTGTCTTCTGACCAACCACAGTGACTGAGATGGGGCTGGGACCAGAAGCCCAGTGGGAGTGAACAGCCGAGGGAACCAG bases\n",
      "Chunk ID: 0, Sequence: AGTCTGGCTGAGCTTGTGGCCAGATATTTAAACTGGGTCCAGCCACACCTGCAAAACCAGGGCAAGGCAGTACCGGGAAACTGGCTGGAGTTGCTGCGGTTTGGGGAAGTTGCACACCCTTTCATAGATACCTCCCTTAACCCTCAGTGCAGATTCTGAGAAAACTCCAAGGCTTCTCTGCCTAACCTAGTATAACCCCTGTTCCCTACTACATACATATAACTTTTCCATTCCCCCAGTAATTGACCCAAAGTCCCTGCCTCTAGCTGTGCCCATTGTGCAATGATCAGAATCCCTTGTTTCAATAGTATTTTGACTTCTTTAAGAATACTCTGTATTTGGAAGCTGAAACCTCACTTGGATCCATTGTTGGGAACCAAGTACGGAGCCTTACATAGCCCGGAGGAGTTTCAGGAGCAATGC bases\n",
      "['[CLS]', 'C', 'A', 'A', 'G', 'G', 'G', 'G', 'T', 'C', 'C', 'C', 'T', 'A', 'C', 'C', 'C', 'A', 'C', 'C', 'C', 'C', 'G', 'C', 'C', 'C', 'C', 'T', 'G', 'G', 'C', 'T', 'G', 'G', 'G', 'G', 'G', 'C', 'C', 'G', 'T', 'A', 'G', 'G', 'C', 'T', 'G', 'G', 'C', 'C', 'C', 'T', 'G', 'C', 'C', 'C', 'C', 'G', 'C', 'T', 'G', 'C', 'G', 'C', 'C', 'G', 'G', 'A', 'G', 'G', 'T', 'G', 'G', 'A', 'C', 'C', 'T', 'C', 'T', 'A', 'C', 'C', 'A', 'G', 'G', 'G', 'C', 'A', 'G', 'T', 'T', 'T', 'C', 'T', 'C', 'T', 'C', 'T', 'G', 'A', 'G', 'G', 'C', 'T', 'G', 'C', 'G', 'C', 'G', 'C', 'T', 'A', 'A', 'G', 'G', 'C', 'G', 'G', 'T', 'G', 'G', 'G', 'C', 'G', 'G', 'T', 'C', 'C', 'C', 'A', 'G', 'G', 'C', 'A', 'G', 'G', 'C', 'C', 'C', 'A', 'G', 'A', 'A', 'G', 'C', 'T', 'G', 'G', 'G', 'C', 'A', 'G', 'C', 'C', 'T', 'C', 'T', 'G', 'C', 'C', 'G', 'G', 'G', 'T', 'T', 'C', 'C', 'G', 'G', 'G', 'A', 'A', 'A', 'A', 'G', 'G', 'A', 'G', 'C', 'T', 'C', 'C', 'T', 'G', 'C', 'T', 'G', 'C', 'C', 'A', 'C', 'T', 'G', 'C', 'T', 'C', 'T', 'T', 'C', 'C', 'G', 'G', 'A', 'G', 'C', 'C', 'T', 'G', 'C', 'A', 'G', 'C', 'A', 'T', 'G', 'G', 'G', 'G', 'C', 'C', 'C', 'C', 'T', 'G', 'C', 'C', 'G', 'C', 'G', 'C', 'A', 'C', 'C', 'G', 'T', 'G', 'G', 'A', 'G', 'C', 'T', 'C', 'T', 'T', 'C', 'T', 'A', 'T', 'G', 'A', 'C', 'G', 'T', 'G', 'C', 'T', 'G', 'T', 'C', 'C', 'C', 'C', 'C', 'T', 'A', 'C', 'T', 'C', 'C', 'T', 'G', 'G', 'C', 'T', 'G', 'G', 'G', 'C', 'T', 'T', 'C', 'G', 'A', 'G', 'G', 'T', 'G', 'A', 'C', 'G', 'C', 'T', 'G', 'G', 'G', 'A', 'G', 'G', 'G', 'G', 'T', 'C', 'G', 'C', 'C', 'T', 'C', 'G', 'G', 'C', 'A', 'G', 'T', 'G', 'T', 'C', 'T', 'G', 'G', 'G', 'G', 'A', 'G', 'T', 'G', 'A', 'G', 'G', 'G', 'C', 'G', 'G', 'A', 'G', 'G', 'G', 'A', 'A', 'G', 'A', 'G', 'T', 'G', 'A', 'G', 'C', 'G', 'C', 'A', 'G', 'G', 'G', 'C', 'T', 'C', 'C', 'G', 'G', 'G', 'A', 'C', 'A', 'G', 'A', 'G', 'G', 'T', 'C', 'T', 'C', 'G', 'T', 'G', 'T', 'A', 'A', 'C', 'T', 'C', 'C', 'T', 'G', 'G', 'C', 'G', 'C', 'C', 'G', 'C', 'C', 'C', 'A', 'A', 'G', 'G', 'G', 'G', 'T', 'T', 'A', 'A', 'G', 'G', 'C', 'A', 'A', 'G', 'C', 'A', 'G', 'G', 'G', 'A', 'G', 'A', 'G', 'C', 'T', 'C', 'C', 'G', 'G', 'G', 'G', 'C', 'T', 'G', 'A', 'A', 'G', 'G', 'T', 'C', 'A', 'C', 'T', 'T', 'T', 'G', 'T', 'G', 'C', 'T', 'T', 'T', 'T', 'A', 'A', 'A', 'C', 'G', 'G', 'A', 'A', 'T', 'A', 'G', 'A', 'G', 'T', 'C', 'G', 'C', 'T', 'G', 'G', 'C', 'T', 'C', 'C', 'A', 'A', 'C', 'C', 'C', 'G', 'A', 'G', 'C', 'C', 'T', 'T', 'T', 'A', 'T', 'A', 'T', 'C', 'C', 'C', 'G', 'A', 'C', 'T', 'G', 'C', 'A', 'G', 'T', 'T', 'T', 'C', 'C', 'C', 'A', 'C', 'G', 'G', 'T', 'G', 'G', 'T', 'G', 'G', 'A', 'A', 'A', 'G', 'A', 'G', 'G', 'G', 'G', 'C', 'G', 'G', 'C', 'T', 'C', 'C', 'A', 'A', 'A', 'C', 'A', 'T', 'T', 'C', 'A', 'G', 'G', 'G', 'A', 'G', 'A', 'A', 'A', 'T', 'G', 'C', 'A', 'G', 'A', 'A', 'C', 'A', 'C', 'G', 'G', 'C', 'C', 'A', 'C', 'C', 'T', 'C', 'T', 'T', 'A', 'G', 'C', 'C', 'C', 'A', 'A', 'C', 'G', 'A', 'T', 'G', 'G', 'C', 'A', 'G', 'T', 'T', 'T', 'T', 'G', 'G', 'G', 'G', 'A', 'A', 'A', 'A', 'C', 'T', 'G', 'G', 'C', 'C', 'A', 'C', 'A', 'G', 'G', 'A', 'G', 'C', 'G', 'A', 'A', 'G', 'A', 'T', 'C', 'C', 'T', 'G', 'G', 'A', 'A', 'T', 'A', 'G', 'A', 'T', 'T', 'T', 'C', 'T', 'A', 'G', 'T', 'A', 'G', 'T', 'G', 'A', 'G', 'G', 'A', 'G', 'A', 'G', 'T', 'T', 'T', 'T', 'G', 'C', 'C', 'A', 'A', 'T', 'T', 'T', 'C', 'A', 'A', 'A', 'C', 'C', 'A', 'A', 'A', 'C', 'A', 'A', 'T', 'G', 'T', 'A', 'G', 'G', 'G', 'T', 'G', 'T', 'C', 'C', 'G', 'C', 'A', 'T', 'A', 'A', 'C', 'C', 'C', 'C', 'T', 'G', 'C', 'T', 'C', 'T', 'G', 'C', 'A', 'C', 'T', 'T', 'A', 'G', 'C', 'G', 'C', 'C', 'T', 'C', 'C', 'C', 'T', 'T', 'C', 'C', 'C', 'T', 'T', 'T', 'C', 'C', 'C', 'T', 'C', 'G', 'G', 'C', 'T', 'C', 'T', 'T', 'T', 'C', 'A', 'C', 'T', 'T', 'T', 'T', 'C', 'C', 'A', 'T', 'C', 'T', 'T', 'G', 'C', 'A', 'C', 'A', 'C', 'T', 'G', 'G', 'C', 'A', 'A', 'T', 'C', 'G', 'T', 'T', 'C', 'T', 'T', 'G', 'A', 'C', 'C', 'T', 'C', 'T', 'G', 'C', 'C', 'C', 'G', 'C', 'A', 'G', 'A', 'T', 'C', 'C', 'T', 'G', 'T', 'G', 'C', 'C', 'G', 'G', 'T', 'A', 'T', 'C', 'A', 'G', 'A', 'A', 'T', 'A', 'T', 'C', 'T', 'G', 'G', 'A', 'A', 'C', 'A', 'T', 'C', 'A', 'A', 'C', 'C', 'T', 'G', 'C', 'A', 'G', 'T', 'T', 'G', 'C', 'G', 'G', 'C', 'C', 'C', 'A', 'G', 'C', 'C', 'T', 'C', 'A', 'T', 'A', 'A', 'C', 'A', 'G', 'G', 'G', 'A', 'T', 'C', 'A', 'T', 'G', 'A', 'A', 'A', 'G', 'A', 'C', 'A', 'G', 'T', 'G', 'G', 'T', 'A', 'G', 'G', 'A', 'A', 'G', 'G', 'G', 'A', 'G', 'G', 'G', 'T', 'C', 'G', 'G', 'G', 'G', 'C', 'A', 'G', 'G', 'G', 'G', 'T', 'G', 'A', 'T', 'C', 'T', 'C', 'A', 'G', 'T', 'G', 'G', 'C', 'C', 'C', 'A', 'A', 'G', 'A', 'G', 'A', 'G', 'C', 'C', 'G', 'A', 'C', 'C', 'C', 'C', 'A', 'G', 'C', 'G', 'G', 'G', 'T', 'C', 'C', 'T', 'T', 'A', 'T', 'A', 'T', 'T', 'G', 'G', 'C', 'A', 'C', 'T', 'G', 'G', 'C', 'A', 'G', 'C', 'C', 'A', 'G', 'A', 'A', 'A', 'G', 'C', 'T', 'G', 'C', 'C', 'C', 'T', 'C', 'T', 'G', 'C', 'C', 'C', 'C', 'G', 'T', 'C', 'T', 'C', 'T', 'A', 'C', 'T', 'A', 'A', 'A', 'A', 'A', 'T', 'A', 'C', 'A', 'A', 'A', 'A', 'T', 'T', 'A', 'G', 'C', 'C', 'G', 'G', 'G', 'C', 'G', 'T', 'G', 'G', 'T', 'A', 'G', 'T', 'G', 'C', 'A', 'T', 'G', 'C', 'C', 'T', 'G', 'T', 'A', 'T', 'A', 'C', 'C', '[SEP]']\n",
      "['[CLS]', 'A', 'C', 'A', 'G', 'C', 'T', 'A', 'C', 'T', 'C', 'G', 'G', 'G', 'A', 'G', 'G', 'C', 'T', 'G', 'A', 'G', 'G', 'C', 'G', 'G', 'G', 'A', 'G', 'A', 'A', 'T', 'C', 'G', 'C', 'T', 'T', 'G', 'A', 'A', 'C', 'C', 'C', 'A', 'G', 'G', 'A', 'G', 'G', 'C', 'G', 'G', 'A', 'G', 'G', 'T', 'T', 'G', 'C', 'G', 'G', 'T', 'G', 'A', 'G', 'C', 'T', 'G', 'A', 'G', 'A', 'T', 'C', 'G', 'C', 'A', 'C', 'C', 'A', 'T', 'T', 'G', 'C', 'A', 'C', 'T', 'C', 'C', 'A', 'G', 'C', 'C', 'T', 'G', 'G', 'G', 'C', 'A', 'A', 'C', 'A', 'A', 'G', 'A', 'G', 'C', 'G', 'A', 'A', 'A', 'C', 'A', 'A', 'C', 'A', 'A', 'G', 'A', 'G', 'A', 'A', 'A', 'A', 'A', 'A', 'A', 'A', 'G', 'G', 'A', 'A', 'G', 'C', 'T', 'G', 'C', 'C', 'C', 'T', 'C', 'T', 'G', 'C', 'C', 'C', 'A', 'A', 'A', 'A', 'C', 'C', 'C', 'A', 'C', 'G', 'T', 'C', 'G', 'A', 'G', 'G', 'T', 'C', 'C', 'C', 'C', 'A', 'A', 'A', 'C', 'C', 'T', 'G', 'G', 'G', 'A', 'C', 'C', 'C', 'T', 'T', 'A', 'G', 'G', 'T', 'C', 'T', 'T', 'T', 'T', 'C', 'T', 'C', 'A', 'C', 'T', 'T', 'A', 'G', 'C', 'G', 'T', 'G', 'C', 'C', 'C', 'A', 'A', 'C', 'C', 'T', 'T', 'C', 'T', 'C', 'C', 'T', 'G', 'G', 'C', 'A', 'G', 'G', 'A', 'A', 'A', 'C', 'A', 'A', 'G', 'C', 'C', 'T', 'C', 'C', 'A', 'G', 'G', 'T', 'C', 'T', 'G', 'C', 'T', 'T', 'C', 'C', 'C', 'C', 'G', 'C', 'A', 'A', 'A', 'G', 'G', 'A', 'C', 'T', 'A', 'T', 'A', 'C', 'A', 'T', 'G', 'G', 'C', 'A', 'A', 'A', 'T', 'G', 'A', 'C', 'T', 'T', 'A', 'A', 'A', 'G', 'C', 'T', 'C', 'C', 'T', 'G', 'A', 'G', 'A', 'C', 'A', 'C', 'C', 'A', 'T', 'C', 'T', 'C', 'C', 'A', 'G', 'A', 'T', 'T', 'C', 'C', 'C', 'A', 'T', 'C', 'C', 'A', 'C', 'T', 'T', 'C', 'C', 'C', 'C', 'A', 'A', 'G', 'G', 'A', 'T', 'T', 'T', 'C', 'T', 'T', 'G', 'T', 'C', 'T', 'G', 'T', 'G', 'A', 'T', 'G', 'C', 'T', 'T', 'G', 'A', 'A', 'A', 'A', 'A', 'G', 'G', 'T', 'G', 'A', 'A', 'G', 'A', 'G', 'A', 'G', 'T', 'G', 'G', 'G', 'A', 'T', 'G', 'T', 'A', 'G', 'A', 'C', 'A', 'G', 'G', 'G', 'T', 'A', 'T', 'C', 'C', 'A', 'G', 'T', 'G', 'A', 'A', 'A', 'A', 'A', 'C', 'A', 'C', 'A', 'G', 'A', 'A', 'G', 'T', 'C', 'G', 'G', 'A', 'G', 'A', 'T', 'T', 'G', 'A', 'G', 'G', 'G', 'A', 'T', 'T', 'G', 'A', 'T', 'A', 'G', 'G', 'A', 'T', 'G', 'G', 'A', 'G', 'G', 'G', 'G', 'C', 'T', 'G', 'C', 'G', 'G', 'G', 'A', 'G', 'A', 'C', 'T', 'A', 'A', 'A', 'G', 'C', 'A', 'A', 'G', 'T', 'G', 'A', 'A', 'G', 'C', 'C', 'T', 'G', 'C', 'C', 'T', 'T', 'G', 'G', 'G', 'A', 'A', 'A', 'C', 'C', 'T', 'C', 'A', 'G', 'G', 'A', 'T', 'C', 'A', 'G', 'C', 'C', 'T', 'T', 'G', 'A', 'G', 'C', 'G', 'A', 'G', 'C', 'T', 'G', 'A', 'A', 'G', 'G', 'T', 'T', 'G', 'C', 'C', 'G', 'G', 'G', 'C', 'A', 'T', 'G', 'A', 'A', 'A', 'G', 'G', 'G', 'A', 'A', 'G', 'A', 'A', 'G', 'A', 'G', 'C', 'A', 'G', 'G', 'C', 'A', 'A', 'A', 'T', 'A', 'G', 'G', 'T', 'C', 'A', 'T', 'G', 'G', 'G', 'A', 'A', 'C', 'C', 'T', 'T', 'G', 'G', 'G', 'T', 'G', 'A', 'G', 'A', 'G', 'G', 'C', 'T', 'G', 'A', 'G', 'G', 'G', 'C', 'G', 'G', 'A', 'G', 'G', 'A', 'G', 'C', 'T', 'C', 'T', 'G', 'G', 'G', 'G', 'G', 'A', 'T', 'G', 'T', 'C', 'A', 'G', 'A', 'A', 'G', 'C', 'A', 'A', 'G', 'G', 'A', 'A', 'G', 'A', 'G', 'C', 'T', 'A', 'G', 'T', 'C', 'C', 'T', 'C', 'C', 'A', 'C', 'C', 'A', 'G', 'G', 'A', 'A', 'A', 'G', 'C', 'A', 'G', 'C', 'A', 'A', 'G', 'A', 'G', 'G', 'A', 'G', 'C', 'C', 'C', 'T', 'G', 'C', 'C', 'T', 'C', 'T', 'G', 'G', 'G', 'T', 'G', 'C', 'C', 'T', 'C', 'T', 'G', 'C', 'C', 'C', 'C', 'A', 'C', 'A', 'G', 'G', 'A', 'A', 'G', 'T', 'T', 'T', 'G', 'T', 'C', 'T', 'G', 'C', 'C', 'A', 'T', 'G', 'C', 'G', 'T', 'T', 'T', 'C', 'C', 'T', 'C', 'A', 'C', 'C', 'G', 'C', 'C', 'G', 'T', 'G', 'A', 'A', 'C', 'T', 'T', 'G', 'G', 'A', 'G', 'C', 'A', 'T', 'C', 'C', 'A', 'G', 'A', 'G', 'A', 'T', 'G', 'C', 'T', 'G', 'G', 'A', 'G', 'A', 'A', 'A', 'G', 'C', 'G', 'T', 'C', 'C', 'C', 'G', 'G', 'G', 'A', 'G', 'C', 'T', 'G', 'T', 'G', 'G', 'A', 'T', 'G', 'C', 'G', 'C', 'G', 'T', 'C', 'T', 'G', 'G', 'T', 'C', 'A', 'A', 'G', 'G', 'G', 'T', 'G', 'A', 'G', 'T', 'G', 'T', 'G', 'G', 'G', 'G', 'C', 'T', 'C', 'T', 'G', 'G', 'G', 'A', 'A', 'T', 'C', 'C', 'T', 'C', 'T', 'G', 'G', 'G', 'A', 'G', 'G', 'A', 'C', 'C', 'T', 'T', 'G', 'G', 'A', 'T', 'G', 'A', 'C', 'T', 'T', 'T', 'C', 'T', 'G', 'A', 'C', 'C', 'T', 'T', 'C', 'C', 'C', 'C', 'A', 'G', 'G', 'C', 'A', 'C', 'G', 'T', 'T', 'T', 'T', 'C', 'A', 'G', 'G', 'G', 'T', 'C', 'A', 'T', 'G', 'A', 'T', 'C', 'C', 'T', 'G', 'C', 'C', 'C', 'C', 'C', 'G', 'C', 'C', 'C', 'G', 'G', 'G', 'G', 'G', 'A', 'T', 'C', 'T', 'A', 'C', 'T', 'G', 'T', 'C', 'C', 'T', 'C', 'C', 'C', 'A', 'G', 'T', 'C', 'A', 'C', 'A', 'C', 'C', 'C', 'C', 'T', 'C', 'T', 'C', 'C', 'C', 'C', 'G', 'C', 'A', 'C', 'C', 'G', 'C', 'C', 'T', 'T', 'C', 'C', 'T', 'G', 'C', 'T', 'G', 'T', 'C', 'T', 'T', 'C', 'T', 'C', 'T', 'T', 'C', 'T', 'T', 'C', 'C', 'C', 'A', 'G', 'A', 'A', 'T', 'G', 'A', 'A', 'G', 'A', 'C', 'A', 'T', 'C', 'A', 'C', 'C', 'G', 'A', 'G', 'C', 'C', 'G', 'C', 'A', 'G', 'A', 'G', 'C', 'A', 'T', 'C', 'C', 'T', 'G', 'G', 'C', 'G', 'G', 'T', 'G', 'A', 'G', 'T', 'G', 'T', 'C', 'C', 'T', 'G', 'G', 'C', 'T', 'C', 'C', 'A', 'C', 'C', 'C', 'C', 'A', 'A', 'C', 'T', 'G', 'C', 'A', 'C', 'T', 'C', 'A', 'T', 'A', 'G', 'A', 'G', 'A', 'A', 'T', 'C', 'T', 'G', 'A', 'G', 'A', 'A', 'C', 'A', 'G', 'T', 'T', 'G', '[SEP]']\n",
      "['[CLS]', 'G', 'C', 'G', 'T', 'T', 'T', 'G', 'G', 'G', 'G', 'G', 'T', 'A', 'A', 'A', 'G', 'A', 'A', 'G', 'A', 'C', 'A', 'A', 'T', 'A', 'G', 'G', 'T', 'C', 'T', 'C', 'T', 'T', 'A', 'T', 'T', 'G', 'C', 'A', 'T', 'G', 'G', 'A', 'A', 'A', 'A', 'G', 'G', 'T', 'T', 'A', 'T', 'A', 'A', 'T', 'T', 'A', 'C', 'T', 'G', 'G', 'G', 'G', 'A', 'A', 'G', 'A', 'A', 'A', 'G', 'G', 'A', 'T', 'G', 'T', 'C', 'T', 'G', 'T', 'G', 'A', 'T', 'T', 'C', 'A', 'G', 'G', 'G', 'C', 'A', 'C', 'A', 'A', 'A', 'C', 'T', 'A', 'C', 'T', 'G', 'A', 'A', 'A', 'A', 'G', 'T', 'T', 'G', 'G', 'A', 'A', 'C', 'T', 'A', 'A', 'G', 'G', 'A', 'T', 'C', 'C', 'T', 'C', 'A', 'A', 'A', 'A', 'G', 'G', 'A', 'T', 'A', 'T', 'C', 'T', 'C', 'A', 'A', 'G', 'G', 'T', 'T', 'G', 'A', 'A', 'A', 'G', 'G', 'G', 'G', 'A', 'A', 'G', 'T', 'G', 'C', 'A', 'A', 'A', 'A', 'G', 'G', 'G', 'A', 'C', 'A', 'A', 'T', 'A', 'T', 'A', 'T', 'G', 'G', 'G', 'A', 'A', 'G', 'A', 'A', 'T', 'T', 'T', 'A', 'T', 'T', 'T', 'G', 'C', 'T', 'G', 'A', 'A', 'A', 'G', 'A', 'T', 'G', 'T', 'C', 'A', 'G', 'T', 'G', 'A', 'G', 'A', 'G', 'A', 'A', 'A', 'G', 'A', 'T', 'G', 'C', 'T', 'C', 'A', 'G', 'T', 'G', 'T', 'T', 'G', 'G', 'A', 'A', 'C', 'C', 'C', 'C', 'T', 'G', 'G', 'A', 'T', 'G', 'G', 'G', 'G', 'A', 'G', 'G', 'G', 'A', 'T', 'A', 'T', 'A', 'G', 'T', 'A', 'T', 'T', 'C', 'A', 'C', 'A', 'A', 'G', 'T', 'C', 'T', 'C', 'C', 'A', 'C', 'A', 'A', 'A', 'C', 'T', 'C', 'C', 'A', 'A', 'C', 'A', 'C', 'A', 'A', 'A', 'C', 'C', 'T', 'C', 'A', 'C', 'C', 'A', 'A', 'C', 'A', 'C', 'A', 'T', 'C', 'C', 'A', 'G', 'A', 'G', 'T', 'G', 'G', 'A', 'A', 'G', 'G', 'C', 'A', 'G', 'G', 'A', 'G', 'A', 'C', 'T', 'T', 'G', 'T', 'T', 'C', 'C', 'A', 'A', 'G', 'A', 'G', 'G', 'C', 'T', 'T', 'T', 'A', 'A', 'A', 'A', 'A', 'G', 'A', 'C', 'G', 'A', 'A', 'A', 'A', 'G', 'A', 'G', 'A', 'T', 'A', 'A', 'C', 'T', 'A', 'A', 'T', 'G', 'C', 'C', 'A', 'G', 'G', 'G', 'T', 'T', 'A', 'T', 'A', 'T', 'A', 'G', 'G', 'A', 'G', 'C', 'C', 'T', 'G', 'A', 'G', 'T', 'G', 'A', 'G', 'A', 'A', 'C', 'A', 'A', 'A', 'T', 'G', 'G', 'A', 'A', 'A', 'T', 'A', 'G', 'C', 'T', 'C', 'A', 'A', 'A', 'A', 'C', 'A', 'T', 'T', 'G', 'A', 'C', 'C', 'A', 'G', 'T', 'G', 'A', 'G', 'C', 'C', 'A', 'T', 'G', 'G', 'A', 'T', 'G', 'G', 'G', 'G', 'G', 'T', 'A', 'T', 'A', 'A', 'A', 'A', 'G', 'T', 'A', 'A', 'G', 'T', 'T', 'T', 'G', 'T', 'C', 'T', 'T', 'C', 'A', 'G', 'G', 'A', 'T', 'T', 'A', 'A', 'A', 'T', 'T', 'A', 'G', 'G', 'A', 'A', 'A', 'T', 'T', 'C', 'A', 'A', 'A', 'A', 'C', 'A', 'G', 'T', 'A', 'T', 'T', 'A', 'T', 'T', 'C', 'C', 'T', 'C', 'T', 'G', 'G', 'T', 'T', 'T', 'A', 'C', 'A', 'A', 'A', 'A', 'A', 'A', 'A', 'A', 'A', 'T', 'A', 'G', 'T', 'T', 'G', 'A', 'G', 'A', 'C', 'C', 'T', 'A', 'T', 'T', 'C', 'A', 'A', 'A', 'T', 'T', 'T', 'A', 'A', 'T', 'A', 'T', 'A', 'T', 'A', 'A', 'A', 'G', 'T', 'G', 'G', 'C', 'A', 'A', 'A', 'T', 'C', 'A', 'C', 'A', 'C', 'A', 'A', 'A', 'A', 'G', 'T', 'T', 'A', 'A', 'A', 'C', 'G', 'T', 'A', 'T', 'A', 'A', 'G', 'G', 'A', 'A', 'T', 'G', 'G', 'C', 'A', 'A', 'A', 'T', 'A', 'T', 'A', 'T', 'C', 'T', 'T', 'C', 'T', 'A', 'C', 'A', 'G', 'T', 'C', 'T', 'A', 'T', 'A', 'C', 'T', 'C', 'C', 'T', 'G', 'C', 'A', 'A', 'A', 'G', 'T', 'A', 'C', 'A', 'T', 'G', 'T', 'G', 'T', 'A', 'A', 'T', 'T', 'T', 'T', 'T', 'A', 'G', 'C', 'T', 'T', 'G', 'C', 'T', 'T', 'T', 'T', 'T', 'T', 'A', 'C', 'T', 'T', 'C', 'A', 'T', 'A', 'T', 'T', 'T', 'A', 'A', 'T', 'C', 'A', 'T', 'T', 'T', 'T', 'C', 'C', 'A', 'T', 'G', 'C', 'T', 'T', 'T', 'T', 'T', 'T', 'T', 'T', 'T', 'T', 'T', 'T', 'T', 'T', 'T', 'T', 'T', 'T', 'T', 'T', 'T', 'T', 'T', 'T', 'T', 'G', 'A', 'G', 'A', 'C', 'A', 'C', 'G', 'G', 'T', 'C', 'T', 'G', 'G', 'C', 'T', 'C', 'T', 'G', 'T', 'C', 'G', 'C', 'C', 'C', 'A', 'G', 'G', 'C', 'T', 'G', 'G', 'A', 'G', 'T', 'G', 'C', 'A', 'G', 'T', 'G', 'G', 'T', 'G', 'T', 'G', 'A', 'C', 'C', 'T', 'C', 'G', 'A', 'C', 'C', 'C', 'A', 'C', 'T', 'G', 'T', 'A', 'C', 'C', 'C', 'T', 'T', 'T', 'G', 'C', 'C', 'T', 'C', 'C', 'T', 'G', 'G', 'A', 'C', 'T', 'C', 'A', 'A', 'G', 'C', 'A', 'A', 'T', 'C', 'T', 'T', 'C', 'C', 'C', 'A', 'C', 'C', 'T', 'C', 'A', 'G', 'T', 'C', 'T', 'C', 'C', 'T', 'G', 'A', 'G', 'T', 'A', 'G', 'C', 'T', 'G', 'G', 'G', 'A', 'C', 'T', 'A', 'C', 'A', 'G', 'G', 'C', 'A', 'C', 'A', 'C', 'A', 'C', 'T', 'A', 'C', 'C', 'A', 'T', 'G', 'T', 'C', 'T', 'G', 'G', 'C', 'T', 'A', 'A', 'C', 'T', 'T', 'T', 'T', 'T', 'T', 'A', 'T', 'T', 'T', 'T', 'T', 'T', 'G', 'T', 'A', 'G', 'A', 'G', 'A', 'A', 'G', 'G', 'G', 'G', 'T', 'T', 'T', 'C', 'A', 'C', 'T', 'G', 'T', 'G', 'T', 'T', 'G', 'C', 'C', 'C', 'A', 'G', 'G', 'C', 'T', 'G', 'G', 'T', 'C', 'T', 'C', 'A', 'A', 'A', 'C', 'T', 'C', 'C', 'T', 'G', 'T', 'G', 'C', 'T', 'C', 'A', 'A', 'G', 'A', 'G', 'A', 'T', 'C', 'T', 'G', 'T', 'C', 'T', 'G', 'C', 'C', 'T', 'C', 'C', 'A', 'C', 'C', 'T', 'C', 'C', 'C', 'A', 'A', 'A', 'G', 'T', 'G', 'C', 'T', 'G', 'T', 'G', 'T', 'T', 'T', 'A', 'C', 'A', 'G', 'G', 'A', 'A', 'T', 'G', 'A', 'G', 'C', 'C', 'A', 'C', 'T', 'G', 'T', 'G', 'C', 'C', 'C', 'A', 'G', 'C', 'C', 'T', 'C', 'C', 'A', 'T', 'G', 'G', 'A', 'A', 'T', 'T', 'C', 'T', 'T', 'A', 'A', 'C', 'T', 'C', 'T', 'G', 'A', 'A', 'A', 'G', 'T', 'A', 'T', 'A', 'G', 'T', 'T', 'C', 'T', 'T', 'T', 'G', 'T', 'T', 'T', 'C', 'T', 'A', 'T', '[SEP]']\n",
      "['[CLS]', 'A', 'G', 'A', 'G', 'G', 'T', 'T', 'C', 'C', 'A', 'C', 'T', 'G', 'A', 'G', 'T', 'G', 'G', 'A', 'C', 'T', 'T', 'A', 'T', 'T', 'T', 'T', 'T', 'G', 'T', 'T', 'T', 'T', 'G', 'C', 'T', 'T', 'A', 'A', 'C', 'C', 'A', 'T', 'T', 'T', 'T', 'T', 'C', 'T', 'G', 'T', 'G', 'G', 'T', 'T', 'A', 'A', 'A', 'C', 'A', 'T', 'T', 'T', 'T', 'G', 'T', 'G', 'T', 'A', 'G', 'G', 'A', 'C', 'A', 'T', 'A', 'A', 'T', 'T', 'C', 'T', 'C', 'T', 'A', 'A', 'T', 'T', 'T', 'A', 'A', 'C', 'C', 'A', 'A', 'G', 'T', 'C', 'A', 'A', 'A', 'G', 'A', 'T', 'A', 'G', 'T', 'G', 'T', 'C', 'T', 'C', 'A', 'T', 'T', 'A', 'G', 'G', 'A', 'C', 'A', 'G', 'G', 'C', 'T', 'A', 'C', 'A', 'T', 'G', 'A', 'A', 'T', 'T', 'C', 'C', 'T', 'G', 'G', 'G', 'T', 'C', 'C', 'C', 'A', 'C', 'T', 'T', 'C', 'T', 'G', 'A', 'T', 'C', 'T', 'A', 'G', 'G', 'A', 'A', 'G', 'T', 'C', 'A', 'A', 'G', 'T', 'T', 'G', 'C', 'A', 'G', 'T', 'G', 'G', 'T', 'T', 'G', 'T', 'C', 'A', 'A', 'T', 'C', 'T', 'T', 'G', 'G', 'C', 'T', 'G', 'T', 'G', 'A', 'A', 'T', 'T', 'A', 'A', 'A', 'A', 'T', 'C', 'A', 'C', 'C', 'T', 'G', 'G', 'A', 'G', 'C', 'A', 'C', 'C', 'T', 'T', 'G', 'G', 'C', 'G', 'C', 'T', 'A', 'A', 'C', 'C', 'C', 'T', 'T', 'T', 'C', 'C', 'C', 'C', 'T', 'G', 'G', 'A', 'A', 'T', 'T', 'G', 'T', 'G', 'A', 'T', 'G', 'T', 'A', 'A', 'T', 'T', 'G', 'T', 'T', 'C', 'T', 'T', 'G', 'T', 'T', 'C', 'T', 'T', 'T', 'T', 'T', 'T', 'T', 'T', 'C', 'T', 'T', 'T', 'C', 'T', 'T', 'T', 'C', 'T', 'T', 'T', 'T', 'T', 'T', 'T', 'T', 'T', 'T', 'T', 'T', 'T', 'T', 'T', 'T', 'T', 'T', 'T', 'T', 'T', 'T', 'T', 'T', 'T', 'T', 'G', 'A', 'G', 'A', 'C', 'A', 'G', 'T', 'G', 'T', 'C', 'T', 'T', 'G', 'C', 'T', 'T', 'T', 'G', 'T', 'C', 'A', 'C', 'C', 'C', 'A', 'G', 'G', 'C', 'T', 'G', 'G', 'G', 'G', 'T', 'G', 'C', 'A', 'G', 'T', 'G', 'G', 'C', 'A', 'T', 'G', 'A', 'T', 'C', 'A', 'T', 'G', 'G', 'C', 'T', 'C', 'A', 'C', 'T', 'G', 'C', 'A', 'G', 'A', 'C', 'T', 'C', 'A', 'A', 'C', 'C', 'T', 'C', 'T', 'T', 'G', 'G', 'G', 'C', 'T', 'C', 'A', 'A', 'G', 'T', 'G', 'A', 'T', 'C', 'T', 'C', 'G', 'C', 'A', 'T', 'C', 'T', 'C', 'A', 'G', 'C', 'C', 'T', 'T', 'A', 'C', 'G', 'A', 'G', 'T', 'A', 'G', 'C', 'T', 'G', 'G', 'G', 'A', 'C', 'T', 'T', 'C', 'A', 'A', 'G', 'C', 'A', 'T', 'G', 'T', 'G', 'C', 'C', 'A', 'C', 'C', 'A', 'T', 'G', 'C', 'C', 'T', 'A', 'A', 'T', 'T', 'T', 'T', 'T', 'T', 'A', 'A', 'A', 'A', 'A', 'T', 'T', 'T', 'T', 'T', 'T', 'G', 'T', 'A', 'G', 'A', 'G', 'A', 'T', 'G', 'G', 'G', 'G', 'G', 'T', 'T', 'T', 'C', 'A', 'C', 'T', 'T', 'T', 'G', 'C', 'T', 'G', 'C', 'C', 'C', 'A', 'G', 'G', 'C', 'T', 'G', 'G', 'T', 'C', 'T', 'C', 'G', 'A', 'A', 'C', 'T', 'C', 'C', 'T', 'G', 'G', 'G', 'C', 'T', 'G', 'A', 'A', 'G', 'C', 'A', 'A', 'T', 'C', 'T', 'C', 'C', 'T', 'G', 'C', 'C', 'T', 'C', 'A', 'G', 'T', 'C', 'T', 'C', 'C', 'C', 'A', 'A', 'A', 'G', 'T', 'G', 'C', 'T', 'A', 'G', 'A', 'A', 'T', 'T', 'A', 'C', 'A', 'G', 'G', 'C', 'A', 'T', 'G', 'A', 'G', 'C', 'C', 'A', 'C', 'A', 'G', 'T', 'G', 'C', 'T', 'T', 'G', 'G', 'A', 'T', 'C', 'T', 'A', 'G', 'T', 'T', 'C', 'T', 'A', 'A', 'G', 'G', 'G', 'A', 'T', 'G', 'A', 'C', 'C', 'T', 'C', 'A', 'C', 'G', 'T', 'G', 'G', 'A', 'G', 'A', 'T', 'T', 'T', 'T', 'T', 'T', 'A', 'A', 'A', 'G', 'C', 'T', 'C', 'C', 'T', 'C', 'A', 'G', 'G', 'A', 'G', 'T', 'T', 'T', 'C', 'A', 'G', 'A', 'T', 'G', 'G', 'G', 'C', 'A', 'G', 'C', 'C', 'A', 'A', 'A', 'G', 'T', 'T', 'A', 'A', 'G', 'A', 'A', 'C', 'C', 'A', 'T', 'C', 'T', 'A', 'T', 'C', 'C', 'C', 'A', 'A', 'A', 'C', 'T', 'A', 'T', 'A', 'C', 'C', 'A', 'A', 'C', 'A', 'A', 'A', 'C', 'C', 'A', 'C', 'A', 'A', 'A', 'C', 'T', 'G', 'A', 'A', 'G', 'C', 'C', 'T', 'T', 'T', 'A', 'T', 'C', 'T', 'T', 'T', 'G', 'T', 'C', 'T', 'T', 'G', 'A', 'A', 'G', 'C', 'C', 'A', 'G', 'G', 'T', 'A', 'G', 'G', 'T', 'G', 'G', 'C', 'T', 'G', 'C', 'A', 'G', 'C', 'C', 'A', 'T', 'G', 'T', 'G', 'C', 'C', 'T', 'T', 'G', 'T', 'T', 'A', 'C', 'A', 'A', 'A', 'G', 'T', 'T', 'C', 'T', 'C', 'A', 'G', 'G', 'A', 'A', 'G', 'T', 'T', 'C', 'C', 'A', 'C', 'T', 'G', 'G', 'A', 'A', 'T', 'T', 'A', 'C', 'A', 'G', 'C', 'C', 'T', 'A', 'G', 'C', 'T', 'C', 'T', 'T', 'G', 'A', 'T', 'T', 'C', 'A', 'A', 'A', 'A', 'A', 'A', 'A', 'G', 'C', 'A', 'T', 'G', 'A', 'G', 'A', 'T', 'A', 'C', 'T', 'T', 'A', 'G', 'G', 'A', 'A', 'C', 'T', 'G', 'T', 'G', 'A', 'G', 'A', 'G', 'G', 'T', 'A', 'G', 'G', 'A', 'A', 'G', 'G', 'A', 'A', 'A', 'G', 'A', 'G', 'C', 'C', 'C', 'T', 'G', 'G', 'A', 'C', 'T', 'T', 'G', 'A', 'A', 'T', 'T', 'C', 'T', 'A', 'G', 'A', 'G', 'A', 'C', 'C', 'T', 'G', 'G', 'A', 'T', 'T', 'C', 'T', 'A', 'G', 'T', 'G', 'T', 'T', 'G', 'G', 'C', 'T', 'C', 'T', 'G', 'C', 'T', 'A', 'C', 'C', 'A', 'A', 'C', 'A', 'T', 'G', 'C', 'T', 'C', 'T', 'G', 'T', 'A', 'A', 'C', 'T', 'C', 'T', 'G', 'A', 'G', 'C', 'A', 'A', 'G', 'T', 'A', 'A', 'T', 'G', 'T', 'A', 'T', 'C', 'A', 'C', 'C', 'T', 'C', 'T', 'G', 'G', 'A', 'T', 'T', 'C', 'A', 'G', 'G', 'C', 'T', 'C', 'T', 'T', 'C', 'A', 'T', 'T', 'T', 'G', 'T', 'G', 'A', 'A', 'A', 'T', 'A', 'A', 'A', 'G', 'A', 'G', 'G', 'T', 'C', 'T', 'A', 'T', 'C', 'T', 'A', 'G', 'C', 'T', 'G', 'C', 'T', 'C', 'T', 'C', 'T', 'A', 'A', 'G', 'A', 'T', 'G', 'T', 'C', 'C', 'G', 'C', 'T', 'G', 'G', 'T', 'G', 'T', 'T', 'A', 'A', 'T', 'T', 'T', 'C', 'T', 'G', 'T', 'G', 'A', 'T', '[SEP]']\n",
      "['[CLS]', 'T', 'G', 'A', 'C', 'T', 'C', 'T', 'G', 'T', 'G', 'C', 'C', 'A', 'T', 'C', 'T', 'A', 'C', 'C', 'T', 'T', 'T', 'T', 'C', 'T', 'C', 'C', 'T', 'T', 'T', 'T', 'C', 'C', 'A', 'C', 'C', 'C', 'A', 'T', 'C', 'T', 'C', 'A', 'A', 'G', 'A', 'T', 'T', 'T', 'G', 'G', 'G', 'A', 'T', 'A', 'A', 'A', 'G', 'G', 'A', 'A', 'A', 'T', 'A', 'G', 'T', 'T', 'C', 'C', 'T', 'C', 'T', 'T', 'G', 'G', 'C', 'A', 'A', 'G', 'G', 'A', 'C', 'A', 'G', 'A', 'T', 'C', 'T', 'C', 'C', 'A', 'C', 'T', 'T', 'G', 'T', 'G', 'G', 'G', 'T', 'G', 'G', 'G', 'T', 'A', 'A', 'G', 'G', 'G', 'C', 'A', 'T', 'T', 'G', 'C', 'C', 'A', 'G', 'C', 'A', 'A', 'A', 'A', 'C', 'T', 'T', 'G', 'G', 'G', 'G', 'G', 'C', 'A', 'G', 'A', 'A', 'A', 'A', 'T', 'A', 'A', 'A', 'A', 'A', 'G', 'A', 'C', 'C', 'A', 'G', 'A', 'G', 'T', 'T', 'T', 'T', 'C', 'C', 'T', 'C', 'T', 'G', 'A', 'G', 'A', 'T', 'C', 'C', 'C', 'C', 'A', 'T', 'C', 'C', 'A', 'A', 'T', 'A', 'T', 'C', 'A', 'T', 'G', 'C', 'A', 'G', 'A', 'C', 'A', 'C', 'A', 'G', 'T', 'T', 'G', 'T', 'A', 'T', 'T', 'C', 'C', 'C', 'T', 'A', 'C', 'T', 'A', 'T', 'A', 'T', 'T', 'C', 'C', 'C', 'T', 'T', 'A', 'G', 'G', 'C', 'T', 'G', 'C', 'A', 'G', 'A', 'G', 'A', 'A', 'G', 'G', 'C', 'T', 'G', 'G', 'T', 'A', 'T', 'G', 'T', 'C', 'T', 'G', 'C', 'A', 'G', 'A', 'A', 'C', 'A', 'A', 'G', 'C', 'C', 'C', 'A', 'G', 'G', 'G', 'A', 'C', 'T', 'T', 'C', 'T', 'G', 'G', 'A', 'A', 'A', 'A', 'G', 'A', 'T', 'C', 'G', 'C', 'A', 'A', 'C', 'G', 'C', 'C', 'A', 'A', 'A', 'G', 'G', 'T', 'G', 'A', 'A', 'G', 'A', 'A', 'C', 'C', 'A', 'G', 'C', 'T', 'C', 'A', 'A', 'G', 'G', 'A', 'G', 'A', 'C', 'C', 'A', 'C', 'T', 'G', 'A', 'G', 'G', 'C', 'A', 'G', 'C', 'C', 'T', 'G', 'C', 'A', 'G', 'A', 'T', 'A', 'C', 'G', 'G', 'A', 'G', 'T', 'G', 'A', 'G', 'C', 'A', 'G', 'C', 'T', 'C', 'T', 'T', 'T', 'A', 'T', 'G', 'T', 'G', 'T', 'G', 'T', 'T', 'C', 'C', 'C', 'A', 'G', 'C', 'A', 'C', 'C', 'C', 'A', 'T', 'C', 'C', 'T', 'G', 'A', 'A', 'G', 'A', 'T', 'G', 'G', 'A', 'G', 'A', 'C', 'T', 'T', 'G', 'A', 'G', 'A', 'A', 'T', 'C', 'T', 'C', 'T', 'A', 'A', 'G', 'T', 'T', 'T', 'G', 'A', 'G', 'T', 'C', 'C', 'T', 'T', 'A', 'T', 'G', 'C', 'T', 'C', 'C', 'T', 'G', 'T', 'A', 'C', 'A', 'A', 'A', 'A', 'G', 'C', 'C', 'C', 'C', 'C', 'T', 'T', 'T', 'C', 'C', 'A', 'A', 'G', 'T', 'G', 'T', 'T', 'C', 'T', 'C', 'C', 'T', 'C', 'A', 'G', 'T', 'G', 'C', 'T', 'C', 'T', 'T', 'A', 'A', 'A', 'C', 'A', 'A', 'C', 'C', 'C', 'T', 'C', 'A', 'T', 'C', 'T', 'T', 'C', 'T', 'T', 'C', 'C', 'T', 'T', 'C', 'T', 'T', 'T', 'T', 'C', 'C', 'T', 'T', 'G', 'G', 'G', 'C', 'T', 'C', 'A', 'G', 'G', 'G', 'A', 'A', 'A', 'G', 'G', 'A', 'A', 'G', 'G', 'G', 'A', 'A', 'G', 'G', 'A', 'G', 'A', 'T', 'G', 'C', 'A', 'C', 'A', 'G', 'T', 'G', 'A', 'G', 'A', 'G', 'A', 'A', 'A', 'A', 'G', 'A', 'G', 'A', 'G', 'C', 'A', 'T', 'C', 'T', 'T', 'A', 'G', 'A', 'A', 'A', 'C', 'A', 'G', 'G', 'A', 'A', 'G', 'G', 'C', 'A', 'C', 'C', 'T', 'G', 'G', 'G', 'G', 'C', 'C', 'A', 'C', 'A', 'G', 'A', 'G', 'C', 'C', 'T', 'C', 'T', 'T', 'A', 'G', 'A', 'C', 'C', 'T', 'C', 'T', 'T', 'T', 'G', 'C', 'T', 'T', 'C', 'T', 'G', 'T', 'G', 'A', 'A', 'C', 'T', 'C', 'A', 'G', 'A', 'A', 'A', 'A', 'G', 'T', 'A', 'C', 'T', 'G', 'A', 'C', 'T', 'C', 'A', 'A', 'A', 'G', 'G', 'T', 'T', 'T', 'C', 'A', 'A', 'C', 'C', 'C', 'C', 'T', 'G', 'C', 'C', 'T', 'A', 'A', 'T', 'A', 'C', 'C', 'T', 'G', 'C', 'T', 'C', 'C', 'T', 'T', 'T', 'G', 'C', 'C', 'T', 'T', 'C', 'C', 'T', 'C', 'C', 'T', 'T', 'G', 'C', 'A', 'T', 'T', 'G', 'T', 'A', 'A', 'C', 'T', 'G', 'C', 'T', 'T', 'T', 'C', 'T', 'C', 'C', 'A', 'G', 'G', 'C', 'C', 'T', 'T', 'T', 'G', 'G', 'G', 'C', 'T', 'G', 'C', 'C', 'C', 'A', 'T', 'C', 'A', 'C', 'C', 'G', 'T', 'G', 'G', 'C', 'C', 'C', 'A', 'T', 'G', 'T', 'G', 'G', 'A', 'T', 'G', 'G', 'C', 'C', 'A', 'A', 'A', 'C', 'C', 'C', 'A', 'C', 'A', 'T', 'G', 'T', 'T', 'A', 'T', 'T', 'T', 'G', 'G', 'C', 'T', 'C', 'T', 'G', 'A', 'C', 'C', 'G', 'G', 'A', 'T', 'G', 'G', 'A', 'G', 'C', 'T', 'G', 'C', 'T', 'G', 'G', 'C', 'G', 'C', 'A', 'C', 'C', 'T', 'G', 'C', 'T', 'G', 'G', 'G', 'T', 'A', 'A', 'G', 'T', 'A', 'A', 'G', 'T', 'T', 'A', 'A', 'A', 'G', 'A', 'A', 'T', 'C', 'A', 'A', 'C', 'C', 'C', 'T', 'G', 'A', 'G', 'C', 'C', 'A', 'G', 'G', 'T', 'G', 'C', 'A', 'G', 'T', 'G', 'G', 'C', 'T', 'C', 'A', 'C', 'G', 'C', 'C', 'T', 'G', 'T', 'A', 'A', 'T', 'C', 'C', 'C', 'A', 'G', 'C', 'A', 'C', 'T', 'T', 'T', 'G', 'G', 'T', 'A', 'G', 'G', 'C', 'T', 'G', 'A', 'G', 'G', 'C', 'G', 'A', 'G', 'C', 'A', 'G', 'A', 'G', 'C', 'A', 'C', 'G', 'A', 'G', 'T', 'T', 'C', 'A', 'G', 'G', 'A', 'G', 'A', 'T', 'T', 'A', 'A', 'G', 'A', 'C', 'C', 'A', 'T', 'C', 'C', 'T', 'G', 'G', 'C', 'C', 'A', 'A', 'C', 'A', 'T', 'G', 'G', 'T', 'G', 'A', 'A', 'A', 'C', 'C', 'C', 'C', 'G', 'T', 'C', 'T', 'C', 'T', 'A', 'C', 'T', 'A', 'A', 'A', 'A', 'A', 'T', 'A', 'T', 'A', 'A', 'A', 'A', 'A', 'T', 'T', 'A', 'G', 'C', 'T', 'G', 'G', 'G', 'A', 'C', 'T', 'A', 'C', 'A', 'G', 'C', 'T', 'G', 'C', 'C', 'T', 'C', 'A', 'G', 'T', 'G', 'G', 'G', 'A', 'G', 'G', 'C', 'T', 'G', 'A', 'G', 'G', 'C', 'A', 'G', 'G', 'A', 'G', 'A', 'A', 'T', 'C', 'A', 'C', 'T', 'T', 'G', 'A', 'A', 'C', 'C', 'T', 'G', 'G', 'G', 'A', 'G', 'G', 'C', 'G', 'G', 'A', 'G', 'G', 'T', 'T', 'G', 'C', 'A', 'G', 'T', 'G', 'A', 'G', 'C', '[SEP]']\n",
      "['[CLS]', 'C', 'G', 'A', 'G', 'A', 'T', 'C', 'G', 'C', 'G', 'C', 'C', 'A', 'C', 'T', 'G', 'C', 'A', 'C', 'T', 'C', 'C', 'A', 'G', 'C', 'C', 'T', 'G', 'G', 'G', 'T', 'G', 'A', 'C', 'A', 'A', 'A', 'G', 'C', 'A', 'A', 'G', 'A', 'C', 'T', 'C', 'C', 'G', 'T', 'C', 'T', 'C', 'A', 'A', 'A', 'A', 'A', 'A', 'T', 'A', 'A', 'A', 'A', 'A', 'G', 'A', 'T', 'T', 'C', 'A', 'A', 'C', 'C', 'C', 'T', 'G', 'A', 'G', 'C', 'T', 'G', 'C', 'C', 'T', 'T', 'T', 'G', 'A', 'C', 'C', 'C', 'C', 'A', 'G', 'C', 'T', 'C', 'C', 'A', 'C', 'A', 'C', 'C', 'C', 'A', 'C', 'T', 'A', 'T', 'A', 'T', 'C', 'A', 'G', 'T', 'T', 'G', 'A', 'C', 'C', 'A', 'G', 'A', 'A', 'G', 'G', 'A', 'G', 'G', 'G', 'G', 'C', 'T', 'C', 'A', 'G', 'A', 'G', 'C', 'A', 'A', 'A', 'A', 'A', 'A', 'A', 'T', 'A', 'T', 'T', 'C', 'T', 'T', 'G', 'G', 'C', 'A', 'C', 'T', 'T', 'C', 'C', 'A', 'G', 'T', 'A', 'A', 'C', 'A', 'A', 'A', 'G', 'C', 'G', 'T', 'T', 'A', 'T', 'G', 'C', 'A', 'G', 'T', 'C', 'A', 'G', 'T', 'G', 'C', 'T', 'G', 'T', 'T', 'C', 'A', 'A', 'G', 'G', 'T', 'T', 'G', 'A', 'G', 'T', 'G', 'G', 'G', 'C', 'A', 'G', 'G', 'G', 'G', 'C', 'T', 'G', 'T', 'C', 'T', 'T', 'C', 'A', 'A', 'C', 'C', 'C', 'C', 'A', 'T', 'A', 'A', 'A', 'A', 'G', 'A', 'A', 'A', 'A', 'G', 'G', 'A', 'A', 'G', 'C', 'C', 'T', 'T', 'C', 'T', 'A', 'T', 'A', 'C', 'C', 'T', 'T', 'G', 'A', 'A', 'G', 'C', 'C', 'A', 'A', 'G', 'C', 'A', 'A', 'A', 'A', 'G', 'T', 'C', 'T', 'T', 'T', 'C', 'T', 'A', 'G', 'A', 'A', 'A', 'A', 'C', 'C', 'C', 'C', 'T', 'G', 'G', 'G', 'A', 'C', 'C', 'T', 'T', 'G', 'T', 'G', 'G', 'G', 'A', 'C', 'C', 'A', 'A', 'C', 'T', 'C', 'C', 'T', 'G', 'C', 'T', 'G', 'C', 'C', 'A', 'G', 'A', 'A', 'C', 'A', 'C', 'C', 'T', 'G', 'A', 'G', 'A', 'A', 'C', 'A', 'G', 'T', 'G', 'T', 'G', 'C', 'A', 'G', 'A', 'G', 'T', 'C', 'T', 'G', 'T', 'T', 'G', 'T', 'T', 'T', 'T', 'C', 'T', 'T', 'C', 'A', 'T', 'C', 'C', 'A', 'G', 'G', 'A', 'G', 'A', 'G', 'A', 'A', 'G', 'T', 'G', 'G', 'A', 'T', 'G', 'G', 'G', 'C', 'C', 'C', 'T', 'A', 'T', 'A', 'C', 'C', 'T', 'C', 'C', 'A', 'G', 'C', 'C', 'G', 'T', 'G', 'A', 'A', 'T', 'G', 'C', 'C', 'A', 'G', 'A', 'C', 'T', 'T', 'T', 'A', 'A', 'G', 'A', 'T', 'T', 'G', 'C', 'C', 'C', 'G', 'G', 'A', 'G', 'G', 'A', 'A', 'G', 'C', 'A', 'A', 'A', 'C', 'T', 'C', 'T', 'T', 'C', 'G', 'T', 'A', 'T', 'A', 'A', 'A', 'A', 'A', 'A', 'A', 'G', 'C', 'A', 'G', 'G', 'C', 'C', 'A', 'T', 'C', 'T', 'G', 'C', 'T', 'T', 'A', 'A', 'C', 'C', 'C', 'T', 'T', 'G', 'G', 'C', 'T', 'C', 'C', 'A', 'C', 'C', 'A', 'T', 'A', 'A', 'G', 'G', 'C', 'A', 'C', 'T', 'G', 'G', 'G', 'A', 'C', 'T', 'C', 'G', 'G', 'A', 'T', 'T', 'T', 'C', 'T', 'C', 'T', 'A', 'T', 'C', 'T', 'G', 'A', 'T', 'A', 'G', 'A', 'G', 'G', 'T', 'A', 'T', 'T', 'T', 'T', 'C', 'T', 'G', 'T', 'G', 'G', 'C', 'C', 'C', 'T', 'G', 'G', 'G', 'A', 'G', 'C', 'T', 'G', 'T', 'C', 'T', 'G', 'T', 'C', 'T', 'T', 'T', 'C', 'C', 'C', 'C', 'T', 'A', 'C', 'C', 'C', 'C', 'C', 'A', 'A', 'G', 'G', 'A', 'T', 'G', 'C', 'C', 'A', 'G', 'G', 'A', 'A', 'G', 'A', 'C', 'G', 'T', 'C', 'C', 'A', 'C', 'C', 'A', 'T', 'T', 'A', 'G', 'C', 'C', 'A', 'T', 'G', 'T', 'G', 'G', 'C', 'A', 'A', 'C', 'C', 'T', 'T', 'T', 'A', 'C', 'T', 'T', 'C', 'T', 'A', 'T', 'G', 'C', 'C', 'T', 'C', 'A', 'C', 'A', 'A', 'G', 'T', 'G', 'C', 'C', 'T', 'T', 'T', 'C', 'A', 'G', 'A', 'G', 'A', 'G', 'C', 'C', 'C', 'C', 'A', 'A', 'T', 'T', 'C', 'T', 'G', 'C', 'T', 'T', 'T', 'C', 'C', 'C', 'A', 'C', 'A', 'A', 'A', 'A', 'T', 'A', 'A', 'A', 'C', 'C', 'T', 'A', 'A', 'T', 'G', 'C', 'C', 'A', 'T', 'C', 'A', 'G', 'G', 'C', 'A', 'A', 'A', 'A', 'C', 'A', 'T', 'T', 'T', 'C', 'T', 'G', 'T', 'G', 'T', 'C', 'T', 'G', 'T', 'A', 'T', 'C', 'T', 'G', 'C', 'C', 'C', 'T', 'G', 'G', 'T', 'A', 'T', 'A', 'T', 'T', 'C', 'T', 'C', 'A', 'T', 'T', 'C', 'C', 'T', 'G', 'G', 'G', 'G', 'T', 'C', 'A', 'C', 'A', 'T', 'C', 'C', 'T', 'G', 'C', 'C', 'T', 'A', 'C', 'T', 'C', 'T', 'A', 'G', 'G', 'G', 'G', 'T', 'A', 'G', 'G', 'T', 'G', 'A', 'A', 'G', 'G', 'A', 'G', 'A', 'G', 'C', 'T', 'G', 'T', 'T', 'T', 'C', 'A', 'G', 'T', 'A', 'T', 'T', 'T', 'C', 'C', 'A', 'G', 'C', 'C', 'A', 'G', 'A', 'C', 'C', 'A', 'G', 'C', 'C', 'A', 'T', 'G', 'C', 'A', 'G', 'C', 'C', 'C', 'A', 'C', 'C', 'T', 'T', 'G', 'A', 'G', 'C', 'A', 'G', 'C', 'T', 'T', 'G', 'T', 'G', 'C', 'G', 'G', 'T', 'G', 'G', 'A', 'A', 'G', 'A', 'A', 'G', 'T', 'G', 'A', 'G', 'A', 'A', 'T', 'A', 'G', 'T', 'C', 'C', 'C', 'C', 'C', 'G', 'T', 'T', 'C', 'T', 'C', 'T', 'C', 'A', 'C', 'A', 'C', 'A', 'G', 'A', 'A', 'A', 'C', 'T', 'C', 'C', 'C', 'C', 'T', 'G', 'G', 'T', 'C', 'T', 'C', 'T', 'C', 'T', 'A', 'T', 'C', 'A', 'G', 'C', 'A', 'A', 'C', 'A', 'G', 'A', 'A', 'A', 'A', 'C', 'C', 'A', 'A', 'G', 'C', 'C', 'A', 'G', 'A', 'T', 'G', 'G', 'A', 'C', 'T', 'T', 'T', 'G', 'C', 'A', 'A', 'C', 'T', 'A', 'A', 'T', 'C', 'A', 'A', 'G', 'T', 'T', 'T', 'G', 'G', 'G', 'A', 'T', 'T', 'T', 'A', 'C', 'T', 'G', 'T', 'C', 'T', 'T', 'C', 'T', 'G', 'A', 'C', 'C', 'A', 'A', 'C', 'C', 'A', 'C', 'A', 'G', 'T', 'G', 'A', 'C', 'T', 'G', 'A', 'G', 'A', 'T', 'G', 'G', 'G', 'G', 'C', 'T', 'G', 'G', 'G', 'A', 'C', 'C', 'A', 'G', 'A', 'A', 'G', 'C', 'C', 'C', 'A', 'G', 'T', 'G', 'G', 'G', 'A', 'G', 'T', 'G', 'A', 'A', 'C', 'A', 'G', 'C', 'C', 'G', 'A', 'G', 'G', 'G', 'A', 'A', 'C', 'C', 'A', 'G', '[SEP]']\n",
      "['[PAD]', '[PAD]', '[PAD]', '[PAD]', '[PAD]', '[PAD]', '[PAD]', '[PAD]', '[PAD]', '[PAD]', '[PAD]', '[PAD]', '[PAD]', '[PAD]', '[PAD]', '[PAD]', '[PAD]', '[PAD]', '[PAD]', '[PAD]', '[PAD]', '[PAD]', '[PAD]', '[PAD]', '[PAD]', '[PAD]', '[PAD]', '[PAD]', '[PAD]', '[PAD]', '[PAD]', '[PAD]', '[PAD]', '[PAD]', '[PAD]', '[PAD]', '[PAD]', '[PAD]', '[PAD]', '[PAD]', '[PAD]', '[PAD]', '[PAD]', '[PAD]', '[PAD]', '[PAD]', '[PAD]', '[PAD]', '[PAD]', '[PAD]', '[PAD]', '[PAD]', '[PAD]', '[PAD]', '[PAD]', '[PAD]', '[PAD]', '[PAD]', '[PAD]', '[PAD]', '[PAD]', '[PAD]', '[PAD]', '[PAD]', '[PAD]', '[PAD]', '[PAD]', '[PAD]', '[PAD]', '[PAD]', '[PAD]', '[PAD]', '[PAD]', '[PAD]', '[PAD]', '[PAD]', '[PAD]', '[PAD]', '[PAD]', '[PAD]', '[PAD]', '[PAD]', '[PAD]', '[PAD]', '[PAD]', '[PAD]', '[PAD]', '[PAD]', '[PAD]', '[PAD]', '[PAD]', '[PAD]', '[PAD]', '[PAD]', '[PAD]', '[PAD]', '[PAD]', '[PAD]', '[PAD]', '[PAD]', '[PAD]', '[PAD]', '[PAD]', '[PAD]', '[PAD]', '[PAD]', '[PAD]', '[PAD]', '[PAD]', '[PAD]', '[PAD]', '[PAD]', '[PAD]', '[PAD]', '[PAD]', '[PAD]', '[PAD]', '[PAD]', '[PAD]', '[PAD]', '[PAD]', '[PAD]', '[PAD]', '[PAD]', '[PAD]', '[PAD]', '[PAD]', '[PAD]', '[PAD]', '[PAD]', '[PAD]', '[PAD]', '[PAD]', '[PAD]', '[PAD]', '[PAD]', '[PAD]', '[PAD]', '[PAD]', '[PAD]', '[PAD]', '[PAD]', '[PAD]', '[PAD]', '[PAD]', '[PAD]', '[PAD]', '[PAD]', '[PAD]', '[PAD]', '[PAD]', '[PAD]', '[PAD]', '[PAD]', '[PAD]', '[PAD]', '[PAD]', '[PAD]', '[PAD]', '[PAD]', '[PAD]', '[PAD]', '[PAD]', '[PAD]', '[PAD]', '[PAD]', '[PAD]', '[PAD]', '[PAD]', '[PAD]', '[PAD]', '[PAD]', '[PAD]', '[PAD]', '[PAD]', '[PAD]', '[PAD]', '[PAD]', '[PAD]', '[PAD]', '[PAD]', '[PAD]', '[PAD]', '[PAD]', '[PAD]', '[PAD]', '[PAD]', '[PAD]', '[PAD]', '[PAD]', '[PAD]', '[PAD]', '[PAD]', '[PAD]', '[PAD]', '[PAD]', '[PAD]', '[PAD]', '[PAD]', '[PAD]', '[PAD]', '[PAD]', '[PAD]', '[PAD]', '[PAD]', '[PAD]', '[PAD]', '[PAD]', '[PAD]', '[PAD]', '[PAD]', '[PAD]', '[PAD]', '[PAD]', '[PAD]', '[PAD]', '[PAD]', '[PAD]', '[PAD]', '[PAD]', '[PAD]', '[PAD]', '[PAD]', '[PAD]', '[PAD]', '[PAD]', '[PAD]', '[PAD]', '[PAD]', '[PAD]', '[PAD]', '[PAD]', '[PAD]', '[PAD]', '[PAD]', '[PAD]', '[PAD]', '[PAD]', '[PAD]', '[PAD]', '[PAD]', '[PAD]', '[PAD]', '[PAD]', '[PAD]', '[PAD]', '[PAD]', '[PAD]', '[PAD]', '[PAD]', '[PAD]', '[PAD]', '[PAD]', '[PAD]', '[PAD]', '[PAD]', '[PAD]', '[PAD]', '[PAD]', '[PAD]', '[PAD]', '[PAD]', '[PAD]', '[PAD]', '[PAD]', '[PAD]', '[PAD]', '[PAD]', '[PAD]', '[PAD]', '[PAD]', '[PAD]', '[PAD]', '[PAD]', '[PAD]', '[PAD]', '[PAD]', '[PAD]', '[PAD]', '[PAD]', '[PAD]', '[PAD]', '[PAD]', '[PAD]', '[PAD]', '[PAD]', '[PAD]', '[PAD]', '[PAD]', '[PAD]', '[PAD]', '[PAD]', '[PAD]', '[PAD]', '[PAD]', '[PAD]', '[PAD]', '[PAD]', '[PAD]', '[PAD]', '[PAD]', '[PAD]', '[PAD]', '[PAD]', '[PAD]', '[PAD]', '[PAD]', '[PAD]', '[PAD]', '[PAD]', '[PAD]', '[PAD]', '[PAD]', '[PAD]', '[PAD]', '[PAD]', '[PAD]', '[PAD]', '[PAD]', '[PAD]', '[PAD]', '[PAD]', '[PAD]', '[PAD]', '[PAD]', '[PAD]', '[PAD]', '[PAD]', '[PAD]', '[PAD]', '[PAD]', '[PAD]', '[PAD]', '[PAD]', '[PAD]', '[PAD]', '[PAD]', '[PAD]', '[PAD]', '[PAD]', '[PAD]', '[PAD]', '[PAD]', '[PAD]', '[PAD]', '[PAD]', '[PAD]', '[PAD]', '[PAD]', '[PAD]', '[PAD]', '[PAD]', '[PAD]', '[PAD]', '[PAD]', '[PAD]', '[PAD]', '[PAD]', '[PAD]', '[PAD]', '[PAD]', '[PAD]', '[PAD]', '[PAD]', '[PAD]', '[PAD]', '[PAD]', '[PAD]', '[PAD]', '[PAD]', '[PAD]', '[PAD]', '[PAD]', '[PAD]', '[PAD]', '[PAD]', '[PAD]', '[PAD]', '[PAD]', '[PAD]', '[PAD]', '[PAD]', '[PAD]', '[PAD]', '[PAD]', '[PAD]', '[PAD]', '[PAD]', '[PAD]', '[PAD]', '[PAD]', '[PAD]', '[PAD]', '[PAD]', '[PAD]', '[PAD]', '[PAD]', '[PAD]', '[PAD]', '[PAD]', '[PAD]', '[PAD]', '[PAD]', '[PAD]', '[PAD]', '[PAD]', '[PAD]', '[PAD]', '[PAD]', '[PAD]', '[PAD]', '[PAD]', '[PAD]', '[PAD]', '[PAD]', '[PAD]', '[PAD]', '[PAD]', '[PAD]', '[PAD]', '[PAD]', '[PAD]', '[PAD]', '[PAD]', '[PAD]', '[PAD]', '[PAD]', '[PAD]', '[PAD]', '[PAD]', '[PAD]', '[PAD]', '[PAD]', '[PAD]', '[PAD]', '[PAD]', '[PAD]', '[PAD]', '[PAD]', '[PAD]', '[PAD]', '[PAD]', '[PAD]', '[PAD]', '[PAD]', '[PAD]', '[PAD]', '[PAD]', '[PAD]', '[PAD]', '[PAD]', '[PAD]', '[PAD]', '[PAD]', '[PAD]', '[PAD]', '[PAD]', '[PAD]', '[PAD]', '[PAD]', '[PAD]', '[PAD]', '[PAD]', '[PAD]', '[PAD]', '[PAD]', '[PAD]', '[PAD]', '[PAD]', '[PAD]', '[PAD]', '[PAD]', '[PAD]', '[PAD]', '[PAD]', '[PAD]', '[PAD]', '[PAD]', '[PAD]', '[PAD]', '[PAD]', '[PAD]', '[PAD]', '[PAD]', '[PAD]', '[PAD]', '[PAD]', '[PAD]', '[PAD]', '[PAD]', '[PAD]', '[PAD]', '[PAD]', '[PAD]', '[PAD]', '[PAD]', '[PAD]', '[PAD]', '[PAD]', '[PAD]', '[PAD]', '[PAD]', '[PAD]', '[PAD]', '[PAD]', '[PAD]', '[PAD]', '[PAD]', '[PAD]', '[PAD]', '[PAD]', '[PAD]', '[PAD]', '[PAD]', '[PAD]', '[PAD]', '[PAD]', '[PAD]', '[PAD]', '[PAD]', '[PAD]', '[PAD]', '[PAD]', '[PAD]', '[PAD]', '[PAD]', '[PAD]', '[PAD]', '[PAD]', '[PAD]', '[PAD]', '[PAD]', '[PAD]', '[PAD]', '[PAD]', '[PAD]', '[PAD]', '[PAD]', '[PAD]', '[PAD]', '[PAD]', '[PAD]', '[PAD]', '[PAD]', '[PAD]', '[PAD]', '[PAD]', '[PAD]', '[PAD]', '[PAD]', '[PAD]', '[PAD]', '[PAD]', '[PAD]', '[PAD]', '[PAD]', '[PAD]', '[PAD]', '[PAD]', '[PAD]', '[PAD]', '[PAD]', '[PAD]', '[PAD]', '[PAD]', '[PAD]', '[PAD]', '[PAD]', '[PAD]', '[PAD]', '[PAD]', '[PAD]', '[PAD]', '[PAD]', '[PAD]', '[PAD]', '[PAD]', '[PAD]', '[PAD]', '[PAD]', '[PAD]', '[PAD]', '[PAD]', '[PAD]', '[PAD]', '[PAD]', '[PAD]', '[PAD]', '[PAD]', '[PAD]', '[PAD]', '[PAD]', '[PAD]', '[PAD]', '[PAD]', '[PAD]', '[PAD]', '[PAD]', '[PAD]', '[PAD]', '[PAD]', '[CLS]', 'A', 'G', 'T', 'C', 'T', 'G', 'G', 'C', 'T', 'G', 'A', 'G', 'C', 'T', 'T', 'G', 'T', 'G', 'G', 'C', 'C', 'A', 'G', 'A', 'T', 'A', 'T', 'T', 'T', 'A', 'A', 'A', 'C', 'T', 'G', 'G', 'G', 'T', 'C', 'C', 'A', 'G', 'C', 'C', 'A', 'C', 'A', 'C', 'C', 'T', 'G', 'C', 'A', 'A', 'A', 'A', 'C', 'C', 'A', 'G', 'G', 'G', 'C', 'A', 'A', 'G', 'G', 'C', 'A', 'G', 'T', 'A', 'C', 'C', 'G', 'G', 'G', 'A', 'A', 'A', 'C', 'T', 'G', 'G', 'C', 'T', 'G', 'G', 'A', 'G', 'T', 'T', 'G', 'C', 'T', 'G', 'C', 'G', 'G', 'T', 'T', 'T', 'G', 'G', 'G', 'G', 'A', 'A', 'G', 'T', 'T', 'G', 'C', 'A', 'C', 'A', 'C', 'C', 'C', 'T', 'T', 'T', 'C', 'A', 'T', 'A', 'G', 'A', 'T', 'A', 'C', 'C', 'T', 'C', 'C', 'C', 'T', 'T', 'A', 'A', 'C', 'C', 'C', 'T', 'C', 'A', 'G', 'T', 'G', 'C', 'A', 'G', 'A', 'T', 'T', 'C', 'T', 'G', 'A', 'G', 'A', 'A', 'A', 'A', 'C', 'T', 'C', 'C', 'A', 'A', 'G', 'G', 'C', 'T', 'T', 'C', 'T', 'C', 'T', 'G', 'C', 'C', 'T', 'A', 'A', 'C', 'C', 'T', 'A', 'G', 'T', 'A', 'T', 'A', 'A', 'C', 'C', 'C', 'C', 'T', 'G', 'T', 'T', 'C', 'C', 'C', 'T', 'A', 'C', 'T', 'A', 'C', 'A', 'T', 'A', 'C', 'A', 'T', 'A', 'T', 'A', 'A', 'C', 'T', 'T', 'T', 'T', 'C', 'C', 'A', 'T', 'T', 'C', 'C', 'C', 'C', 'C', 'A', 'G', 'T', 'A', 'A', 'T', 'T', 'G', 'A', 'C', 'C', 'C', 'A', 'A', 'A', 'G', 'T', 'C', 'C', 'C', 'T', 'G', 'C', 'C', 'T', 'C', 'T', 'A', 'G', 'C', 'T', 'G', 'T', 'G', 'C', 'C', 'C', 'A', 'T', 'T', 'G', 'T', 'G', 'C', 'A', 'A', 'T', 'G', 'A', 'T', 'C', 'A', 'G', 'A', 'A', 'T', 'C', 'C', 'C', 'T', 'T', 'G', 'T', 'T', 'T', 'C', 'A', 'A', 'T', 'A', 'G', 'T', 'A', 'T', 'T', 'T', 'T', 'G', 'A', 'C', 'T', 'T', 'C', 'T', 'T', 'T', 'A', 'A', 'G', 'A', 'A', 'T', 'A', 'C', 'T', 'C', 'T', 'G', 'T', 'A', 'T', 'T', 'T', 'G', 'G', 'A', 'A', 'G', 'C', 'T', 'G', 'A', 'A', 'A', 'C', 'C', 'T', 'C', 'A', 'C', 'T', 'T', 'G', 'G', 'A', 'T', 'C', 'C', 'A', 'T', 'T', 'G', 'T', 'T', 'G', 'G', 'G', 'A', 'A', 'C', 'C', 'A', 'A', 'G', 'T', 'A', 'C', 'G', 'G', 'A', 'G', 'C', 'C', 'T', 'T', 'A', 'C', 'A', 'T', 'A', 'G', 'C', 'C', 'C', 'G', 'G', 'A', 'G', 'G', 'A', 'G', 'T', 'T', 'T', 'C', 'A', 'G', 'G', 'A', 'G', 'C', 'A', 'A', 'T', 'G', 'C', '[SEP]']\n"
     ]
    }
   ],
   "source": [
    "MAX_MODEL_LENGTH = 1024  # Adjust this based on your model's max length\n",
    "\n",
    "for _, (sequences, _) in enumerate(dataloader):\n",
    "        print(f\"Len sequence: {len(sequences[0])} bases\")\n",
    "\n",
    "        chunked_sequences = []\n",
    "        chunk_ids = []\n",
    "\n",
    "        for seq_idx, seq in enumerate(sequences):\n",
    "            chunked_sequence = [\n",
    "                seq[i : i + MAX_MODEL_LENGTH]\n",
    "                for i in range(0, len(seq), MAX_MODEL_LENGTH)\n",
    "            ]\n",
    "            chunked_sequences.extend(chunked_sequence)\n",
    "            chunk_ids.extend([seq_idx] * len(chunked_sequence))\n",
    "\n",
    "        for seq, chunk_id in zip(chunked_sequences, chunk_ids):\n",
    "            print(f\"Chunk ID: {chunk_id}, Sequence: {seq} bases\")\n",
    "\n",
    "        input_ids = tokenizer(\n",
    "            chunked_sequences,\n",
    "            return_tensors=\"pt\",\n",
    "            return_token_type_ids=False,\n",
    "            return_attention_mask=False,  # HyenaDNA does not use attention masks\n",
    "            padding=\"longest\",\n",
    "        )[\"input_ids\"]\n",
    "\n",
    "        for ids in input_ids:\n",
    "            print(tokenizer.convert_ids_to_tokens(ids, skip_special_tokens=False))\n",
    "\n",
    "        break"
   ]
  }
 ],
 "metadata": {
  "kernelspec": {
   "display_name": "bend",
   "language": "python",
   "name": "python3"
  },
  "language_info": {
   "codemirror_mode": {
    "name": "ipython",
    "version": 3
   },
   "file_extension": ".py",
   "mimetype": "text/x-python",
   "name": "python",
   "nbconvert_exporter": "python",
   "pygments_lexer": "ipython3",
   "version": "3.10.16"
  }
 },
 "nbformat": 4,
 "nbformat_minor": 5
}
