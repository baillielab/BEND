{
 "cells": [
  {
   "cell_type": "code",
   "execution_count": null,
   "id": "521d59d5",
   "metadata": {},
   "outputs": [
    {
     "name": "stderr",
     "output_type": "stream",
     "text": [
      "/Users/dgreco2/miniconda3/envs/bend/lib/python3.10/site-packages/transformers/utils/generic.py:311: FutureWarning: `torch.utils._pytree._register_pytree_node` is deprecated. Please use `torch.utils._pytree.register_pytree_node` instead.\n",
      "  torch.utils._pytree._register_pytree_node(\n",
      "/Users/dgreco2/miniconda3/envs/bend/lib/python3.10/site-packages/transformers/utils/generic.py:311: FutureWarning: `torch.utils._pytree._register_pytree_node` is deprecated. Please use `torch.utils._pytree.register_pytree_node` instead.\n",
      "  torch.utils._pytree._register_pytree_node(\n"
     ]
    },
    {
     "name": "stdout",
     "output_type": "stream",
     "text": [
      "Using device: mps\n"
     ]
    }
   ],
   "source": [
    "from bend.models.dnabert2 import BertForMaskedLM as DNABert2BertForMaskedLM\n",
    "from transformers import AutoTokenizer\n",
    "import os\n",
    "from utils import generate_random_dna_sequence, get_device, remove_special_tokens_and_padding, upsample\n",
    "import torch\n",
    "\n",
    "EMBEDDER_PATH = 'zhihan1996/DNABERT-2-117M'\n",
    "\n",
    "PADDING_VALUE = -100\n",
    "\n",
    "device = get_device()"
   ]
  },
  {
   "cell_type": "code",
   "execution_count": 2,
   "id": "87f38af3",
   "metadata": {},
   "outputs": [
    {
     "name": "stderr",
     "output_type": "stream",
     "text": [
      "/Users/dgreco2/miniconda3/envs/bend/lib/python3.10/site-packages/huggingface_hub/file_download.py:896: FutureWarning: `resume_download` is deprecated and will be removed in version 1.0.0. Downloads always resume when possible. If you want to force a new download, use `force_download=True`.\n",
      "  warnings.warn(\n",
      "/Users/dgreco2/Desktop/WIP/BEND/bend/models/dnabert2.py:126: UserWarning: Unable to import Triton; defaulting MosaicBERT attention implementation to pytorch (this will reduce throughput when using this model).\n",
      "  warnings.warn(\n"
     ]
    }
   ],
   "source": [
    "model = DNABert2BertForMaskedLM.from_pretrained(EMBEDDER_PATH).eval().to(device)\n",
    "tokenizer = AutoTokenizer.from_pretrained(\n",
    "    EMBEDDER_PATH, trust_remote_code=True\n",
    ")"
   ]
  },
  {
   "cell_type": "code",
   "execution_count": 3,
   "id": "5ec6cfd1",
   "metadata": {},
   "outputs": [
    {
     "data": {
      "text/plain": [
       "['ACGAATGAGGCC',\n",
       " 'TTGCGTGCGC',\n",
       " 'GGACATC',\n",
       " 'AAACATATGGCGGC',\n",
       " 'TTTACCTAGAGA',\n",
       " 'CGGGTT',\n",
       " 'ATAGGCTACGGGTT',\n",
       " 'GGTAG',\n",
       " 'TCGCACTCAG',\n",
       " 'CAGTG']"
      ]
     },
     "execution_count": 3,
     "metadata": {},
     "output_type": "execute_result"
    }
   ],
   "source": [
    "sequences = [generate_random_dna_sequence(min_length=5, max_length=15) for _ in range(10)]\n",
    "sequences"
   ]
  },
  {
   "cell_type": "markdown",
   "id": "83c52b25",
   "metadata": {},
   "source": [
    "#### Tokenise sequences"
   ]
  },
  {
   "cell_type": "code",
   "execution_count": 4,
   "id": "60673588",
   "metadata": {},
   "outputs": [
    {
     "data": {
      "text/plain": [
       "tensor([[   1,    5,  166,   23,  136,    2],\n",
       "        [   1,   10,  577,  118,    2,    3],\n",
       "        [   1,   33,  278,    2,    3,    3],\n",
       "        [   1,   18,  902,  247,    6,    2],\n",
       "        [   1,   94,  114,   50,    2,    3],\n",
       "        [   1,   72,   31,    2,    3,    3],\n",
       "        [   1,    5,   99, 3547,   31,    2],\n",
       "        [   1,  138,    7,    2,    3,    3],\n",
       "        [   1,  704,   63,    7,    2,    3],\n",
       "        [   1,  176,    2,    3,    3,    3]])"
      ]
     },
     "execution_count": 4,
     "metadata": {},
     "output_type": "execute_result"
    }
   ],
   "source": [
    "output = tokenizer(\n",
    "    sequences,\n",
    "    return_tensors=\"pt\",\n",
    "    return_token_type_ids=False,\n",
    "    padding=\"longest\",\n",
    ")\n",
    "\n",
    "input_ids = output[\"input_ids\"]\n",
    "attention_mask = output[\"attention_mask\"]\n",
    "\n",
    "input_ids"
   ]
  },
  {
   "cell_type": "code",
   "execution_count": 5,
   "id": "f60a9bc1",
   "metadata": {},
   "outputs": [
    {
     "name": "stdout",
     "output_type": "stream",
     "text": [
      "['[CLS]', 'A', 'CGAA', 'TGA', 'GGCC', '[SEP]']\n",
      "['[CLS]', 'TT', 'GCGTG', 'CGC', '[SEP]', '[PAD]']\n",
      "['[CLS]', 'GGA', 'CATC', '[SEP]', '[PAD]', '[PAD]']\n",
      "['[CLS]', 'AAA', 'CATATG', 'GCGG', 'C', '[SEP]']\n",
      "['[CLS]', 'TTTA', 'CCTA', 'GAGA', '[SEP]', '[PAD]']\n",
      "['[CLS]', 'CGG', 'GTT', '[SEP]', '[PAD]', '[PAD]']\n",
      "['[CLS]', 'A', 'TAGG', 'CTACGG', 'GTT', '[SEP]']\n",
      "['[CLS]', 'GGTA', 'G', '[SEP]', '[PAD]', '[PAD]']\n",
      "['[CLS]', 'TCGCA', 'CTCA', 'G', '[SEP]', '[PAD]']\n",
      "['[CLS]', 'CAGTG', '[SEP]', '[PAD]', '[PAD]', '[PAD]']\n"
     ]
    }
   ],
   "source": [
    "for ids in input_ids:\n",
    "    print(tokenizer.convert_ids_to_tokens(ids, skip_special_tokens=False))"
   ]
  },
  {
   "cell_type": "code",
   "execution_count": 6,
   "id": "93db1e46",
   "metadata": {},
   "outputs": [
    {
     "data": {
      "text/plain": [
       "tensor([[1, 1, 1, 1, 1, 1],\n",
       "        [1, 1, 1, 1, 1, 0],\n",
       "        [1, 1, 1, 1, 0, 0],\n",
       "        [1, 1, 1, 1, 1, 1],\n",
       "        [1, 1, 1, 1, 1, 0],\n",
       "        [1, 1, 1, 1, 0, 0],\n",
       "        [1, 1, 1, 1, 1, 1],\n",
       "        [1, 1, 1, 1, 0, 0],\n",
       "        [1, 1, 1, 1, 1, 0],\n",
       "        [1, 1, 1, 0, 0, 0]])"
      ]
     },
     "execution_count": 6,
     "metadata": {},
     "output_type": "execute_result"
    }
   ],
   "source": [
    "attention_mask"
   ]
  },
  {
   "cell_type": "markdown",
   "id": "c636feaf",
   "metadata": {},
   "source": [
    "#### Embed Sequences"
   ]
  },
  {
   "cell_type": "code",
   "execution_count": 14,
   "id": "1a25410c",
   "metadata": {},
   "outputs": [
    {
     "data": {
      "text/plain": [
       "torch.Size([10, 6, 768])"
      ]
     },
     "execution_count": 14,
     "metadata": {},
     "output_type": "execute_result"
    }
   ],
   "source": [
    "embeddings = model(input_ids=input_ids.to(device), attention_mask=attention_mask.to(device))[\"hidden_states\"].detach().cpu()\n",
    "embeddings.size()"
   ]
  },
  {
   "cell_type": "code",
   "execution_count": 18,
   "id": "67b134a7",
   "metadata": {},
   "outputs": [
    {
     "data": {
      "text/plain": [
       "tensor([-0.0203,  0.0000,  0.0000,  0.0340,  0.0000,  0.0000, -0.1651,  0.0000,\n",
       "         0.0000,  0.0000])"
      ]
     },
     "execution_count": 18,
     "metadata": {},
     "output_type": "execute_result"
    }
   ],
   "source": [
    "embeddings[:, -1, -1]"
   ]
  },
  {
   "cell_type": "markdown",
   "id": "09673651",
   "metadata": {},
   "source": [
    "#### Upsample"
   ]
  },
  {
   "cell_type": "code",
   "execution_count": null,
   "id": "2cd9828f",
   "metadata": {},
   "outputs": [
    {
     "name": "stdout",
     "output_type": "stream",
     "text": [
      "---\n",
      "Embedding size:  torch.Size([6, 768])\n",
      "Masked embedding size:  torch.Size([4, 768])\n",
      "Upsampled embedding size:  torch.Size([12, 768])\n",
      "---\n",
      "Embedding size:  torch.Size([6, 768])\n",
      "Masked embedding size:  torch.Size([3, 768])\n",
      "Upsampled embedding size:  torch.Size([10, 768])\n",
      "---\n",
      "Embedding size:  torch.Size([6, 768])\n",
      "Masked embedding size:  torch.Size([2, 768])\n",
      "Upsampled embedding size:  torch.Size([7, 768])\n",
      "---\n",
      "Embedding size:  torch.Size([6, 768])\n",
      "Masked embedding size:  torch.Size([4, 768])\n",
      "Upsampled embedding size:  torch.Size([14, 768])\n",
      "---\n",
      "Embedding size:  torch.Size([6, 768])\n",
      "Masked embedding size:  torch.Size([3, 768])\n",
      "Upsampled embedding size:  torch.Size([12, 768])\n",
      "---\n",
      "Embedding size:  torch.Size([6, 768])\n",
      "Masked embedding size:  torch.Size([2, 768])\n",
      "Upsampled embedding size:  torch.Size([6, 768])\n",
      "---\n",
      "Embedding size:  torch.Size([6, 768])\n",
      "Masked embedding size:  torch.Size([4, 768])\n",
      "Upsampled embedding size:  torch.Size([14, 768])\n",
      "---\n",
      "Embedding size:  torch.Size([6, 768])\n",
      "Masked embedding size:  torch.Size([2, 768])\n",
      "Upsampled embedding size:  torch.Size([5, 768])\n",
      "---\n",
      "Embedding size:  torch.Size([6, 768])\n",
      "Masked embedding size:  torch.Size([3, 768])\n",
      "Upsampled embedding size:  torch.Size([10, 768])\n",
      "---\n",
      "Embedding size:  torch.Size([6, 768])\n",
      "Masked embedding size:  torch.Size([1, 768])\n",
      "Upsampled embedding size:  torch.Size([5, 768])\n"
     ]
    },
    {
     "data": {
      "text/plain": [
       "torch.Size([10, 14, 768])"
      ]
     },
     "execution_count": 16,
     "metadata": {},
     "output_type": "execute_result"
    }
   ],
   "source": [
    "upsampled_embeddings = []\n",
    "\n",
    "for ids, emb in zip(input_ids, embeddings):\n",
    "    print('---')\n",
    "    print('Embedding size: ', emb.size())\n",
    "    masked_emb = remove_special_tokens_and_padding(tokenizer, ids, emb)\n",
    "    print('Masked embedding size: ', masked_emb.size())\n",
    "    masked_emb = upsample(tokenizer, ids, masked_emb)\n",
    "    print('Upsampled embedding size: ', masked_emb.size())\n",
    "    upsampled_embeddings.append(masked_emb)\n",
    "\n",
    "upsampled_embeddings = torch.nn.utils.rnn.pad_sequence(\n",
    "        upsampled_embeddings, batch_first=True, padding_value=PADDING_VALUE)\n",
    "upsampled_embeddings.size()"
   ]
  },
  {
   "cell_type": "code",
   "execution_count": 17,
   "id": "c2f97da5",
   "metadata": {},
   "outputs": [
    {
     "data": {
      "text/plain": [
       "tensor([-1.0000e+02, -1.0000e+02, -1.0000e+02,  3.4659e-01, -1.0000e+02,\n",
       "        -1.0000e+02,  7.2293e-03, -1.0000e+02, -1.0000e+02, -1.0000e+02])"
      ]
     },
     "execution_count": 17,
     "metadata": {},
     "output_type": "execute_result"
    }
   ],
   "source": [
    "upsampled_embeddings[:, -1, -1]"
   ]
  },
  {
   "cell_type": "code",
   "execution_count": null,
   "id": "7dc9b103",
   "metadata": {},
   "outputs": [],
   "source": []
  }
 ],
 "metadata": {
  "kernelspec": {
   "display_name": "bend",
   "language": "python",
   "name": "python3"
  },
  "language_info": {
   "codemirror_mode": {
    "name": "ipython",
    "version": 3
   },
   "file_extension": ".py",
   "mimetype": "text/x-python",
   "name": "python",
   "nbconvert_exporter": "python",
   "pygments_lexer": "ipython3",
   "version": "3.10.16"
  }
 },
 "nbformat": 4,
 "nbformat_minor": 5
}
