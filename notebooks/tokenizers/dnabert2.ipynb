{
 "cells": [
  {
   "cell_type": "code",
   "execution_count": null,
   "id": "521d59d5",
   "metadata": {},
   "outputs": [
    {
     "name": "stdout",
     "output_type": "stream",
     "text": [
      "Using device: mps\n"
     ]
    }
   ],
   "source": [
    "from bend.models.dnabert2 import BertForMaskedLM as DNABert2BertForMaskedLM\n",
    "from transformers import AutoTokenizer\n",
    "import os\n",
    "from utils import generate_random_dna_sequence, get_device, chunkify_sequences, process_chunk_embeddings\n",
    "import torch\n",
    "import numpy as np\n",
    "\n",
    "EMBEDDER_PATH = 'zhihan1996/DNABERT-2-117M'\n",
    "\n",
    "PADDING_VALUE = -100\n",
    "\n",
    "device = get_device()"
   ]
  },
  {
   "cell_type": "code",
   "execution_count": 4,
   "id": "87f38af3",
   "metadata": {},
   "outputs": [
    {
     "name": "stderr",
     "output_type": "stream",
     "text": [
      "/Users/dgreco2/miniconda3/envs/bend/lib/python3.10/site-packages/huggingface_hub/file_download.py:896: FutureWarning: `resume_download` is deprecated and will be removed in version 1.0.0. Downloads always resume when possible. If you want to force a new download, use `force_download=True`.\n",
      "  warnings.warn(\n",
      "/Users/dgreco2/Desktop/BEND/bend/models/dnabert2.py:126: UserWarning: Unable to import Triton; defaulting MosaicBERT attention implementation to pytorch (this will reduce throughput when using this model).\n",
      "  warnings.warn(\n"
     ]
    }
   ],
   "source": [
    "model = DNABert2BertForMaskedLM.from_pretrained(EMBEDDER_PATH).eval().to(device)\n",
    "tokenizer = AutoTokenizer.from_pretrained(\n",
    "    EMBEDDER_PATH, trust_remote_code=True\n",
    ")"
   ]
  },
  {
   "cell_type": "code",
   "execution_count": 5,
   "id": "5ec6cfd1",
   "metadata": {},
   "outputs": [
    {
     "name": "stdout",
     "output_type": "stream",
     "text": [
      "CGCCAGAGCACTAT 14\n",
      "GCCGACC 7\n",
      "AGTAGATGA 9\n",
      "ATCGAAGAAA 10\n",
      "GATTTACACTTAGTT 15\n",
      "TGAACTCC 8\n",
      "TTGTT 5\n",
      "GGCTCGG 7\n",
      "GTAGATCTGGAC 12\n",
      "TCATATCTAAAA 12\n"
     ]
    }
   ],
   "source": [
    "sequences = [generate_random_dna_sequence(min_length=5, max_length=15) for _ in range(10)]\n",
    "\n",
    "for s in sequences:\n",
    "    print(s, len(s))"
   ]
  },
  {
   "cell_type": "code",
   "execution_count": 6,
   "id": "bd68075d",
   "metadata": {},
   "outputs": [
    {
     "name": "stdout",
     "output_type": "stream",
     "text": [
      "Chunk ID: 0, Sequence: CGCC\n",
      "Chunk ID: 0, Sequence: AGAG\n",
      "Chunk ID: 0, Sequence: CACT\n",
      "Chunk ID: 0, Sequence: AT\n",
      "Chunk ID: 1, Sequence: GCCG\n",
      "Chunk ID: 1, Sequence: ACC\n",
      "Chunk ID: 2, Sequence: AGTA\n",
      "Chunk ID: 2, Sequence: GATG\n",
      "Chunk ID: 2, Sequence: A\n",
      "Chunk ID: 3, Sequence: ATCG\n",
      "Chunk ID: 3, Sequence: AAGA\n",
      "Chunk ID: 3, Sequence: AA\n",
      "Chunk ID: 4, Sequence: GATT\n",
      "Chunk ID: 4, Sequence: TACA\n",
      "Chunk ID: 4, Sequence: CTTA\n",
      "Chunk ID: 4, Sequence: GTT\n",
      "Chunk ID: 5, Sequence: TGAA\n",
      "Chunk ID: 5, Sequence: CTCC\n",
      "Chunk ID: 6, Sequence: TTGT\n",
      "Chunk ID: 6, Sequence: T\n",
      "Chunk ID: 7, Sequence: GGCT\n",
      "Chunk ID: 7, Sequence: CGG\n",
      "Chunk ID: 8, Sequence: GTAG\n",
      "Chunk ID: 8, Sequence: ATCT\n",
      "Chunk ID: 8, Sequence: GGAC\n",
      "Chunk ID: 9, Sequence: TCAT\n",
      "Chunk ID: 9, Sequence: ATCT\n",
      "Chunk ID: 9, Sequence: AAAA\n"
     ]
    }
   ],
   "source": [
    "MAX_MODEL_LENGTH = 4\n",
    "chunked_sequences, chunk_ids = chunkify_sequences(sequences, MAX_MODEL_LENGTH)\n",
    "\n",
    "for seq, chunk_id in zip(chunked_sequences, chunk_ids):\n",
    "    print(f\"Chunk ID: {chunk_id}, Sequence: {seq}\")"
   ]
  },
  {
   "cell_type": "markdown",
   "id": "83c52b25",
   "metadata": {},
   "source": [
    "#### Tokenise sequences"
   ]
  },
  {
   "cell_type": "code",
   "execution_count": 7,
   "id": "60673588",
   "metadata": {},
   "outputs": [
    {
     "data": {
      "text/plain": [
       "tensor([[   1,  169,    2,    3,    3],\n",
       "        [   1,    5,   17,    7,    2],\n",
       "        [   1,   12, 1038,    2,    3],\n",
       "        [   1,    5,    8,    2,    3],\n",
       "        [   1,   36,    7,    2,    3],\n",
       "        [   1,    5,   13,    2,    3],\n",
       "        [   1,    5,   35,    2,    3],\n",
       "        [   1,   83,    2,    3,    3],\n",
       "        [   1,    5,    2,    3,    3],\n",
       "        [   1,    5,   16,    7,    2],\n",
       "        [   1,    9,   17,    2,    3],\n",
       "        [   1,    9,    2,    3,    3],\n",
       "        [   1,   73,    2,    3,    3],\n",
       "        [   1,   80,    2,    3,    3],\n",
       "        [   1,   81,    2,    3,    3],\n",
       "        [   1,   31,    2,    3,    3],\n",
       "        [   1,   52,    2,    3,    3],\n",
       "        [   1,   78,    2,    3,    3],\n",
       "        [   1,   10, 1049,    2,    3],\n",
       "        [   1,    8,    2,    3,    3],\n",
       "        [   1,   15, 1038,    2,    3],\n",
       "        [   1,   72,    2,    3,    3],\n",
       "        [   1,   35,    7,    2,    3],\n",
       "        [   1,    5, 2877,    2,    3],\n",
       "        [   1,   33,    6,    2,    3],\n",
       "        [   1,   22,    8,    2,    3],\n",
       "        [   1,    5, 2877,    2,    3],\n",
       "        [   1,   39,    2,    3,    3]])"
      ]
     },
     "execution_count": 7,
     "metadata": {},
     "output_type": "execute_result"
    }
   ],
   "source": [
    "output = tokenizer(\n",
    "    chunked_sequences,\n",
    "    return_tensors=\"pt\",\n",
    "    return_token_type_ids=False,\n",
    "    padding=\"longest\",\n",
    ")\n",
    "\n",
    "input_ids = output[\"input_ids\"]\n",
    "attention_mask = output[\"attention_mask\"]\n",
    "\n",
    "input_ids"
   ]
  },
  {
   "cell_type": "code",
   "execution_count": 8,
   "id": "f60a9bc1",
   "metadata": {},
   "outputs": [
    {
     "name": "stdout",
     "output_type": "stream",
     "text": [
      "['[CLS]', 'CGCC', '[SEP]', '[PAD]', '[PAD]']\n",
      "['[CLS]', 'A', 'GA', 'G', '[SEP]']\n",
      "['[CLS]', 'CA', 'CT', '[SEP]', '[PAD]']\n",
      "['[CLS]', 'A', 'T', '[SEP]', '[PAD]']\n",
      "['[CLS]', 'GCC', 'G', '[SEP]', '[PAD]']\n",
      "['[CLS]', 'A', 'CC', '[SEP]', '[PAD]']\n",
      "['[CLS]', 'A', 'GTA', '[SEP]', '[PAD]']\n",
      "['[CLS]', 'GATG', '[SEP]', '[PAD]', '[PAD]']\n",
      "['[CLS]', 'A', '[SEP]', '[PAD]', '[PAD]']\n",
      "['[CLS]', 'A', 'TC', 'G', '[SEP]']\n",
      "['[CLS]', 'AA', 'GA', '[SEP]', '[PAD]']\n",
      "['[CLS]', 'AA', '[SEP]', '[PAD]', '[PAD]']\n",
      "['[CLS]', 'GATT', '[SEP]', '[PAD]', '[PAD]']\n",
      "['[CLS]', 'TACA', '[SEP]', '[PAD]', '[PAD]']\n",
      "['[CLS]', 'CTTA', '[SEP]', '[PAD]', '[PAD]']\n",
      "['[CLS]', 'GTT', '[SEP]', '[PAD]', '[PAD]']\n",
      "['[CLS]', 'TGAA', '[SEP]', '[PAD]', '[PAD]']\n",
      "['[CLS]', 'CTCC', '[SEP]', '[PAD]', '[PAD]']\n",
      "['[CLS]', 'TT', 'GT', '[SEP]', '[PAD]']\n",
      "['[CLS]', 'T', '[SEP]', '[PAD]', '[PAD]']\n",
      "['[CLS]', 'GG', 'CT', '[SEP]', '[PAD]']\n",
      "['[CLS]', 'CGG', '[SEP]', '[PAD]', '[PAD]']\n",
      "['[CLS]', 'GTA', 'G', '[SEP]', '[PAD]']\n",
      "['[CLS]', 'A', 'TCT', '[SEP]', '[PAD]']\n",
      "['[CLS]', 'GGA', 'C', '[SEP]', '[PAD]']\n",
      "['[CLS]', 'TCA', 'T', '[SEP]', '[PAD]']\n",
      "['[CLS]', 'A', 'TCT', '[SEP]', '[PAD]']\n",
      "['[CLS]', 'AAAA', '[SEP]', '[PAD]', '[PAD]']\n"
     ]
    }
   ],
   "source": [
    "for ids in input_ids:\n",
    "    print(tokenizer.convert_ids_to_tokens(ids, skip_special_tokens=False))"
   ]
  },
  {
   "cell_type": "code",
   "execution_count": 9,
   "id": "93db1e46",
   "metadata": {},
   "outputs": [
    {
     "data": {
      "text/plain": [
       "tensor([[1, 1, 1, 0, 0],\n",
       "        [1, 1, 1, 1, 1],\n",
       "        [1, 1, 1, 1, 0],\n",
       "        [1, 1, 1, 1, 0],\n",
       "        [1, 1, 1, 1, 0],\n",
       "        [1, 1, 1, 1, 0],\n",
       "        [1, 1, 1, 1, 0],\n",
       "        [1, 1, 1, 0, 0],\n",
       "        [1, 1, 1, 0, 0],\n",
       "        [1, 1, 1, 1, 1],\n",
       "        [1, 1, 1, 1, 0],\n",
       "        [1, 1, 1, 0, 0],\n",
       "        [1, 1, 1, 0, 0],\n",
       "        [1, 1, 1, 0, 0],\n",
       "        [1, 1, 1, 0, 0],\n",
       "        [1, 1, 1, 0, 0],\n",
       "        [1, 1, 1, 0, 0],\n",
       "        [1, 1, 1, 0, 0],\n",
       "        [1, 1, 1, 1, 0],\n",
       "        [1, 1, 1, 0, 0],\n",
       "        [1, 1, 1, 1, 0],\n",
       "        [1, 1, 1, 0, 0],\n",
       "        [1, 1, 1, 1, 0],\n",
       "        [1, 1, 1, 1, 0],\n",
       "        [1, 1, 1, 1, 0],\n",
       "        [1, 1, 1, 1, 0],\n",
       "        [1, 1, 1, 1, 0],\n",
       "        [1, 1, 1, 0, 0]])"
      ]
     },
     "execution_count": 9,
     "metadata": {},
     "output_type": "execute_result"
    }
   ],
   "source": [
    "attention_mask"
   ]
  },
  {
   "cell_type": "markdown",
   "id": "c636feaf",
   "metadata": {},
   "source": [
    "#### Embed Sequences"
   ]
  },
  {
   "cell_type": "code",
   "execution_count": 10,
   "id": "1a25410c",
   "metadata": {},
   "outputs": [
    {
     "data": {
      "text/plain": [
       "(28, 5, 768)"
      ]
     },
     "execution_count": 10,
     "metadata": {},
     "output_type": "execute_result"
    }
   ],
   "source": [
    "embeddings = model(input_ids=input_ids.to(device), attention_mask=attention_mask.to(device))[\"hidden_states\"].detach().cpu().numpy()\n",
    "input_ids = input_ids.numpy()\n",
    "embeddings.shape\n"
   ]
  },
  {
   "cell_type": "code",
   "execution_count": 11,
   "id": "67b134a7",
   "metadata": {},
   "outputs": [
    {
     "data": {
      "text/plain": [
       "array([ 0.        , -0.06105152,  0.        ,  0.        ,  0.        ,\n",
       "        0.        ,  0.        ,  0.        ,  0.        ,  0.00236766,\n",
       "        0.        ,  0.        ,  0.        ,  0.        ,  0.        ,\n",
       "        0.        ,  0.        ,  0.        ,  0.        ,  0.        ,\n",
       "        0.        ,  0.        ,  0.        ,  0.        ,  0.        ,\n",
       "        0.        ,  0.        ,  0.        ], dtype=float32)"
      ]
     },
     "execution_count": 11,
     "metadata": {},
     "output_type": "execute_result"
    }
   ],
   "source": [
    "embeddings[:, -1, -1]"
   ]
  },
  {
   "cell_type": "markdown",
   "id": "09673651",
   "metadata": {},
   "source": [
    "#### Upsample"
   ]
  },
  {
   "cell_type": "code",
   "execution_count": 14,
   "id": "39b9c98a",
   "metadata": {},
   "outputs": [
    {
     "name": "stdout",
     "output_type": "stream",
     "text": [
      "Chunk ID: 0\n",
      "Sequence: CGCCAGAGCACTAT  Length: 14\n",
      "  Tokens: CGCCAGAGCACTAT\n",
      "Embedding shape: (14, 768)\n",
      "Chunk ID: 1\n",
      "Sequence: GCCGACC  Length: 7\n",
      "  Tokens: GCCGACC\n",
      "Embedding shape: (7, 768)\n",
      "Chunk ID: 2\n",
      "Sequence: AGTAGATGA  Length: 9\n",
      "  Tokens: AGTAGATGA\n",
      "Embedding shape: (9, 768)\n",
      "Chunk ID: 3\n",
      "Sequence: ATCGAAGAAA  Length: 10\n",
      "  Tokens: ATCGAAGAAA\n",
      "Embedding shape: (10, 768)\n",
      "Chunk ID: 4\n",
      "Sequence: GATTTACACTTAGTT  Length: 15\n",
      "  Tokens: GATTTACACTTAGTT\n",
      "Embedding shape: (15, 768)\n",
      "Chunk ID: 5\n",
      "Sequence: TGAACTCC  Length: 8\n",
      "  Tokens: TGAACTCC\n",
      "Embedding shape: (8, 768)\n",
      "Chunk ID: 6\n",
      "Sequence: TTGTT  Length: 5\n",
      "  Tokens: TTGTT\n",
      "Embedding shape: (5, 768)\n",
      "Chunk ID: 7\n",
      "Sequence: GGCTCGG  Length: 7\n",
      "  Tokens: GGCTCGG\n",
      "Embedding shape: (7, 768)\n",
      "Chunk ID: 8\n",
      "Sequence: GTAGATCTGGAC  Length: 12\n",
      "  Tokens: GTAGATCTGGAC\n",
      "Embedding shape: (12, 768)\n",
      "Chunk ID: 9\n",
      "Sequence: TCATATCTAAAA  Length: 12\n",
      "  Tokens: TCATATCTAAAA\n",
      "Embedding shape: (12, 768)\n"
     ]
    }
   ],
   "source": [
    "sequence_embeddings, masked_tokens = process_chunk_embeddings(tokenizer, embeddings, input_ids, chunk_ids, upsample=True)\n",
    "\n",
    "for i, seq_emb in enumerate(sequence_embeddings):\n",
    "    assert sequences[i] == ''.join(masked_tokens[i]), f\"Mismatch in sequence {i}: {sequences[i]} != {''.join(masked_tokens[i])}\"\n",
    "    print(f\"Chunk ID: {np.unique(chunk_ids)[i]}\")\n",
    "    print(f\"Sequence: {sequences[i]}  Length: {len(sequences[i])}\")\n",
    "    print(f\"  Tokens: {''.join(masked_tokens[i])}\")\n",
    "    print(f\"Embedding shape: {seq_emb.shape}\")"
   ]
  },
  {
   "cell_type": "code",
   "execution_count": null,
   "id": "7dc9b103",
   "metadata": {},
   "outputs": [],
   "source": []
  }
 ],
 "metadata": {
  "kernelspec": {
   "display_name": "bend",
   "language": "python",
   "name": "python3"
  },
  "language_info": {
   "codemirror_mode": {
    "name": "ipython",
    "version": 3
   },
   "file_extension": ".py",
   "mimetype": "text/x-python",
   "name": "python",
   "nbconvert_exporter": "python",
   "pygments_lexer": "ipython3",
   "version": "3.10.16"
  }
 },
 "nbformat": 4,
 "nbformat_minor": 5
}
