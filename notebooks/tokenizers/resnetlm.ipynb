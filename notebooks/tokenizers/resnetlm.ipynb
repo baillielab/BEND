{
 "cells": [
  {
   "cell_type": "code",
   "execution_count": null,
   "id": "521d59d5",
   "metadata": {},
   "outputs": [
    {
     "name": "stderr",
     "output_type": "stream",
     "text": [
      "/Users/dgreco2/miniconda3/envs/bend/lib/python3.10/site-packages/transformers/utils/generic.py:311: FutureWarning: `torch.utils._pytree._register_pytree_node` is deprecated. Please use `torch.utils._pytree.register_pytree_node` instead.\n",
      "  torch.utils._pytree._register_pytree_node(\n",
      "/Users/dgreco2/miniconda3/envs/bend/lib/python3.10/site-packages/transformers/utils/generic.py:311: FutureWarning: `torch.utils._pytree._register_pytree_node` is deprecated. Please use `torch.utils._pytree.register_pytree_node` instead.\n",
      "  torch.utils._pytree._register_pytree_node(\n"
     ]
    },
    {
     "name": "stdout",
     "output_type": "stream",
     "text": [
      "Using device: mps\n"
     ]
    }
   ],
   "source": [
    "from bend.models.dilated_cnn import ConvNetModel\n",
    "from transformers import AutoTokenizer\n",
    "import os\n",
    "from utils import generate_random_dna_sequence, get_device, pad_embeddings\n",
    "import torch\n",
    "\n",
    "WORK_PATH = '../../'\n",
    "EMBEDDER_DIR = os.path.join(WORK_PATH, 'pretrained_models')\n",
    "EMBEDDER_NAME = 'convnet'\n",
    "EMBEDDER_PATH = os.path.join(EMBEDDER_DIR, EMBEDDER_NAME)\n",
    "\n",
    "PADDING_VALUE = -100\n",
    "\n",
    "device = get_device()"
   ]
  },
  {
   "cell_type": "code",
   "execution_count": 2,
   "id": "87f38af3",
   "metadata": {},
   "outputs": [],
   "source": [
    "tokenizer = AutoTokenizer.from_pretrained(EMBEDDER_PATH)\n",
    "model = ConvNetModel.from_pretrained(EMBEDDER_PATH).to(device).eval().eval().to(device)"
   ]
  },
  {
   "cell_type": "code",
   "execution_count": 3,
   "id": "5ec6cfd1",
   "metadata": {},
   "outputs": [
    {
     "data": {
      "text/plain": [
       "['TGCTGCG',\n",
       " 'ACTGTAACGATCT',\n",
       " 'TCCGC',\n",
       " 'ACCCTGGGGAGAGC',\n",
       " 'ATTATA',\n",
       " 'ATTGTATCACCGA',\n",
       " 'TAGTTGCCTCCCTGC',\n",
       " 'TTACGGGA',\n",
       " 'GACACGCTA',\n",
       " 'AATCGCTG']"
      ]
     },
     "execution_count": 3,
     "metadata": {},
     "output_type": "execute_result"
    }
   ],
   "source": [
    "sequences = [generate_random_dna_sequence(min_length=5, max_length=15) for _ in range(10)]\n",
    "sequences"
   ]
  },
  {
   "cell_type": "markdown",
   "id": "83c52b25",
   "metadata": {},
   "source": [
    "#### Tokenise sequences"
   ]
  },
  {
   "cell_type": "code",
   "execution_count": 4,
   "id": "60673588",
   "metadata": {},
   "outputs": [
    {
     "data": {
      "text/plain": [
       "tensor([[6, 5, 4, 6, 5, 4, 5, 0, 0, 0, 0, 0, 0, 0, 0],\n",
       "        [3, 4, 6, 5, 6, 3, 3, 4, 5, 3, 6, 4, 6, 0, 0],\n",
       "        [6, 4, 4, 5, 4, 0, 0, 0, 0, 0, 0, 0, 0, 0, 0],\n",
       "        [3, 4, 4, 4, 6, 5, 5, 5, 5, 3, 5, 3, 5, 4, 0],\n",
       "        [3, 6, 6, 3, 6, 3, 0, 0, 0, 0, 0, 0, 0, 0, 0],\n",
       "        [3, 6, 6, 5, 6, 3, 6, 4, 3, 4, 4, 5, 3, 0, 0],\n",
       "        [6, 3, 5, 6, 6, 5, 4, 4, 6, 4, 4, 4, 6, 5, 4],\n",
       "        [6, 6, 3, 4, 5, 5, 5, 3, 0, 0, 0, 0, 0, 0, 0],\n",
       "        [5, 3, 4, 3, 4, 5, 4, 6, 3, 0, 0, 0, 0, 0, 0],\n",
       "        [3, 3, 6, 4, 5, 4, 6, 5, 0, 0, 0, 0, 0, 0, 0]])"
      ]
     },
     "execution_count": 4,
     "metadata": {},
     "output_type": "execute_result"
    }
   ],
   "source": [
    "output = tokenizer(\n",
    "    sequences,\n",
    "    return_tensors=\"pt\",\n",
    "    return_token_type_ids=False,\n",
    "    padding=\"longest\",\n",
    ")\n",
    "\n",
    "input_ids = output[\"input_ids\"]\n",
    "attention_mask = output[\"attention_mask\"]\n",
    "\n",
    "input_ids"
   ]
  },
  {
   "cell_type": "code",
   "execution_count": 5,
   "id": "19ec0961",
   "metadata": {},
   "outputs": [
    {
     "name": "stdout",
     "output_type": "stream",
     "text": [
      "['t', 'g', 'c', 't', 'g', 'c', 'g', '[PAD]', '[PAD]', '[PAD]', '[PAD]', '[PAD]', '[PAD]', '[PAD]', '[PAD]']\n",
      "['a', 'c', 't', 'g', 't', 'a', 'a', 'c', 'g', 'a', 't', 'c', 't', '[PAD]', '[PAD]']\n",
      "['t', 'c', 'c', 'g', 'c', '[PAD]', '[PAD]', '[PAD]', '[PAD]', '[PAD]', '[PAD]', '[PAD]', '[PAD]', '[PAD]', '[PAD]']\n",
      "['a', 'c', 'c', 'c', 't', 'g', 'g', 'g', 'g', 'a', 'g', 'a', 'g', 'c', '[PAD]']\n",
      "['a', 't', 't', 'a', 't', 'a', '[PAD]', '[PAD]', '[PAD]', '[PAD]', '[PAD]', '[PAD]', '[PAD]', '[PAD]', '[PAD]']\n",
      "['a', 't', 't', 'g', 't', 'a', 't', 'c', 'a', 'c', 'c', 'g', 'a', '[PAD]', '[PAD]']\n",
      "['t', 'a', 'g', 't', 't', 'g', 'c', 'c', 't', 'c', 'c', 'c', 't', 'g', 'c']\n",
      "['t', 't', 'a', 'c', 'g', 'g', 'g', 'a', '[PAD]', '[PAD]', '[PAD]', '[PAD]', '[PAD]', '[PAD]', '[PAD]']\n",
      "['g', 'a', 'c', 'a', 'c', 'g', 'c', 't', 'a', '[PAD]', '[PAD]', '[PAD]', '[PAD]', '[PAD]', '[PAD]']\n",
      "['a', 'a', 't', 'c', 'g', 'c', 't', 'g', '[PAD]', '[PAD]', '[PAD]', '[PAD]', '[PAD]', '[PAD]', '[PAD]']\n"
     ]
    }
   ],
   "source": [
    "for ids in input_ids:\n",
    "    print(tokenizer.convert_ids_to_tokens(ids, skip_special_tokens=False))"
   ]
  },
  {
   "cell_type": "code",
   "execution_count": 6,
   "id": "93db1e46",
   "metadata": {},
   "outputs": [
    {
     "data": {
      "text/plain": [
       "tensor([[1, 1, 1, 1, 1, 1, 1, 0, 0, 0, 0, 0, 0, 0, 0],\n",
       "        [1, 1, 1, 1, 1, 1, 1, 1, 1, 1, 1, 1, 1, 0, 0],\n",
       "        [1, 1, 1, 1, 1, 0, 0, 0, 0, 0, 0, 0, 0, 0, 0],\n",
       "        [1, 1, 1, 1, 1, 1, 1, 1, 1, 1, 1, 1, 1, 1, 0],\n",
       "        [1, 1, 1, 1, 1, 1, 0, 0, 0, 0, 0, 0, 0, 0, 0],\n",
       "        [1, 1, 1, 1, 1, 1, 1, 1, 1, 1, 1, 1, 1, 0, 0],\n",
       "        [1, 1, 1, 1, 1, 1, 1, 1, 1, 1, 1, 1, 1, 1, 1],\n",
       "        [1, 1, 1, 1, 1, 1, 1, 1, 0, 0, 0, 0, 0, 0, 0],\n",
       "        [1, 1, 1, 1, 1, 1, 1, 1, 1, 0, 0, 0, 0, 0, 0],\n",
       "        [1, 1, 1, 1, 1, 1, 1, 1, 0, 0, 0, 0, 0, 0, 0]])"
      ]
     },
     "execution_count": 6,
     "metadata": {},
     "output_type": "execute_result"
    }
   ],
   "source": [
    "attention_mask"
   ]
  },
  {
   "cell_type": "markdown",
   "id": "96c8277f",
   "metadata": {},
   "source": [
    "#### Embed sequences"
   ]
  },
  {
   "cell_type": "code",
   "execution_count": 26,
   "id": "2f95ec94",
   "metadata": {},
   "outputs": [
    {
     "data": {
      "text/plain": [
       "torch.Size([10, 15, 256])"
      ]
     },
     "execution_count": 26,
     "metadata": {},
     "output_type": "execute_result"
    }
   ],
   "source": [
    "embeddings = model(input_ids=input_ids.to(device)).last_hidden_state.detach()\n",
    "embeddings.size()"
   ]
  },
  {
   "cell_type": "code",
   "execution_count": 27,
   "id": "523f6980",
   "metadata": {},
   "outputs": [
    {
     "data": {
      "text/plain": [
       "tensor([[[ 2.3741e+00,  2.5866e+00,  3.5126e-01,  ..., -3.7956e+00,\n",
       "           7.1755e-01,  5.9118e+00],\n",
       "         [ 8.9125e+00,  5.6957e+00, -4.0249e+00,  ..., -2.4655e-02,\n",
       "           3.1164e-01, -3.6897e+00],\n",
       "         [ 7.6138e+00,  5.4017e+00, -2.0462e+00,  ..., -1.9721e-02,\n",
       "           1.3770e+00, -1.8145e+00],\n",
       "         ...,\n",
       "         [ 7.3280e+00,  1.5545e+00, -8.3563e-01,  ..., -4.6375e+00,\n",
       "           3.7045e-01,  7.1262e+00],\n",
       "         [ 8.2953e+00,  3.1282e-01, -2.2682e+00,  ..., -1.4121e+00,\n",
       "           1.6485e+00, -1.5751e+00],\n",
       "         [ 7.5224e+00, -2.9341e+00, -2.3099e+00,  ..., -1.8222e+00,\n",
       "          -1.0883e+00,  2.9411e+00]],\n",
       "\n",
       "        [[ 4.2401e+00,  1.1803e+00, -2.7010e+00,  ..., -1.5993e+00,\n",
       "           2.0799e+00,  5.3699e+00],\n",
       "         [ 1.5626e+00,  2.7013e+00, -8.0157e-01,  ...,  7.3217e-01,\n",
       "           1.8076e+00,  2.2686e+00],\n",
       "         [ 5.7458e+00, -4.9225e+00,  3.4357e+00,  ..., -1.9603e-01,\n",
       "          -2.7376e-01,  8.5376e-01],\n",
       "         ...,\n",
       "         [ 6.1897e+00, -1.9003e+00,  2.5111e+00,  ..., -2.0314e+00,\n",
       "           4.4273e-01,  3.7895e-01],\n",
       "         [ 7.4934e+00,  4.0925e-01, -3.0294e+00,  ..., -1.3065e+00,\n",
       "           5.4067e-01, -1.2550e+00],\n",
       "         [ 1.0032e+01,  1.7971e-01, -2.0989e+00,  ...,  4.9938e-01,\n",
       "           3.2458e+00, -1.3795e+00]],\n",
       "\n",
       "        [[ 4.3830e+00,  1.1582e+00, -1.7491e+00,  ..., -1.1831e+00,\n",
       "           4.6488e-01, -2.0093e+00],\n",
       "         [ 6.0406e+00,  2.3385e+00,  6.1877e-01,  ..., -2.2825e+00,\n",
       "           1.0252e+00, -1.9642e+00],\n",
       "         [ 6.9434e+00,  3.0356e+00,  1.3993e+00,  ..., -2.8994e+00,\n",
       "           1.1151e+00, -1.5658e+00],\n",
       "         ...,\n",
       "         [ 6.9743e+00,  1.3042e+00, -3.4234e+00,  ..., -7.6620e-01,\n",
       "           6.8113e-01, -1.7364e+00],\n",
       "         [ 6.7738e+00,  1.3482e+00, -2.3412e+00,  ..., -1.2268e+00,\n",
       "          -4.5126e-01, -2.1475e+00],\n",
       "         [ 3.5282e+00,  1.6797e+00, -2.5035e+00,  ..., -1.1280e+00,\n",
       "          -6.4455e-01,  1.6627e+00]],\n",
       "\n",
       "        ...,\n",
       "\n",
       "        [[ 3.1930e+00,  6.8020e-01,  2.3524e+00,  ..., -9.1878e-01,\n",
       "           1.4791e+00,  5.8372e-03],\n",
       "         [ 1.2925e+00,  5.4627e+00, -1.6263e-01,  ...,  1.1560e-01,\n",
       "           2.9200e+00,  6.6669e-01],\n",
       "         [ 3.3909e+00,  3.6649e+00, -3.7347e+00,  ..., -4.3074e-01,\n",
       "           7.1898e-01,  8.3065e-01],\n",
       "         ...,\n",
       "         [ 4.7825e+00, -1.9427e+00, -3.4786e+00,  ..., -4.6582e+00,\n",
       "           1.6877e+00,  9.8381e+00],\n",
       "         [ 8.2691e+00, -9.0232e-01, -2.7299e+00,  ..., -1.7402e+00,\n",
       "           1.5208e+00, -2.2931e-01],\n",
       "         [ 6.6467e+00, -2.1251e+00, -1.3629e+00,  ..., -1.7804e+00,\n",
       "           2.4694e-01,  3.8946e+00]],\n",
       "\n",
       "        [[ 2.4063e+00,  1.1323e+00,  3.0542e-02,  ...,  3.1174e+00,\n",
       "           2.9064e-01, -1.2804e+00],\n",
       "         [-6.5175e-01,  4.8705e+00, -3.1612e+00,  ..., -2.3691e+00,\n",
       "           2.7671e+00,  9.3593e+00],\n",
       "         [-1.2960e+00,  3.1384e+00,  1.5815e+00,  ..., -4.4512e-01,\n",
       "           5.0436e+00, -1.9328e+00],\n",
       "         ...,\n",
       "         [ 9.0966e+00,  3.5467e+00,  1.6811e+00,  ..., -3.2136e+00,\n",
       "           4.5476e+00,  1.9488e+00],\n",
       "         [ 1.0184e+00,  5.6624e+00,  6.8782e-01,  ..., -2.8476e+00,\n",
       "           1.6800e+00, -3.3028e-01],\n",
       "         [ 1.1302e+01,  4.1710e+00, -3.7124e-01,  ..., -2.9011e+00,\n",
       "           1.0323e+00, -1.4971e+00]],\n",
       "\n",
       "        [[ 3.8920e+00,  5.6717e+00, -1.7764e+00,  ...,  7.4853e-01,\n",
       "           3.1580e+00,  8.3804e+00],\n",
       "         [ 5.2318e+00,  2.8159e+00, -5.1554e-01,  ...,  4.4972e-01,\n",
       "           2.3304e+00, -4.8877e+00],\n",
       "         [ 4.2045e+00,  2.5876e+00,  1.7705e+00,  ..., -2.4780e+00,\n",
       "           4.6788e+00, -4.9182e-01],\n",
       "         ...,\n",
       "         [ 6.6521e+00,  1.7641e+00, -1.4403e+00,  ..., -1.9948e+00,\n",
       "           3.1255e+00,  1.0709e+00],\n",
       "         [ 9.1013e+00,  2.5222e+00, -5.9951e-01,  ..., -2.2506e+00,\n",
       "           1.0666e+00, -2.8925e-02],\n",
       "         [ 8.4163e+00, -2.3503e+00, -2.9804e+00,  ...,  3.0224e-01,\n",
       "           1.1513e-01,  2.8183e+00]]], device='mps:0')"
      ]
     },
     "execution_count": 27,
     "metadata": {},
     "output_type": "execute_result"
    }
   ],
   "source": [
    "embeddings"
   ]
  },
  {
   "cell_type": "markdown",
   "id": "f1a7bfc1",
   "metadata": {},
   "source": [
    "#### Remove padding and stack into batch"
   ]
  },
  {
   "cell_type": "code",
   "execution_count": null,
   "id": "7a0fe638",
   "metadata": {},
   "outputs": [
    {
     "data": {
      "text/plain": [
       "tensor([[[ 2.3741e+00,  2.5866e+00,  3.5126e-01,  ..., -3.7956e+00,\n",
       "           7.1755e-01,  5.9118e+00],\n",
       "         [ 8.9125e+00,  5.6957e+00, -4.0249e+00,  ..., -2.4655e-02,\n",
       "           3.1164e-01, -3.6897e+00],\n",
       "         [ 7.6138e+00,  5.4017e+00, -2.0462e+00,  ..., -1.9721e-02,\n",
       "           1.3770e+00, -1.8145e+00],\n",
       "         ...,\n",
       "         [ 7.3280e+00,  1.5545e+00, -8.3563e-01,  ..., -4.6375e+00,\n",
       "           3.7045e-01,  7.1262e+00],\n",
       "         [ 8.2953e+00,  3.1282e-01, -2.2682e+00,  ..., -1.4121e+00,\n",
       "           1.6485e+00, -1.5751e+00],\n",
       "         [ 7.5224e+00, -2.9341e+00, -2.3099e+00,  ..., -1.8222e+00,\n",
       "          -1.0883e+00,  2.9411e+00]],\n",
       "\n",
       "        [[ 4.2401e+00,  1.1803e+00, -2.7010e+00,  ..., -1.5993e+00,\n",
       "           2.0799e+00,  5.3699e+00],\n",
       "         [ 1.5626e+00,  2.7013e+00, -8.0157e-01,  ...,  7.3217e-01,\n",
       "           1.8076e+00,  2.2686e+00],\n",
       "         [ 5.7458e+00, -4.9225e+00,  3.4357e+00,  ..., -1.9603e-01,\n",
       "          -2.7376e-01,  8.5376e-01],\n",
       "         ...,\n",
       "         [ 6.1897e+00, -1.9003e+00,  2.5111e+00,  ..., -2.0314e+00,\n",
       "           4.4273e-01,  3.7895e-01],\n",
       "         [ 7.4934e+00,  4.0925e-01, -3.0294e+00,  ..., -1.3065e+00,\n",
       "           5.4067e-01, -1.2550e+00],\n",
       "         [ 1.0032e+01,  1.7971e-01, -2.0989e+00,  ...,  4.9938e-01,\n",
       "           3.2458e+00, -1.3795e+00]],\n",
       "\n",
       "        [[ 4.3830e+00,  1.1582e+00, -1.7491e+00,  ..., -1.1831e+00,\n",
       "           4.6488e-01, -2.0093e+00],\n",
       "         [ 6.0406e+00,  2.3385e+00,  6.1877e-01,  ..., -2.2825e+00,\n",
       "           1.0252e+00, -1.9642e+00],\n",
       "         [ 6.9434e+00,  3.0356e+00,  1.3993e+00,  ..., -2.8994e+00,\n",
       "           1.1151e+00, -1.5658e+00],\n",
       "         ...,\n",
       "         [ 6.9743e+00,  1.3042e+00, -3.4234e+00,  ..., -7.6620e-01,\n",
       "           6.8113e-01, -1.7364e+00],\n",
       "         [ 6.7738e+00,  1.3482e+00, -2.3412e+00,  ..., -1.2268e+00,\n",
       "          -4.5126e-01, -2.1475e+00],\n",
       "         [ 3.5282e+00,  1.6797e+00, -2.5035e+00,  ..., -1.1280e+00,\n",
       "          -6.4455e-01,  1.6627e+00]],\n",
       "\n",
       "        ...,\n",
       "\n",
       "        [[ 3.1930e+00,  6.8020e-01,  2.3524e+00,  ..., -9.1878e-01,\n",
       "           1.4791e+00,  5.8372e-03],\n",
       "         [ 1.2925e+00,  5.4627e+00, -1.6263e-01,  ...,  1.1560e-01,\n",
       "           2.9200e+00,  6.6669e-01],\n",
       "         [ 3.3909e+00,  3.6649e+00, -3.7347e+00,  ..., -4.3074e-01,\n",
       "           7.1898e-01,  8.3065e-01],\n",
       "         ...,\n",
       "         [ 4.7825e+00, -1.9427e+00, -3.4786e+00,  ..., -4.6582e+00,\n",
       "           1.6877e+00,  9.8381e+00],\n",
       "         [ 8.2691e+00, -9.0232e-01, -2.7299e+00,  ..., -1.7402e+00,\n",
       "           1.5208e+00, -2.2931e-01],\n",
       "         [ 6.6467e+00, -2.1251e+00, -1.3629e+00,  ..., -1.7804e+00,\n",
       "           2.4694e-01,  3.8946e+00]],\n",
       "\n",
       "        [[-1.0000e+02, -1.0000e+02, -1.0000e+02,  ..., -1.0000e+02,\n",
       "          -1.0000e+02, -1.0000e+02],\n",
       "         [-1.0000e+02, -1.0000e+02, -1.0000e+02,  ..., -1.0000e+02,\n",
       "          -1.0000e+02, -1.0000e+02],\n",
       "         [-1.0000e+02, -1.0000e+02, -1.0000e+02,  ..., -1.0000e+02,\n",
       "          -1.0000e+02, -1.0000e+02],\n",
       "         ...,\n",
       "         [-1.0000e+02, -1.0000e+02, -1.0000e+02,  ..., -1.0000e+02,\n",
       "          -1.0000e+02, -1.0000e+02],\n",
       "         [-1.0000e+02, -1.0000e+02, -1.0000e+02,  ..., -1.0000e+02,\n",
       "          -1.0000e+02, -1.0000e+02],\n",
       "         [-1.0000e+02, -1.0000e+02, -1.0000e+02,  ..., -1.0000e+02,\n",
       "          -1.0000e+02, -1.0000e+02]],\n",
       "\n",
       "        [[-1.0000e+02, -1.0000e+02, -1.0000e+02,  ..., -1.0000e+02,\n",
       "          -1.0000e+02, -1.0000e+02],\n",
       "         [-1.0000e+02, -1.0000e+02, -1.0000e+02,  ..., -1.0000e+02,\n",
       "          -1.0000e+02, -1.0000e+02],\n",
       "         [-1.0000e+02, -1.0000e+02, -1.0000e+02,  ..., -1.0000e+02,\n",
       "          -1.0000e+02, -1.0000e+02],\n",
       "         ...,\n",
       "         [-1.0000e+02, -1.0000e+02, -1.0000e+02,  ..., -1.0000e+02,\n",
       "          -1.0000e+02, -1.0000e+02],\n",
       "         [-1.0000e+02, -1.0000e+02, -1.0000e+02,  ..., -1.0000e+02,\n",
       "          -1.0000e+02, -1.0000e+02],\n",
       "         [-1.0000e+02, -1.0000e+02, -1.0000e+02,  ..., -1.0000e+02,\n",
       "          -1.0000e+02, -1.0000e+02]]], device='mps:0')"
      ]
     },
     "execution_count": 28,
     "metadata": {},
     "output_type": "execute_result"
    }
   ],
   "source": [
    "# There are no [CLS] and [SEP] tokens in the ConvNet model \n",
    "# and the embeddings are padded to the right.\n",
    "# We can use the attention mask directly\n",
    "\n",
    "embeddings = pad_embeddings(embeddings, attention_mask)\n",
    "embeddings.size()"
   ]
  },
  {
   "cell_type": "code",
   "execution_count": 29,
   "id": "2f7f7d62",
   "metadata": {},
   "outputs": [
    {
     "data": {
      "text/plain": [
       "tensor([-100.0000, -100.0000, -100.0000, -100.0000, -100.0000, -100.0000,\n",
       "           1.4555, -100.0000, -100.0000, -100.0000], device='mps:0')"
      ]
     },
     "execution_count": 29,
     "metadata": {},
     "output_type": "execute_result"
    }
   ],
   "source": [
    "masked_embeddings[:, -1, -1]"
   ]
  },
  {
   "cell_type": "code",
   "execution_count": null,
   "id": "2078a470",
   "metadata": {},
   "outputs": [],
   "source": []
  }
 ],
 "metadata": {
  "kernelspec": {
   "display_name": "bend",
   "language": "python",
   "name": "python3"
  },
  "language_info": {
   "codemirror_mode": {
    "name": "ipython",
    "version": 3
   },
   "file_extension": ".py",
   "mimetype": "text/x-python",
   "name": "python",
   "nbconvert_exporter": "python",
   "pygments_lexer": "ipython3",
   "version": "3.10.16"
  }
 },
 "nbformat": 4,
 "nbformat_minor": 5
}
