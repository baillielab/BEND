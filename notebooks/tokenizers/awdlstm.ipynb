{
 "cells": [
  {
   "cell_type": "code",
   "execution_count": null,
   "id": "521d59d5",
   "metadata": {},
   "outputs": [
    {
     "name": "stdout",
     "output_type": "stream",
     "text": [
      "Using device: mps\n"
     ]
    }
   ],
   "source": [
    "from bend.models.awd_lstm import AWDLSTMModelForInference\n",
    "from transformers import AutoTokenizer\n",
    "import os\n",
    "from utils import generate_random_dna_sequence, get_device, pad_embeddings\n",
    "import torch\n",
    "\n",
    "WORK_PATH = '../../'\n",
    "EMBEDDER_DIR = os.path.join(WORK_PATH, 'pretrained_models')\n",
    "EMBEDDER_NAME = 'awd_lstm'\n",
    "EMBEDDER_PATH = os.path.join(EMBEDDER_DIR, EMBEDDER_NAME)\n",
    "\n",
    "PADDING_VALUE = -100\n",
    "\n",
    "device = get_device()"
   ]
  },
  {
   "cell_type": "code",
   "execution_count": 14,
   "id": "87f38af3",
   "metadata": {},
   "outputs": [],
   "source": [
    "tokenizer = AutoTokenizer.from_pretrained(EMBEDDER_PATH)\n",
    "model = AWDLSTMModelForInference.from_pretrained(EMBEDDER_PATH).to(device).eval().eval().to(device)"
   ]
  },
  {
   "cell_type": "code",
   "execution_count": 15,
   "id": "5ec6cfd1",
   "metadata": {},
   "outputs": [
    {
     "data": {
      "text/plain": [
       "['CCGGAT',\n",
       " 'GTGCACGTGA',\n",
       " 'GCAAGCA',\n",
       " 'GCCGTAACCCTC',\n",
       " 'GCACC',\n",
       " 'ATTGC',\n",
       " 'GTGCAG',\n",
       " 'TATCCGAGT',\n",
       " 'TTGGCTGTTTGGA',\n",
       " 'TCAACGGAGTGCA']"
      ]
     },
     "execution_count": 15,
     "metadata": {},
     "output_type": "execute_result"
    }
   ],
   "source": [
    "sequences = [generate_random_dna_sequence(min_length=5, max_length=15) for _ in range(10)]\n",
    "sequences"
   ]
  },
  {
   "cell_type": "markdown",
   "id": "83c52b25",
   "metadata": {},
   "source": [
    "#### Tokenise sequences"
   ]
  },
  {
   "cell_type": "code",
   "execution_count": 16,
   "id": "60673588",
   "metadata": {},
   "outputs": [
    {
     "data": {
      "text/plain": [
       "tensor([[ 9,  9, 10, 10,  8, 11,  0,  0,  0,  0,  0,  0,  0],\n",
       "        [10, 11, 10,  9,  8,  9, 10, 11, 10,  8,  0,  0,  0],\n",
       "        [10,  9,  8,  8, 10,  9,  8,  0,  0,  0,  0,  0,  0],\n",
       "        [10,  9,  9, 10, 11,  8,  8,  9,  9,  9, 11,  9,  0],\n",
       "        [10,  9,  8,  9,  9,  0,  0,  0,  0,  0,  0,  0,  0],\n",
       "        [ 8, 11, 11, 10,  9,  0,  0,  0,  0,  0,  0,  0,  0],\n",
       "        [10, 11, 10,  9,  8, 10,  0,  0,  0,  0,  0,  0,  0],\n",
       "        [11,  8, 11,  9,  9, 10,  8, 10, 11,  0,  0,  0,  0],\n",
       "        [11, 11, 10, 10,  9, 11, 10, 11, 11, 11, 10, 10,  8],\n",
       "        [11,  9,  8,  8,  9, 10, 10,  8, 10, 11, 10,  9,  8]])"
      ]
     },
     "execution_count": 16,
     "metadata": {},
     "output_type": "execute_result"
    }
   ],
   "source": [
    "output = tokenizer(\n",
    "    sequences,\n",
    "    return_tensors=\"pt\",\n",
    "    return_token_type_ids=False,\n",
    "    padding=\"longest\",\n",
    ")\n",
    "\n",
    "input_ids = output[\"input_ids\"]\n",
    "attention_mask = output[\"attention_mask\"]\n",
    "\n",
    "input_ids"
   ]
  },
  {
   "cell_type": "code",
   "execution_count": 17,
   "id": "19ec0961",
   "metadata": {},
   "outputs": [
    {
     "name": "stdout",
     "output_type": "stream",
     "text": [
      "['c', 'c', 'g', 'g', 'a', 't', '[PAD]', '[PAD]', '[PAD]', '[PAD]', '[PAD]', '[PAD]', '[PAD]']\n",
      "['g', 't', 'g', 'c', 'a', 'c', 'g', 't', 'g', 'a', '[PAD]', '[PAD]', '[PAD]']\n",
      "['g', 'c', 'a', 'a', 'g', 'c', 'a', '[PAD]', '[PAD]', '[PAD]', '[PAD]', '[PAD]', '[PAD]']\n",
      "['g', 'c', 'c', 'g', 't', 'a', 'a', 'c', 'c', 'c', 't', 'c', '[PAD]']\n",
      "['g', 'c', 'a', 'c', 'c', '[PAD]', '[PAD]', '[PAD]', '[PAD]', '[PAD]', '[PAD]', '[PAD]', '[PAD]']\n",
      "['a', 't', 't', 'g', 'c', '[PAD]', '[PAD]', '[PAD]', '[PAD]', '[PAD]', '[PAD]', '[PAD]', '[PAD]']\n",
      "['g', 't', 'g', 'c', 'a', 'g', '[PAD]', '[PAD]', '[PAD]', '[PAD]', '[PAD]', '[PAD]', '[PAD]']\n",
      "['t', 'a', 't', 'c', 'c', 'g', 'a', 'g', 't', '[PAD]', '[PAD]', '[PAD]', '[PAD]']\n",
      "['t', 't', 'g', 'g', 'c', 't', 'g', 't', 't', 't', 'g', 'g', 'a']\n",
      "['t', 'c', 'a', 'a', 'c', 'g', 'g', 'a', 'g', 't', 'g', 'c', 'a']\n"
     ]
    }
   ],
   "source": [
    "for ids in input_ids:\n",
    "    print(tokenizer.convert_ids_to_tokens(ids, skip_special_tokens=False))"
   ]
  },
  {
   "cell_type": "code",
   "execution_count": 18,
   "id": "93db1e46",
   "metadata": {},
   "outputs": [
    {
     "data": {
      "text/plain": [
       "tensor([[1, 1, 1, 1, 1, 1, 0, 0, 0, 0, 0, 0, 0],\n",
       "        [1, 1, 1, 1, 1, 1, 1, 1, 1, 1, 0, 0, 0],\n",
       "        [1, 1, 1, 1, 1, 1, 1, 0, 0, 0, 0, 0, 0],\n",
       "        [1, 1, 1, 1, 1, 1, 1, 1, 1, 1, 1, 1, 0],\n",
       "        [1, 1, 1, 1, 1, 0, 0, 0, 0, 0, 0, 0, 0],\n",
       "        [1, 1, 1, 1, 1, 0, 0, 0, 0, 0, 0, 0, 0],\n",
       "        [1, 1, 1, 1, 1, 1, 0, 0, 0, 0, 0, 0, 0],\n",
       "        [1, 1, 1, 1, 1, 1, 1, 1, 1, 0, 0, 0, 0],\n",
       "        [1, 1, 1, 1, 1, 1, 1, 1, 1, 1, 1, 1, 1],\n",
       "        [1, 1, 1, 1, 1, 1, 1, 1, 1, 1, 1, 1, 1]])"
      ]
     },
     "execution_count": 18,
     "metadata": {},
     "output_type": "execute_result"
    }
   ],
   "source": [
    "attention_mask"
   ]
  },
  {
   "cell_type": "markdown",
   "id": "96c8277f",
   "metadata": {},
   "source": [
    "#### Embed sequences"
   ]
  },
  {
   "cell_type": "code",
   "execution_count": 19,
   "id": "2f95ec94",
   "metadata": {},
   "outputs": [
    {
     "data": {
      "text/plain": [
       "torch.Size([10, 13, 64])"
      ]
     },
     "execution_count": 19,
     "metadata": {},
     "output_type": "execute_result"
    }
   ],
   "source": [
    "embeddings = model(input_ids=input_ids.to(device)).last_hidden_state.detach()\n",
    "embeddings.size()"
   ]
  },
  {
   "cell_type": "code",
   "execution_count": 20,
   "id": "523f6980",
   "metadata": {},
   "outputs": [
    {
     "data": {
      "text/plain": [
       "tensor([ 5.7450e-04, -3.8959e-03,  1.6868e-03,  2.5601e-03, -1.4707e-05,\n",
       "        -7.9252e-04,  2.0713e-03,  3.0819e-03,  5.4204e-03,  3.2390e-03],\n",
       "       device='mps:0')"
      ]
     },
     "execution_count": 20,
     "metadata": {},
     "output_type": "execute_result"
    }
   ],
   "source": [
    "embeddings[:, -1, -1]"
   ]
  },
  {
   "cell_type": "markdown",
   "id": "f1a7bfc1",
   "metadata": {},
   "source": [
    "#### Remove padding and stack into batch"
   ]
  },
  {
   "cell_type": "code",
   "execution_count": null,
   "id": "d16a8c3e",
   "metadata": {},
   "outputs": [
    {
     "data": {
      "text/plain": [
       "torch.Size([10, 13, 64])"
      ]
     },
     "execution_count": 26,
     "metadata": {},
     "output_type": "execute_result"
    }
   ],
   "source": [
    "# There are no [CLS] and [SEP] tokens in the AWDLSTM model\n",
    "# and the embeddings are padded to the right.\n",
    "# We can use the attention mask directly\n",
    "\n",
    "embeddings = pad_embeddings(embeddings, attention_mask)\n",
    "embeddings.size()"
   ]
  },
  {
   "cell_type": "code",
   "execution_count": 27,
   "id": "2f7f7d62",
   "metadata": {},
   "outputs": [
    {
     "data": {
      "text/plain": [
       "tensor([ 5.7450e-04, -3.8959e-03,  1.6868e-03,  2.5601e-03, -1.4707e-05,\n",
       "        -7.9252e-04,  2.0713e-03,  3.0819e-03, -1.0000e+02, -1.0000e+02],\n",
       "       device='mps:0')"
      ]
     },
     "execution_count": 27,
     "metadata": {},
     "output_type": "execute_result"
    }
   ],
   "source": [
    "embeddings[:, -1, -1]"
   ]
  },
  {
   "cell_type": "code",
   "execution_count": null,
   "id": "2078a470",
   "metadata": {},
   "outputs": [],
   "source": []
  }
 ],
 "metadata": {
  "kernelspec": {
   "display_name": "bend",
   "language": "python",
   "name": "python3"
  },
  "language_info": {
   "codemirror_mode": {
    "name": "ipython",
    "version": 3
   },
   "file_extension": ".py",
   "mimetype": "text/x-python",
   "name": "python",
   "nbconvert_exporter": "python",
   "pygments_lexer": "ipython3",
   "version": "3.10.16"
  }
 },
 "nbformat": 4,
 "nbformat_minor": 5
}
