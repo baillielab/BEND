{
 "cells": [
  {
   "cell_type": "code",
   "execution_count": 78,
   "id": "521d59d5",
   "metadata": {},
   "outputs": [
    {
     "name": "stdout",
     "output_type": "stream",
     "text": [
      "Using device: mps\n"
     ]
    }
   ],
   "source": [
    "from bend.models.awd_lstm import AWDLSTMModelForInference\n",
    "from transformers import AutoTokenizer\n",
    "import os\n",
    "from utils import generate_random_dna_sequence, get_device, pad_embeddings, remove_special_tokens_and_padding\n",
    "import torch\n",
    "import numpy as np\n",
    "\n",
    "WORK_PATH = '../../'\n",
    "EMBEDDER_DIR = os.path.join(WORK_PATH, 'pretrained_models')\n",
    "EMBEDDER_NAME = 'awd_lstm'\n",
    "EMBEDDER_PATH = os.path.join(EMBEDDER_DIR, EMBEDDER_NAME)\n",
    "\n",
    "MAX_SEQ_LENGTH = 4\n",
    "\n",
    "PADDING_VALUE = -100\n",
    "\n",
    "device = get_device()"
   ]
  },
  {
   "cell_type": "code",
   "execution_count": 79,
   "id": "87f38af3",
   "metadata": {},
   "outputs": [],
   "source": [
    "tokenizer = AutoTokenizer.from_pretrained(EMBEDDER_PATH)\n",
    "model = AWDLSTMModelForInference.from_pretrained(EMBEDDER_PATH).to(device).eval().eval().to(device)"
   ]
  },
  {
   "cell_type": "code",
   "execution_count": 80,
   "id": "5ec6cfd1",
   "metadata": {},
   "outputs": [
    {
     "data": {
      "text/plain": [
       "['ATCAGGCCCAC',\n",
       " 'GACATGCCGGACGTT',\n",
       " 'TTCAGT',\n",
       " 'CACTAAGTGTAGTC',\n",
       " 'GGAGCATT',\n",
       " 'GTTCAGGTAA',\n",
       " 'ATTTTTT',\n",
       " 'ATCAGGCTCGGGT',\n",
       " 'CTACTGC',\n",
       " 'CCCACGTT']"
      ]
     },
     "execution_count": 80,
     "metadata": {},
     "output_type": "execute_result"
    }
   ],
   "source": [
    "sequences = [generate_random_dna_sequence(min_length=5, max_length=15) for _ in range(10)]\n",
    "sequences"
   ]
  },
  {
   "cell_type": "markdown",
   "id": "83c52b25",
   "metadata": {},
   "source": [
    "#### Tokenise sequences"
   ]
  },
  {
   "cell_type": "code",
   "execution_count": 97,
   "id": "60673588",
   "metadata": {},
   "outputs": [
    {
     "data": {
      "text/plain": [
       "tensor([[ 8, 11,  9,  8, 10, 10,  9,  9,  9,  8,  9,  0,  0,  0,  0],\n",
       "        [10,  8,  9,  8, 11, 10,  9,  9, 10, 10,  8,  9, 10, 11, 11],\n",
       "        [11, 11,  9,  8, 10, 11,  0,  0,  0,  0,  0,  0,  0,  0,  0],\n",
       "        [ 9,  8,  9, 11,  8,  8, 10, 11, 10, 11,  8, 10, 11,  9,  0],\n",
       "        [10, 10,  8, 10,  9,  8, 11, 11,  0,  0,  0,  0,  0,  0,  0],\n",
       "        [10, 11, 11,  9,  8, 10, 10, 11,  8,  8,  0,  0,  0,  0,  0],\n",
       "        [ 8, 11, 11, 11, 11, 11, 11,  0,  0,  0,  0,  0,  0,  0,  0],\n",
       "        [ 8, 11,  9,  8, 10, 10,  9, 11,  9, 10, 10, 10, 11,  0,  0],\n",
       "        [ 9, 11,  8,  9, 11, 10,  9,  0,  0,  0,  0,  0,  0,  0,  0],\n",
       "        [ 9,  9,  9,  8,  9, 10, 11, 11,  0,  0,  0,  0,  0,  0,  0]])"
      ]
     },
     "execution_count": 97,
     "metadata": {},
     "output_type": "execute_result"
    }
   ],
   "source": [
    "output = tokenizer(\n",
    "    sequences,\n",
    "    return_tensors=\"pt\",\n",
    "    return_token_type_ids=False,\n",
    "    padding=\"longest\",\n",
    ")\n",
    "\n",
    "input_ids = output[\"input_ids\"]\n",
    "attention_mask = output[\"attention_mask\"]\n",
    "\n",
    "input_ids"
   ]
  },
  {
   "cell_type": "code",
   "execution_count": 98,
   "id": "19ec0961",
   "metadata": {},
   "outputs": [
    {
     "name": "stdout",
     "output_type": "stream",
     "text": [
      "['a', 't', 'c', 'a', 'g', 'g', 'c', 'c', 'c', 'a', 'c', '[PAD]', '[PAD]', '[PAD]', '[PAD]']\n",
      "['g', 'a', 'c', 'a', 't', 'g', 'c', 'c', 'g', 'g', 'a', 'c', 'g', 't', 't']\n",
      "['t', 't', 'c', 'a', 'g', 't', '[PAD]', '[PAD]', '[PAD]', '[PAD]', '[PAD]', '[PAD]', '[PAD]', '[PAD]', '[PAD]']\n",
      "['c', 'a', 'c', 't', 'a', 'a', 'g', 't', 'g', 't', 'a', 'g', 't', 'c', '[PAD]']\n",
      "['g', 'g', 'a', 'g', 'c', 'a', 't', 't', '[PAD]', '[PAD]', '[PAD]', '[PAD]', '[PAD]', '[PAD]', '[PAD]']\n",
      "['g', 't', 't', 'c', 'a', 'g', 'g', 't', 'a', 'a', '[PAD]', '[PAD]', '[PAD]', '[PAD]', '[PAD]']\n",
      "['a', 't', 't', 't', 't', 't', 't', '[PAD]', '[PAD]', '[PAD]', '[PAD]', '[PAD]', '[PAD]', '[PAD]', '[PAD]']\n",
      "['a', 't', 'c', 'a', 'g', 'g', 'c', 't', 'c', 'g', 'g', 'g', 't', '[PAD]', '[PAD]']\n",
      "['c', 't', 'a', 'c', 't', 'g', 'c', '[PAD]', '[PAD]', '[PAD]', '[PAD]', '[PAD]', '[PAD]', '[PAD]', '[PAD]']\n",
      "['c', 'c', 'c', 'a', 'c', 'g', 't', 't', '[PAD]', '[PAD]', '[PAD]', '[PAD]', '[PAD]', '[PAD]', '[PAD]']\n"
     ]
    }
   ],
   "source": [
    "for ids in input_ids:\n",
    "    print(tokenizer.convert_ids_to_tokens(ids, skip_special_tokens=False))"
   ]
  },
  {
   "cell_type": "code",
   "execution_count": 99,
   "id": "93db1e46",
   "metadata": {},
   "outputs": [
    {
     "data": {
      "text/plain": [
       "tensor([[1, 1, 1, 1, 1, 1, 1, 1, 1, 1, 1, 0, 0, 0, 0],\n",
       "        [1, 1, 1, 1, 1, 1, 1, 1, 1, 1, 1, 1, 1, 1, 1],\n",
       "        [1, 1, 1, 1, 1, 1, 0, 0, 0, 0, 0, 0, 0, 0, 0],\n",
       "        [1, 1, 1, 1, 1, 1, 1, 1, 1, 1, 1, 1, 1, 1, 0],\n",
       "        [1, 1, 1, 1, 1, 1, 1, 1, 0, 0, 0, 0, 0, 0, 0],\n",
       "        [1, 1, 1, 1, 1, 1, 1, 1, 1, 1, 0, 0, 0, 0, 0],\n",
       "        [1, 1, 1, 1, 1, 1, 1, 0, 0, 0, 0, 0, 0, 0, 0],\n",
       "        [1, 1, 1, 1, 1, 1, 1, 1, 1, 1, 1, 1, 1, 0, 0],\n",
       "        [1, 1, 1, 1, 1, 1, 1, 0, 0, 0, 0, 0, 0, 0, 0],\n",
       "        [1, 1, 1, 1, 1, 1, 1, 1, 0, 0, 0, 0, 0, 0, 0]])"
      ]
     },
     "execution_count": 99,
     "metadata": {},
     "output_type": "execute_result"
    }
   ],
   "source": [
    "attention_mask"
   ]
  },
  {
   "cell_type": "markdown",
   "id": "96c8277f",
   "metadata": {},
   "source": [
    "#### Embed sequences"
   ]
  },
  {
   "cell_type": "code",
   "execution_count": 100,
   "id": "2f95ec94",
   "metadata": {},
   "outputs": [
    {
     "data": {
      "text/plain": [
       "torch.Size([10, 15, 64])"
      ]
     },
     "execution_count": 100,
     "metadata": {},
     "output_type": "execute_result"
    }
   ],
   "source": [
    "embeddings = model(input_ids=input_ids.to(device)).last_hidden_state.detach()\n",
    "embeddings.size()"
   ]
  },
  {
   "cell_type": "code",
   "execution_count": 101,
   "id": "523f6980",
   "metadata": {},
   "outputs": [
    {
     "data": {
      "text/plain": [
       "tensor([-0.0009,  0.0065, -0.0006,  0.0011,  0.0009, -0.0003, -0.0029,  0.0031,\n",
       "        -0.0004, -0.0005], device='mps:0')"
      ]
     },
     "execution_count": 101,
     "metadata": {},
     "output_type": "execute_result"
    }
   ],
   "source": [
    "embeddings[:, -1, -1]"
   ]
  },
  {
   "cell_type": "markdown",
   "id": "f1a7bfc1",
   "metadata": {},
   "source": [
    "#### Remove padding and stack into batch"
   ]
  },
  {
   "cell_type": "code",
   "execution_count": 102,
   "id": "d16a8c3e",
   "metadata": {},
   "outputs": [
    {
     "data": {
      "text/plain": [
       "torch.Size([10, 15, 64])"
      ]
     },
     "execution_count": 102,
     "metadata": {},
     "output_type": "execute_result"
    }
   ],
   "source": [
    "# There are no [CLS] and [SEP] tokens in the AWDLSTM model\n",
    "# and the embeddings are padded to the right.\n",
    "# We can use the attention mask directly\n",
    "\n",
    "embeddings = pad_embeddings(embeddings, attention_mask)\n",
    "embeddings.size()"
   ]
  },
  {
   "cell_type": "code",
   "execution_count": 103,
   "id": "2f7f7d62",
   "metadata": {},
   "outputs": [
    {
     "data": {
      "text/plain": [
       "tensor([-9.0983e-04,  6.5451e-03, -6.4345e-04,  1.0745e-03,  8.6566e-04,\n",
       "        -3.3110e-04, -2.8806e-03,  3.1128e-03, -1.0000e+02, -1.0000e+02],\n",
       "       device='mps:0')"
      ]
     },
     "execution_count": 103,
     "metadata": {},
     "output_type": "execute_result"
    }
   ],
   "source": [
    "embeddings[:, -1, -1]"
   ]
  },
  {
   "cell_type": "markdown",
   "id": "a75732b1",
   "metadata": {},
   "source": [
    "### Remove padding and convert to list"
   ]
  },
  {
   "cell_type": "code",
   "execution_count": 104,
   "id": "9c5b768d",
   "metadata": {},
   "outputs": [
    {
     "name": "stdout",
     "output_type": "stream",
     "text": [
      "torch.Size([11, 64])\n",
      "torch.Size([15, 64])\n",
      "torch.Size([6, 64])\n",
      "torch.Size([14, 64])\n",
      "torch.Size([8, 64])\n",
      "torch.Size([10, 64])\n",
      "torch.Size([7, 64])\n",
      "torch.Size([13, 64])\n",
      "torch.Size([7, 64])\n",
      "torch.Size([8, 64])\n"
     ]
    }
   ],
   "source": [
    "attention_mask = attention_mask.numpy().astype(bool)\n",
    "\n",
    "masked_embeddings = []\n",
    "for idx in range(len(embeddings)):\n",
    "    # Remove padding from embeddings\n",
    "    masked_embeddings.append(\n",
    "        embeddings[idx][attention_mask[idx]]\n",
    "    )\n",
    "\n",
    "for emb in masked_embeddings:\n",
    "    print(emb.shape)\n",
    "     "
   ]
  },
  {
   "cell_type": "code",
   "execution_count": null,
   "id": "333ac91f",
   "metadata": {},
   "outputs": [],
   "source": []
  }
 ],
 "metadata": {
  "kernelspec": {
   "display_name": "bend",
   "language": "python",
   "name": "python3"
  },
  "language_info": {
   "codemirror_mode": {
    "name": "ipython",
    "version": 3
   },
   "file_extension": ".py",
   "mimetype": "text/x-python",
   "name": "python",
   "nbconvert_exporter": "python",
   "pygments_lexer": "ipython3",
   "version": "3.10.16"
  }
 },
 "nbformat": 4,
 "nbformat_minor": 5
}
