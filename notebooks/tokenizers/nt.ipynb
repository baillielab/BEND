{
 "cells": [
  {
   "cell_type": "code",
   "execution_count": null,
   "id": "521d59d5",
   "metadata": {},
   "outputs": [
    {
     "name": "stdout",
     "output_type": "stream",
     "text": [
      "Using device: mps\n"
     ]
    }
   ],
   "source": [
    "from transformers import AutoTokenizer, AutoModelForMaskedLM\n",
    "from utils import generate_random_dna_sequence, get_device, remove_special_tokens_and_padding, upsample\n",
    "import torch\n",
    "\n",
    "EMBEDDER_PATH = 'InstaDeepAI/nucleotide-transformer-2.5b-1000g'\n",
    "\n",
    "PADDING_VALUE = -100\n",
    "\n",
    "device = get_device()"
   ]
  },
  {
   "cell_type": "code",
   "execution_count": 2,
   "id": "87f38af3",
   "metadata": {},
   "outputs": [
    {
     "name": "stderr",
     "output_type": "stream",
     "text": [
      "/Users/dgreco2/miniconda3/envs/bend/lib/python3.10/site-packages/huggingface_hub/file_download.py:896: FutureWarning: `resume_download` is deprecated and will be removed in version 1.0.0. Downloads always resume when possible. If you want to force a new download, use `force_download=True`.\n",
      "  warnings.warn(\n",
      "/Users/dgreco2/miniconda3/envs/bend/lib/python3.10/site-packages/transformers/utils/generic.py:311: FutureWarning: `torch.utils._pytree._register_pytree_node` is deprecated. Please use `torch.utils._pytree.register_pytree_node` instead.\n",
      "  torch.utils._pytree._register_pytree_node(\n"
     ]
    },
    {
     "data": {
      "application/vnd.jupyter.widget-view+json": {
       "model_id": "a471d165f3de426cab30564f1060c04e",
       "version_major": 2,
       "version_minor": 0
      },
      "text/plain": [
       "Loading checkpoint shards:   0%|          | 0/2 [00:00<?, ?it/s]"
      ]
     },
     "metadata": {},
     "output_type": "display_data"
    },
    {
     "name": "stderr",
     "output_type": "stream",
     "text": [
      "/Users/dgreco2/miniconda3/envs/bend/lib/python3.10/site-packages/huggingface_hub/file_download.py:896: FutureWarning: `resume_download` is deprecated and will be removed in version 1.0.0. Downloads always resume when possible. If you want to force a new download, use `force_download=True`.\n",
      "  warnings.warn(\n"
     ]
    }
   ],
   "source": [
    "model = AutoModelForMaskedLM.from_pretrained(EMBEDDER_PATH).eval().to(device)\n",
    "tokenizer = AutoTokenizer.from_pretrained(EMBEDDER_PATH)"
   ]
  },
  {
   "cell_type": "code",
   "execution_count": 3,
   "id": "5ec6cfd1",
   "metadata": {},
   "outputs": [
    {
     "data": {
      "text/plain": [
       "['CTTTTCTCAGCGG',\n",
       " 'CTTGTCTGGAGT',\n",
       " 'GGTGGGCCGGCGG',\n",
       " 'GATCCT',\n",
       " 'CTAGCACGTGCAA',\n",
       " 'TATTGAT',\n",
       " 'AGTAGGGG',\n",
       " 'TCCCGGCACTA',\n",
       " 'ACGGAACTGATG',\n",
       " 'GACCTGC']"
      ]
     },
     "execution_count": 3,
     "metadata": {},
     "output_type": "execute_result"
    }
   ],
   "source": [
    "sequences = [generate_random_dna_sequence(min_length=5, max_length=15) for _ in range(10)]\n",
    "sequences"
   ]
  },
  {
   "cell_type": "markdown",
   "id": "83c52b25",
   "metadata": {},
   "source": [
    "#### Tokenise sequences"
   ]
  },
  {
   "cell_type": "code",
   "execution_count": 4,
   "id": "60673588",
   "metadata": {},
   "outputs": [
    {
     "data": {
      "text/plain": [
       "tensor([[   3, 2394, 1599, 4103,    1,    1,    1],\n",
       "        [   3, 2426, 2001,    1,    1,    1,    1],\n",
       "        [   3, 3971, 2815, 4103,    1,    1,    1],\n",
       "        [   3, 3181,    1,    1,    1,    1,    1],\n",
       "        [   3, 2364, 2940, 4100,    1,    1,    1],\n",
       "        [   3, 1120, 4101,    1,    1,    1,    1],\n",
       "        [   3,  851, 4103, 4103,    1,    1,    1],\n",
       "        [   3, 1715, 4102, 4100, 4102, 4101, 4100],\n",
       "        [   3,  756, 2507,    1,    1,    1,    1],\n",
       "        [   3, 3243, 4102,    1,    1,    1,    1]])"
      ]
     },
     "execution_count": 4,
     "metadata": {},
     "output_type": "execute_result"
    }
   ],
   "source": [
    "output = tokenizer(\n",
    "    sequences,\n",
    "    return_tensors=\"pt\",\n",
    "    return_token_type_ids=False,\n",
    "    padding=\"longest\",\n",
    ")\n",
    "\n",
    "input_ids = output[\"input_ids\"]\n",
    "attention_mask = output[\"attention_mask\"]\n",
    "\n",
    "input_ids"
   ]
  },
  {
   "cell_type": "code",
   "execution_count": 5,
   "id": "2903684d",
   "metadata": {},
   "outputs": [
    {
     "name": "stdout",
     "output_type": "stream",
     "text": [
      "['<cls>', 'CTTTTC', 'TCAGCG', 'G', '<pad>', '<pad>', '<pad>']\n",
      "['<cls>', 'CTTGTC', 'TGGAGT', '<pad>', '<pad>', '<pad>', '<pad>']\n",
      "['<cls>', 'GGTGGG', 'CCGGCG', 'G', '<pad>', '<pad>', '<pad>']\n",
      "['<cls>', 'GATCCT', '<pad>', '<pad>', '<pad>', '<pad>', '<pad>']\n",
      "['<cls>', 'CTAGCA', 'CGTGCA', 'A', '<pad>', '<pad>', '<pad>']\n",
      "['<cls>', 'TATTGA', 'T', '<pad>', '<pad>', '<pad>', '<pad>']\n",
      "['<cls>', 'AGTAGG', 'G', 'G', '<pad>', '<pad>', '<pad>']\n",
      "['<cls>', 'TCCCGG', 'C', 'A', 'C', 'T', 'A']\n",
      "['<cls>', 'ACGGAA', 'CTGATG', '<pad>', '<pad>', '<pad>', '<pad>']\n",
      "['<cls>', 'GACCTG', 'C', '<pad>', '<pad>', '<pad>', '<pad>']\n"
     ]
    }
   ],
   "source": [
    "for ids in input_ids:\n",
    "    print(tokenizer.convert_ids_to_tokens(ids, skip_special_tokens=False))"
   ]
  },
  {
   "cell_type": "code",
   "execution_count": 6,
   "id": "93db1e46",
   "metadata": {},
   "outputs": [
    {
     "data": {
      "text/plain": [
       "tensor([[1, 1, 1, 1, 0, 0, 0],\n",
       "        [1, 1, 1, 0, 0, 0, 0],\n",
       "        [1, 1, 1, 1, 0, 0, 0],\n",
       "        [1, 1, 0, 0, 0, 0, 0],\n",
       "        [1, 1, 1, 1, 0, 0, 0],\n",
       "        [1, 1, 1, 0, 0, 0, 0],\n",
       "        [1, 1, 1, 1, 0, 0, 0],\n",
       "        [1, 1, 1, 1, 1, 1, 1],\n",
       "        [1, 1, 1, 0, 0, 0, 0],\n",
       "        [1, 1, 1, 0, 0, 0, 0]])"
      ]
     },
     "execution_count": 6,
     "metadata": {},
     "output_type": "execute_result"
    }
   ],
   "source": [
    "attention_mask"
   ]
  },
  {
   "cell_type": "markdown",
   "id": "c636feaf",
   "metadata": {},
   "source": [
    "#### Embed Sequences"
   ]
  },
  {
   "cell_type": "code",
   "execution_count": 12,
   "id": "1a25410c",
   "metadata": {},
   "outputs": [
    {
     "data": {
      "text/plain": [
       "torch.Size([10, 7, 2560])"
      ]
     },
     "execution_count": 12,
     "metadata": {},
     "output_type": "execute_result"
    }
   ],
   "source": [
    "embeddings = model(input_ids=input_ids.to(device), attention_mask=attention_mask.to(device), output_hidden_states=True,)[\"hidden_states\"][-1].detach().cpu()\n",
    "embeddings.size()"
   ]
  },
  {
   "cell_type": "code",
   "execution_count": 17,
   "id": "67b134a7",
   "metadata": {},
   "outputs": [
    {
     "data": {
      "text/plain": [
       "tensor([-0.3127, -0.8532,  0.4219, -0.5247, -0.3778, -0.0778, -0.5626, -0.2562,\n",
       "        -0.3813, -0.6912])"
      ]
     },
     "execution_count": 17,
     "metadata": {},
     "output_type": "execute_result"
    }
   ],
   "source": [
    "embeddings[:, -1, -1]"
   ]
  },
  {
   "cell_type": "markdown",
   "id": "d38d6717",
   "metadata": {},
   "source": [
    "#### Upsample"
   ]
  },
  {
   "cell_type": "code",
   "execution_count": null,
   "id": "d882627e",
   "metadata": {},
   "outputs": [
    {
     "name": "stdout",
     "output_type": "stream",
     "text": [
      "---\n",
      "Embedding size:  torch.Size([7, 2560])\n",
      "Masked embedding size:  torch.Size([3, 2560])\n",
      "Upsampled embedding size:  torch.Size([13, 2560])\n",
      "---\n",
      "Embedding size:  torch.Size([7, 2560])\n",
      "Masked embedding size:  torch.Size([2, 2560])\n",
      "Upsampled embedding size:  torch.Size([12, 2560])\n",
      "---\n",
      "Embedding size:  torch.Size([7, 2560])\n",
      "Masked embedding size:  torch.Size([3, 2560])\n",
      "Upsampled embedding size:  torch.Size([13, 2560])\n",
      "---\n",
      "Embedding size:  torch.Size([7, 2560])\n",
      "Masked embedding size:  torch.Size([1, 2560])\n",
      "Upsampled embedding size:  torch.Size([6, 2560])\n",
      "---\n",
      "Embedding size:  torch.Size([7, 2560])\n",
      "Masked embedding size:  torch.Size([3, 2560])\n",
      "Upsampled embedding size:  torch.Size([13, 2560])\n",
      "---\n",
      "Embedding size:  torch.Size([7, 2560])\n",
      "Masked embedding size:  torch.Size([2, 2560])\n",
      "Upsampled embedding size:  torch.Size([7, 2560])\n",
      "---\n",
      "Embedding size:  torch.Size([7, 2560])\n",
      "Masked embedding size:  torch.Size([3, 2560])\n",
      "Upsampled embedding size:  torch.Size([8, 2560])\n",
      "---\n",
      "Embedding size:  torch.Size([7, 2560])\n",
      "Masked embedding size:  torch.Size([6, 2560])\n",
      "Upsampled embedding size:  torch.Size([11, 2560])\n",
      "---\n",
      "Embedding size:  torch.Size([7, 2560])\n",
      "Masked embedding size:  torch.Size([2, 2560])\n",
      "Upsampled embedding size:  torch.Size([12, 2560])\n",
      "---\n",
      "Embedding size:  torch.Size([7, 2560])\n",
      "Masked embedding size:  torch.Size([2, 2560])\n",
      "Upsampled embedding size:  torch.Size([7, 2560])\n"
     ]
    },
    {
     "data": {
      "text/plain": [
       "torch.Size([10, 13, 2560])"
      ]
     },
     "execution_count": 14,
     "metadata": {},
     "output_type": "execute_result"
    }
   ],
   "source": [
    "upsampled_embeddings = []\n",
    "\n",
    "for ids, emb in zip(input_ids, embeddings):\n",
    "    print('---')\n",
    "    print('Embedding size: ', emb.size())\n",
    "    masked_emb = remove_special_tokens_and_padding(tokenizer, ids, emb)\n",
    "    print('Masked embedding size: ', masked_emb.size())\n",
    "    masked_emb = upsample(tokenizer, ids, masked_emb)\n",
    "    print('Upsampled embedding size: ', masked_emb.size())\n",
    "    upsampled_embeddings.append(masked_emb)\n",
    "\n",
    "upsampled_embeddings = torch.nn.utils.rnn.pad_sequence(\n",
    "        upsampled_embeddings, batch_first=True, padding_value=PADDING_VALUE)\n",
    "upsampled_embeddings.size()"
   ]
  },
  {
   "cell_type": "code",
   "execution_count": 16,
   "id": "c2f97da5",
   "metadata": {},
   "outputs": [
    {
     "data": {
      "text/plain": [
       "tensor([-2.2402e-01, -1.0000e+02, -3.7545e-02, -1.0000e+02, -3.3865e-01,\n",
       "        -1.0000e+02, -1.0000e+02, -1.0000e+02, -1.0000e+02, -1.0000e+02])"
      ]
     },
     "execution_count": 16,
     "metadata": {},
     "output_type": "execute_result"
    }
   ],
   "source": [
    "upsampled_embeddings[:, -1, -1]"
   ]
  },
  {
   "cell_type": "code",
   "execution_count": null,
   "id": "961833cd",
   "metadata": {},
   "outputs": [],
   "source": []
  }
 ],
 "metadata": {
  "kernelspec": {
   "display_name": "bend",
   "language": "python",
   "name": "python3"
  },
  "language_info": {
   "codemirror_mode": {
    "name": "ipython",
    "version": 3
   },
   "file_extension": ".py",
   "mimetype": "text/x-python",
   "name": "python",
   "nbconvert_exporter": "python",
   "pygments_lexer": "ipython3",
   "version": "3.10.16"
  }
 },
 "nbformat": 4,
 "nbformat_minor": 5
}
