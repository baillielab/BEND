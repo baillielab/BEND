{
 "cells": [
  {
   "cell_type": "code",
   "execution_count": null,
   "id": "2fb5f7c0",
   "metadata": {},
   "outputs": [
    {
     "name": "stderr",
     "output_type": "stream",
     "text": [
      "/Users/dgreco2/miniconda3/envs/bend/lib/python3.10/site-packages/transformers/utils/generic.py:311: FutureWarning: `torch.utils._pytree._register_pytree_node` is deprecated. Please use `torch.utils._pytree.register_pytree_node` instead.\n",
      "  torch.utils._pytree._register_pytree_node(\n",
      "/Users/dgreco2/miniconda3/envs/bend/lib/python3.10/site-packages/transformers/utils/generic.py:311: FutureWarning: `torch.utils._pytree._register_pytree_node` is deprecated. Please use `torch.utils._pytree.register_pytree_node` instead.\n",
      "  torch.utils._pytree._register_pytree_node(\n"
     ]
    }
   ],
   "source": [
    "import glob\n",
    "import os\n",
    "import webdataset as wds\n",
    "from tqdm import tqdm\n",
    "import torch\n",
    "from functools import partial\n",
    "import pandas as pd\n",
    "from bend.utils.set_seed import SEED\n",
    "from scipy.stats import spearmanr\n",
    "import seaborn as sns\n",
    "import matplotlib.pyplot as plt\n",
    "import numpy as np\n",
    "import os\n",
    "\n",
    "N_SHUFFLES = 30\n",
    "BEND_SHARD_SIZE = 50000\n",
    "BEND_BUFFER_SIZE = 200\n",
    "SPLIT = 'train'\n",
    "MAX_WORKERS = 16\n",
    "\n",
    "task = 'cpg_methylation'\n",
    "model = 'hyenadna-tiny-1k'\n",
    "data_dir = f'../../data/'\n",
    "\n",
    "embedding_dir = f'{data_dir}/{task}/{model}/'\n",
    "annotations_path = f'{data_dir}/{task}/{task}.bed'\n",
    "\n",
    "\n",
    "def iterate_webdataset(tars, shardshuffle=True, buffer_size=None,num_workers=0):\n",
    "    sample_ids = []\n",
    "\n",
    "    if shardshuffle:\n",
    "        shardshuffle = len(tars)\n",
    "\n",
    "    dataset = wds.WebDataset(tars, shardshuffle=shardshuffle)\n",
    "    if buffer_size is not None:\n",
    "        dataset = dataset.shuffle(buffer_size)\n",
    "    \n",
    "    dataloader = wds.WebLoader(dataset, num_workers=num_workers, batch_size=None)\n",
    "\n",
    "    for idx, sample in enumerate(dataloader):\n",
    "        sample_ids.append(int(sample['__key__'].replace('sample_', '')))\n",
    "    \n",
    "    return np.array(sample_ids)\n",
    "\n",
    "def get_tars(tar_dir, split=SPLIT):\n",
    "    tars = glob.glob(os.path.join('./', str(tar_dir), \"*.tar.gz\"))\n",
    "    tars = [x for x in tars if os.path.split(x)[-1].startswith(split)]\n",
    "\n",
    "    return tars\n",
    "\n",
    "\n",
    "def create_shards(gt_idxs, shard_size):\n",
    "    shards = [gt_idxs[i:i + shard_size] for i in range(0, len(gt_idxs), shard_size)]\n",
    "    output_dir = f'./shards_{shard_size}/'\n",
    "    os.makedirs(output_dir, exist_ok=True)\n",
    "\n",
    "    for idx, shard in tqdm(enumerate(shards)):\n",
    "        output_path = os.path.join(output_dir, f'{SPLIT}_{idx}.tar.gz')\n",
    "        if os.path.exists(output_path):\n",
    "            continue\n",
    "\n",
    "        sink = wds.TarWriter(output_path, compress=True)\n",
    "        for sample_id in shard:\n",
    "            sample = {'__key__': f'sample_{sample_id}', 'idx.npy': np.array(sample_id)}\n",
    "            sink.write(sample)\n",
    "        sink.close()\n",
    "\n",
    "    return get_tars(output_dir, split=SPLIT)\n",
    "\n",
    "def melt_results(results):\n",
    "    results_df = pd.DataFrame.from_dict(results)\n",
    "\n",
    "    results_df = results_df.melt(var_name='shuffle_method', value_name='spearman_correlation')\n",
    "    results_df['spearman_correlation'] = abs(results_df['spearman_correlation'])\n",
    "    sorter = results_df.groupby('shuffle_method').median().sort_values(by='spearman_correlation', ascending=True).index\n",
    "\n",
    "    results_df['shuffle_method'] = results_df['shuffle_method'].astype('category')\n",
    "    results_df['shuffle_method'] = results_df['shuffle_method'].cat.set_categories(sorter)\n",
    "\n",
    "    return results_df"
   ]
  },
  {
   "cell_type": "markdown",
   "id": "07cdb88e",
   "metadata": {},
   "source": [
    "# Evaluating shuffling 'fairness'\n",
    "\n",
    "Each shuffling type will contribute to change the order in which the supervised model will ingest samples. To evaluate how the impact of the shuffling types, we compute the new sample order and compare it to the ordered list. The higher the difference, in terms of Spearman's Correlation, the 'fairer' the shuffling."
   ]
  },
  {
   "cell_type": "code",
   "execution_count": 45,
   "id": "7a465947",
   "metadata": {},
   "outputs": [],
   "source": [
    "results = {}\n",
    "\n",
    "def eval_shuffle(gt_idxs, shuffle_func, n_shuffles=N_SHUFFLES, **kwargs):\n",
    "    \n",
    "    correlations = []\n",
    "\n",
    "    for idx in tqdm(range(n_shuffles)):\n",
    "        shuffled_idxs = shuffle_func(**kwargs)\n",
    "        corr = spearmanr(gt_idxs, shuffled_idxs)[0]\n",
    "        correlations.append(corr)\n",
    "\n",
    "    return correlations"
   ]
  },
  {
   "cell_type": "code",
   "execution_count": 27,
   "id": "1d80d8db",
   "metadata": {},
   "outputs": [
    {
     "data": {
      "text/plain": [
       "array([     0,      1,      2, ..., 743092, 743093, 743094])"
      ]
     },
     "execution_count": 27,
     "metadata": {},
     "output_type": "execute_result"
    }
   ],
   "source": [
    "df = pd.read_csv(annotations_path, sep='\\t', low_memory=False)\n",
    "df = df[df['split'] == SPLIT].reset_index(drop=True)\n",
    "\n",
    "gt_idxs = df.index.values\n",
    "gt_idxs"
   ]
  },
  {
   "cell_type": "code",
   "execution_count": 43,
   "id": "b059b447",
   "metadata": {},
   "outputs": [
    {
     "name": "stderr",
     "output_type": "stream",
     "text": [
      "100%|██████████| 30/30 [00:00<00:00, 40.57it/s]\n"
     ]
    }
   ],
   "source": [
    "def no_shuffle():\n",
    "    return df.index.values\n",
    "\n",
    "results['no_shuffle'] = eval_shuffle(gt_idxs, no_shuffle)"
   ]
  },
  {
   "cell_type": "markdown",
   "id": "e34301c5",
   "metadata": {},
   "source": [
    "## Shuffle annotations - Dataset level shuffling"
   ]
  },
  {
   "cell_type": "code",
   "execution_count": 42,
   "id": "27ab4dcb",
   "metadata": {},
   "outputs": [
    {
     "name": "stderr",
     "output_type": "stream",
     "text": [
      "100%|██████████| 30/30 [00:02<00:00, 11.62it/s]\n"
     ]
    }
   ],
   "source": [
    "def shuffle_annotations(df: pd.DataFrame):\n",
    "    return df.sample(frac=1).index.values\n",
    "\n",
    "results['shuffle_annotations'] = eval_shuffle(gt_idxs, shuffle_annotations, df=df)"
   ]
  },
  {
   "cell_type": "markdown",
   "id": "4ac72f92",
   "metadata": {},
   "source": [
    "## Replicate shuffling applied by BEND"
   ]
  },
  {
   "cell_type": "markdown",
   "id": "77402896",
   "metadata": {},
   "source": [
    "#### Optimise computations by storing only sample keys"
   ]
  },
  {
   "cell_type": "code",
   "execution_count": 46,
   "id": "7d75fd20",
   "metadata": {},
   "outputs": [
    {
     "name": "stderr",
     "output_type": "stream",
     "text": [
      "15it [00:00, 16889.81it/s]\n"
     ]
    },
    {
     "data": {
      "text/plain": [
       "['././shards_50000/train_11.tar.gz',\n",
       " '././shards_50000/train_1.tar.gz',\n",
       " '././shards_50000/train_13.tar.gz',\n",
       " '././shards_50000/train_3.tar.gz',\n",
       " '././shards_50000/train_7.tar.gz',\n",
       " '././shards_50000/train_9.tar.gz',\n",
       " '././shards_50000/train_5.tar.gz',\n",
       " '././shards_50000/train_0.tar.gz',\n",
       " '././shards_50000/train_10.tar.gz',\n",
       " '././shards_50000/train_2.tar.gz',\n",
       " '././shards_50000/train_12.tar.gz',\n",
       " '././shards_50000/train_6.tar.gz',\n",
       " '././shards_50000/train_8.tar.gz',\n",
       " '././shards_50000/train_14.tar.gz',\n",
       " '././shards_50000/train_4.tar.gz']"
      ]
     },
     "execution_count": 46,
     "metadata": {},
     "output_type": "execute_result"
    }
   ],
   "source": [
    "bend_tars = create_shards(gt_idxs, BEND_SHARD_SIZE)\n",
    "bend_tars"
   ]
  },
  {
   "cell_type": "markdown",
   "id": "76a98674",
   "metadata": {},
   "source": [
    "### BEND shuffling"
   ]
  },
  {
   "cell_type": "code",
   "execution_count": 47,
   "id": "a3e04953",
   "metadata": {},
   "outputs": [
    {
     "name": "stderr",
     "output_type": "stream",
     "text": [
      "100%|██████████| 30/30 [34:55<00:00, 69.85s/it]\n"
     ]
    }
   ],
   "source": [
    "results['BEND'] = eval_shuffle(gt_idxs, iterate_webdataset, tars=bend_tars, buffer_size=BEND_BUFFER_SIZE, num_workers=0)"
   ]
  },
  {
   "cell_type": "markdown",
   "id": "d85bad03",
   "metadata": {},
   "source": [
    "#### Shuffle entire shard in-memory"
   ]
  },
  {
   "cell_type": "code",
   "execution_count": 48,
   "id": "2c0de20e",
   "metadata": {},
   "outputs": [
    {
     "name": "stderr",
     "output_type": "stream",
     "text": [
      "100%|██████████| 30/30 [35:17<00:00, 70.59s/it]\n"
     ]
    }
   ],
   "source": [
    "results['max in-memory'] = eval_shuffle(gt_idxs, iterate_webdataset, tars=bend_tars, buffer_size=BEND_SHARD_SIZE, num_workers=0)"
   ]
  },
  {
   "cell_type": "markdown",
   "id": "da0ceac8",
   "metadata": {},
   "source": [
    "#### Add multiprocessing shuffling"
   ]
  },
  {
   "cell_type": "code",
   "execution_count": 49,
   "id": "eb40a010",
   "metadata": {},
   "outputs": [
    {
     "name": "stderr",
     "output_type": "stream",
     "text": [
      "100%|██████████| 30/30 [20:47<00:00, 41.60s/it]\n"
     ]
    }
   ],
   "source": [
    "results['max multiprocessing'] = eval_shuffle(gt_idxs, iterate_webdataset, tars=bend_tars, buffer_size=BEND_BUFFER_SIZE, num_workers=len(bend_tars))"
   ]
  },
  {
   "cell_type": "markdown",
   "id": "15a9dda7",
   "metadata": {},
   "source": [
    "#### Combine multiprocessing with entire shard in-memory shuffling"
   ]
  },
  {
   "cell_type": "code",
   "execution_count": 50,
   "id": "93d45b4d",
   "metadata": {},
   "outputs": [
    {
     "name": "stderr",
     "output_type": "stream",
     "text": [
      "100%|██████████| 30/30 [19:47<00:00, 39.57s/it]\n"
     ]
    }
   ],
   "source": [
    "results['in-memory + multiprocessing'] = eval_shuffle(gt_idxs, iterate_webdataset, tars=bend_tars, buffer_size=BEND_SHARD_SIZE, num_workers=len(bend_tars))"
   ]
  },
  {
   "cell_type": "markdown",
   "id": "bb0fcee9",
   "metadata": {},
   "source": [
    "## Results"
   ]
  },
  {
   "cell_type": "code",
   "execution_count": null,
   "id": "6e08ecdf",
   "metadata": {},
   "outputs": [
    {
     "data": {
      "text/html": [
       "<div>\n",
       "<style scoped>\n",
       "    .dataframe tbody tr th:only-of-type {\n",
       "        vertical-align: middle;\n",
       "    }\n",
       "\n",
       "    .dataframe tbody tr th {\n",
       "        vertical-align: top;\n",
       "    }\n",
       "\n",
       "    .dataframe thead th {\n",
       "        text-align: right;\n",
       "    }\n",
       "</style>\n",
       "<table border=\"1\" class=\"dataframe\">\n",
       "  <thead>\n",
       "    <tr style=\"text-align: right;\">\n",
       "      <th></th>\n",
       "      <th>spearman_correlation</th>\n",
       "    </tr>\n",
       "  </thead>\n",
       "  <tbody>\n",
       "    <tr>\n",
       "      <th>count</th>\n",
       "      <td>120.000000</td>\n",
       "    </tr>\n",
       "    <tr>\n",
       "      <th>mean</th>\n",
       "      <td>0.146717</td>\n",
       "    </tr>\n",
       "    <tr>\n",
       "      <th>std</th>\n",
       "      <td>0.154011</td>\n",
       "    </tr>\n",
       "    <tr>\n",
       "      <th>min</th>\n",
       "      <td>0.021647</td>\n",
       "    </tr>\n",
       "    <tr>\n",
       "      <th>25%</th>\n",
       "      <td>0.022443</td>\n",
       "    </tr>\n",
       "    <tr>\n",
       "      <th>50%</th>\n",
       "      <td>0.044038</td>\n",
       "    </tr>\n",
       "    <tr>\n",
       "      <th>75%</th>\n",
       "      <td>0.241312</td>\n",
       "    </tr>\n",
       "    <tr>\n",
       "      <th>max</th>\n",
       "      <td>0.608974</td>\n",
       "    </tr>\n",
       "  </tbody>\n",
       "</table>\n",
       "</div>"
      ],
      "text/plain": [
       "       spearman_correlation\n",
       "count            120.000000\n",
       "mean               0.146717\n",
       "std                0.154011\n",
       "min                0.021647\n",
       "25%                0.022443\n",
       "50%                0.044038\n",
       "75%                0.241312\n",
       "max                0.608974"
      ]
     },
     "execution_count": 51,
     "metadata": {},
     "output_type": "execute_result"
    }
   ],
   "source": [
    "filename = f'./results_{SPLIT}_BEND.csv'\n",
    "\n",
    "if os.path.exists(filename):\n",
    "    results_df = pd.read_csv(filename)\n",
    "else:\n",
    "    results_df = melt_results(results)\n",
    "    results_df.to_csv(filename, index=False)\n",
    "\n",
    "results_df.describe()"
   ]
  },
  {
   "cell_type": "code",
   "execution_count": 52,
   "id": "c0bfad41",
   "metadata": {},
   "outputs": [
    {
     "data": {
      "image/png": "[encoded data removed]",
      "text/plain": [
       "<Figure size 640x480 with 1 Axes>"
      ]
     },
     "metadata": {},
     "output_type": "display_data"
    }
   ],
   "source": [
    "sns.boxplot(data=results_df, x='shuffle_method', y='spearman_correlation', hue='shuffle_method')\n",
    "plt.axhline(y=0, color='red', linestyle='--')\n",
    "plt.tick_params(axis='x', labelrotation=45)"
   ]
  },
  {
   "cell_type": "markdown",
   "id": "b979b9b8",
   "metadata": {},
   "source": [
    "## Different shard number"
   ]
  },
  {
   "cell_type": "code",
   "execution_count": null,
   "id": "83be2c4f",
   "metadata": {},
   "outputs": [
    {
     "name": "stderr",
     "output_type": "stream",
     "text": [
      "7431it [00:00, 361987.79it/s]\n",
      "100%|██████████| 30/30 [41:22<00:00, 82.74s/it]\n",
      "744it [00:00, 176892.59it/s]\n",
      "100%|██████████| 30/30 [50:46<00:00, 101.55s/it]\n",
      "15it [00:00, 16630.86it/s]\n",
      "100%|██████████| 30/30 [51:24<00:00, 102.82s/it]\n",
      "3it [00:00, 2425.39it/s]\n",
      "100%|██████████| 30/30 [51:49<00:00, 103.65s/it]\n"
     ]
    }
   ],
   "source": [
    "chunk_results = {}\n",
    "\n",
    "for shard_size in [100, 1000, 50000, 250000]:\n",
    "    tars = create_shards(gt_idxs, shard_size)\n",
    "    \n",
    "    buffer_size = shard_size if shard_size < BEND_BUFFER_SIZE else BEND_BUFFER_SIZE\n",
    "    num_workers = 1\n",
    "    \n",
    "    chunk_results[f'{shard_size} shard'] = eval_shuffle(gt_idxs, iterate_webdataset, tars=tars,  buffer_size=buffer_size, num_workers=num_workers)"
   ]
  },
  {
   "cell_type": "code",
   "execution_count": null,
   "id": "8ba3177c",
   "metadata": {},
   "outputs": [
    {
     "data": {
      "text/html": [
       "<div>\n",
       "<style scoped>\n",
       "    .dataframe tbody tr th:only-of-type {\n",
       "        vertical-align: middle;\n",
       "    }\n",
       "\n",
       "    .dataframe tbody tr th {\n",
       "        vertical-align: top;\n",
       "    }\n",
       "\n",
       "    .dataframe thead th {\n",
       "        text-align: right;\n",
       "    }\n",
       "</style>\n",
       "<table border=\"1\" class=\"dataframe\">\n",
       "  <thead>\n",
       "    <tr style=\"text-align: right;\">\n",
       "      <th></th>\n",
       "      <th>shuffle_method</th>\n",
       "      <th>spearman_correlation</th>\n",
       "    </tr>\n",
       "  </thead>\n",
       "  <tbody>\n",
       "    <tr>\n",
       "      <th>0</th>\n",
       "      <td>100 shard</td>\n",
       "      <td>0.001762</td>\n",
       "    </tr>\n",
       "    <tr>\n",
       "      <th>1</th>\n",
       "      <td>100 shard</td>\n",
       "      <td>0.003700</td>\n",
       "    </tr>\n",
       "    <tr>\n",
       "      <th>2</th>\n",
       "      <td>100 shard</td>\n",
       "      <td>0.007644</td>\n",
       "    </tr>\n",
       "    <tr>\n",
       "      <th>3</th>\n",
       "      <td>100 shard</td>\n",
       "      <td>0.008084</td>\n",
       "    </tr>\n",
       "    <tr>\n",
       "      <th>4</th>\n",
       "      <td>100 shard</td>\n",
       "      <td>0.000460</td>\n",
       "    </tr>\n",
       "    <tr>\n",
       "      <th>...</th>\n",
       "      <td>...</td>\n",
       "      <td>...</td>\n",
       "    </tr>\n",
       "    <tr>\n",
       "      <th>115</th>\n",
       "      <td>250000 shard</td>\n",
       "      <td>1.000000</td>\n",
       "    </tr>\n",
       "    <tr>\n",
       "      <th>116</th>\n",
       "      <td>250000 shard</td>\n",
       "      <td>1.000000</td>\n",
       "    </tr>\n",
       "    <tr>\n",
       "      <th>117</th>\n",
       "      <td>250000 shard</td>\n",
       "      <td>0.561807</td>\n",
       "    </tr>\n",
       "    <tr>\n",
       "      <th>118</th>\n",
       "      <td>250000 shard</td>\n",
       "      <td>0.320713</td>\n",
       "    </tr>\n",
       "    <tr>\n",
       "      <th>119</th>\n",
       "      <td>250000 shard</td>\n",
       "      <td>0.320713</td>\n",
       "    </tr>\n",
       "  </tbody>\n",
       "</table>\n",
       "<p>120 rows × 2 columns</p>\n",
       "</div>"
      ],
      "text/plain": [
       "    shuffle_method  spearman_correlation\n",
       "0        100 shard              0.001762\n",
       "1        100 shard              0.003700\n",
       "2        100 shard              0.007644\n",
       "3        100 shard              0.008084\n",
       "4        100 shard              0.000460\n",
       "..             ...                   ...\n",
       "115   250000 shard              1.000000\n",
       "116   250000 shard              1.000000\n",
       "117   250000 shard              0.561807\n",
       "118   250000 shard              0.320713\n",
       "119   250000 shard              0.320713\n",
       "\n",
       "[120 rows x 2 columns]"
      ]
     },
     "execution_count": 36,
     "metadata": {},
     "output_type": "execute_result"
    }
   ],
   "source": [
    "filename_chunks = f'./results_chunks_{SPLIT}_BEND.csv'\n",
    "\n",
    "if os.path.exists(filename_chunks):\n",
    "    results_chunks_df = pd.read_csv(filename_chunks)\n",
    "else:\n",
    "    results_chunks_df = melt_results(chunk_results)\n",
    "    results_chunks_df.to_csv(filename_chunks, index=False)\n",
    "\n",
    "results_chunks_df"
   ]
  },
  {
   "cell_type": "code",
   "execution_count": 53,
   "id": "5d71b1d9",
   "metadata": {},
   "outputs": [
    {
     "data": {
      "image/png": "[encoded data removed]",
      "text/plain": [
       "<Figure size 640x480 with 1 Axes>"
      ]
     },
     "metadata": {},
     "output_type": "display_data"
    }
   ],
   "source": [
    "sns.boxplot(data=results_chunks_df, x='shuffle_method', y='spearman_correlation', hue='shuffle_method')\n",
    "plt.axhline(y=0, color='red', linestyle='--')\n",
    "plt.tick_params(axis='x', labelrotation=45)"
   ]
  },
  {
   "cell_type": "code",
   "execution_count": null,
   "id": "75b3a72d",
   "metadata": {},
   "outputs": [],
   "source": []
  }
 ],
 "metadata": {
  "kernelspec": {
   "display_name": "bend",
   "language": "python",
   "name": "python3"
  },
  "language_info": {
   "codemirror_mode": {
    "name": "ipython",
    "version": 3
   },
   "file_extension": ".py",
   "mimetype": "text/x-python",
   "name": "python",
   "nbconvert_exporter": "python",
   "pygments_lexer": "ipython3",
   "version": "3.10.16"
  }
 },
 "nbformat": 4,
 "nbformat_minor": 5
}
