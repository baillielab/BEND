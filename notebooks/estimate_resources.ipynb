{
 "cells": [
  {
   "cell_type": "code",
   "execution_count": 8,
   "id": "aa5657f6",
   "metadata": {},
   "outputs": [],
   "source": [
    "import pandas as pd\n",
    "import os\n",
    "import yaml\n",
    "import seaborn as sns\n",
    "import matplotlib.pyplot as plt\n",
    "import numpy as np\n",
    "\n",
    "WORK_DIR = '../'\n",
    "results_dir = os.path.join(WORK_DIR, 'results', 'estimates')"
   ]
  },
  {
   "cell_type": "code",
   "execution_count": 16,
   "id": "053b1f1a",
   "metadata": {},
   "outputs": [
    {
     "name": "stdout",
     "output_type": "stream",
     "text": [
      "Processing default\n",
      "Processing batch\n"
     ]
    }
   ],
   "source": [
    "df_stats = []\n",
    "\n",
    "for experiment in os.listdir(results_dir):\n",
    "    if experiment.startswith('.'):\n",
    "        continue\n",
    "\n",
    "    print(f\"Processing {experiment}\")\n",
    "\n",
    "    # emb_stats = pd.read_csv(os.path.join(results_dir, 'embeddings_stats.csv'))\n",
    "    # emb_stats.rename(columns={'time':'chunk emb time (seconds)','size (bytes)': 'chunk size (bytes)', 'n_samples': 'samples per chunk'}, inplace=True)\n",
    "\n",
    "    downstream_stats = pd.read_csv(os.path.join(results_dir, experiment, 'downstream_stats.csv'))\n",
    "    downstream_stats.rename(columns={'time':'chunk training time (seconds)'}, inplace=True)\n",
    "    downstream_stats['samples per chunk'] = 50000\n",
    "    downstream_stats['samples per chunk'] = np.where(downstream_stats['task'] == 'enhancer annotation', 28, downstream_stats['samples per chunk'])\n",
    "    downstream_stats['samples per chunk'] = np.where(downstream_stats['task'] == 'gene finding', 4768, downstream_stats['samples per chunk'])\n",
    "\n",
    "    # df_merged = pd.merge(\n",
    "    #     emb_stats,\n",
    "    #     downstream_stats,\n",
    "    #     on=['model', 'task'],\n",
    "    #     how='outer',\n",
    "    #     suffixes=('_emb', '_downstream'),\n",
    "    # )\n",
    "    # df_merged = df_merged.sort_values(by=['task', 'model'])\n",
    "    downstream_stats['Experiment'] = experiment\n",
    "    df_stats.append(downstream_stats)\n",
    "\n",
    "df_stats = pd.concat(df_stats, ignore_index=True)\n",
    "df_stats = df_stats[df_stats['model'] == 'hyenadna-tiny-1k']"
   ]
  },
  {
   "cell_type": "code",
   "execution_count": 17,
   "id": "ff04793d",
   "metadata": {},
   "outputs": [
    {
     "data": {
      "text/html": [
       "<div>\n",
       "<style scoped>\n",
       "    .dataframe tbody tr th:only-of-type {\n",
       "        vertical-align: middle;\n",
       "    }\n",
       "\n",
       "    .dataframe tbody tr th {\n",
       "        vertical-align: top;\n",
       "    }\n",
       "\n",
       "    .dataframe thead th {\n",
       "        text-align: right;\n",
       "    }\n",
       "</style>\n",
       "<table border=\"1\" class=\"dataframe\">\n",
       "  <thead>\n",
       "    <tr style=\"text-align: right;\">\n",
       "      <th></th>\n",
       "      <th>task</th>\n",
       "      <th>model</th>\n",
       "      <th>epoch</th>\n",
       "      <th>chunk training time (seconds)</th>\n",
       "      <th>samples per chunk</th>\n",
       "      <th>Experiment</th>\n",
       "      <th>total samples</th>\n",
       "      <th>n chunks</th>\n",
       "      <th>epoch training time (hours)</th>\n",
       "      <th>total training time (hours)</th>\n",
       "      <th>total training time (days)</th>\n",
       "    </tr>\n",
       "  </thead>\n",
       "  <tbody>\n",
       "    <tr>\n",
       "      <th>0</th>\n",
       "      <td>gene_finding</td>\n",
       "      <td>hyenadna-tiny-1k</td>\n",
       "      <td>1</td>\n",
       "      <td>162.424445</td>\n",
       "      <td>50000</td>\n",
       "      <td>default</td>\n",
       "      <td>5977</td>\n",
       "      <td>0.11954</td>\n",
       "      <td>0.005393</td>\n",
       "      <td>0.539339</td>\n",
       "      <td>0.022472</td>\n",
       "    </tr>\n",
       "    <tr>\n",
       "      <th>1</th>\n",
       "      <td>enhancer_annotation</td>\n",
       "      <td>hyenadna-tiny-1k</td>\n",
       "      <td>1</td>\n",
       "      <td>14.042472</td>\n",
       "      <td>50000</td>\n",
       "      <td>default</td>\n",
       "      <td>285</td>\n",
       "      <td>0.00570</td>\n",
       "      <td>0.000022</td>\n",
       "      <td>0.002223</td>\n",
       "      <td>0.000093</td>\n",
       "    </tr>\n",
       "    <tr>\n",
       "      <th>2</th>\n",
       "      <td>histone_modification</td>\n",
       "      <td>hyenadna-tiny-1k</td>\n",
       "      <td>1</td>\n",
       "      <td>120.563790</td>\n",
       "      <td>50000</td>\n",
       "      <td>default</td>\n",
       "      <td>625229</td>\n",
       "      <td>12.50458</td>\n",
       "      <td>0.418778</td>\n",
       "      <td>41.877765</td>\n",
       "      <td>1.744907</td>\n",
       "    </tr>\n",
       "    <tr>\n",
       "      <th>3</th>\n",
       "      <td>chromatin_accessibility</td>\n",
       "      <td>hyenadna-tiny-1k</td>\n",
       "      <td>1</td>\n",
       "      <td>121.548147</td>\n",
       "      <td>50000</td>\n",
       "      <td>default</td>\n",
       "      <td>2062129</td>\n",
       "      <td>41.24258</td>\n",
       "      <td>1.392489</td>\n",
       "      <td>139.248866</td>\n",
       "      <td>5.802036</td>\n",
       "    </tr>\n",
       "    <tr>\n",
       "      <th>4</th>\n",
       "      <td>cpg_methylation</td>\n",
       "      <td>hyenadna-tiny-1k</td>\n",
       "      <td>1</td>\n",
       "      <td>122.220143</td>\n",
       "      <td>50000</td>\n",
       "      <td>default</td>\n",
       "      <td>959039</td>\n",
       "      <td>19.18078</td>\n",
       "      <td>0.651188</td>\n",
       "      <td>65.118824</td>\n",
       "      <td>2.713284</td>\n",
       "    </tr>\n",
       "    <tr>\n",
       "      <th>40</th>\n",
       "      <td>histone_modification</td>\n",
       "      <td>hyenadna-tiny-1k</td>\n",
       "      <td>1</td>\n",
       "      <td>70.368401</td>\n",
       "      <td>50000</td>\n",
       "      <td>batch</td>\n",
       "      <td>625229</td>\n",
       "      <td>12.50458</td>\n",
       "      <td>0.244424</td>\n",
       "      <td>24.442425</td>\n",
       "      <td>1.018434</td>\n",
       "    </tr>\n",
       "    <tr>\n",
       "      <th>41</th>\n",
       "      <td>gene_finding</td>\n",
       "      <td>hyenadna-tiny-1k</td>\n",
       "      <td>1</td>\n",
       "      <td>135.231373</td>\n",
       "      <td>50000</td>\n",
       "      <td>batch</td>\n",
       "      <td>5977</td>\n",
       "      <td>0.11954</td>\n",
       "      <td>0.004490</td>\n",
       "      <td>0.449043</td>\n",
       "      <td>0.018710</td>\n",
       "    </tr>\n",
       "  </tbody>\n",
       "</table>\n",
       "</div>"
      ],
      "text/plain": [
       "                       task             model  epoch  \\\n",
       "0              gene_finding  hyenadna-tiny-1k      1   \n",
       "1       enhancer_annotation  hyenadna-tiny-1k      1   \n",
       "2      histone_modification  hyenadna-tiny-1k      1   \n",
       "3   chromatin_accessibility  hyenadna-tiny-1k      1   \n",
       "4           cpg_methylation  hyenadna-tiny-1k      1   \n",
       "40     histone_modification  hyenadna-tiny-1k      1   \n",
       "41             gene_finding  hyenadna-tiny-1k      1   \n",
       "\n",
       "    chunk training time (seconds)  samples per chunk Experiment  \\\n",
       "0                      162.424445              50000    default   \n",
       "1                       14.042472              50000    default   \n",
       "2                      120.563790              50000    default   \n",
       "3                      121.548147              50000    default   \n",
       "4                      122.220143              50000    default   \n",
       "40                      70.368401              50000      batch   \n",
       "41                     135.231373              50000      batch   \n",
       "\n",
       "    total samples  n chunks  epoch training time (hours)  \\\n",
       "0            5977   0.11954                     0.005393   \n",
       "1             285   0.00570                     0.000022   \n",
       "2          625229  12.50458                     0.418778   \n",
       "3         2062129  41.24258                     1.392489   \n",
       "4          959039  19.18078                     0.651188   \n",
       "40         625229  12.50458                     0.244424   \n",
       "41           5977   0.11954                     0.004490   \n",
       "\n",
       "    total training time (hours)  total training time (days)  \n",
       "0                      0.539339                    0.022472  \n",
       "1                      0.002223                    0.000093  \n",
       "2                     41.877765                    1.744907  \n",
       "3                    139.248866                    5.802036  \n",
       "4                     65.118824                    2.713284  \n",
       "40                    24.442425                    1.018434  \n",
       "41                     0.449043                    0.018710  "
      ]
     },
     "execution_count": 17,
     "metadata": {},
     "output_type": "execute_result"
    }
   ],
   "source": [
    "task_len = {}\n",
    "for task in df_stats['task'].unique():\n",
    "    df_task = pd.read_csv(os.path.join(WORK_DIR, 'data',task, f'{task}.bed'), sep='\\t', low_memory=False)\n",
    "    task_len[task] = len(df_task)\n",
    "\n",
    "df_stats['total samples'] = df_stats['task'].map(task_len)\n",
    "df_stats['n chunks'] = df_stats['total samples'] / df_stats['samples per chunk']\n",
    "\n",
    "# df_stats['chunk size (GB)'] = df_stats['chunk size (bytes)'] / (1024 ** 3)\n",
    "\n",
    "# df_stats['total emb time (hours)'] = (df_stats['chunk emb time (seconds)'] * df_stats['n chunks']) / 3600\n",
    "# df_stats['total emb time (days)'] = df_stats['total emb time (hours)'] / 24\n",
    "# df_stats['total emb size (GB)'] = df_stats['chunk size (bytes)'] * df_stats['n chunks'] / (1024 ** 3)\n",
    "\n",
    "df_stats['epoch training time (hours)'] = df_stats['chunk training time (seconds)'] * df_stats['n chunks'] / 3600\n",
    "total_epochs = 100\n",
    "df_stats['total training time (hours)'] = df_stats['epoch training time (hours)'] * total_epochs\n",
    "df_stats['total training time (days)'] = df_stats['total training time (hours)'] / 24\n",
    "\n",
    "df_stats"
   ]
  },
  {
   "cell_type": "code",
   "execution_count": 18,
   "id": "c2746343",
   "metadata": {},
   "outputs": [],
   "source": [
    "# df_stats.groupby(['model']).sum(numeric_only=True).sort_values(by='total emb size (GB)', ascending=False)['total emb size (GB)']"
   ]
  },
  {
   "cell_type": "code",
   "execution_count": 19,
   "id": "ff730b79",
   "metadata": {},
   "outputs": [],
   "source": [
    "# df_stats = df_stats[df_stats['model'] != 'awdlstm'] # Exclude awdlstm as it is an outlier in terms of size and time"
   ]
  },
  {
   "cell_type": "code",
   "execution_count": 20,
   "id": "5c2179ca",
   "metadata": {},
   "outputs": [],
   "source": [
    "# sns.barplot(data=df_stats.sort_values(by='total emb size (GB)', ascending=False), x='task', y='total emb size (GB)', hue='model')\n",
    "# plt.xticks(rotation=45)"
   ]
  },
  {
   "cell_type": "code",
   "execution_count": 21,
   "id": "04b70ab9",
   "metadata": {},
   "outputs": [],
   "source": [
    "# sns.barplot(data=df_stats.sort_values(by='total emb time (days)', ascending=False), x='task', y='total emb time (days)', hue='model')\n",
    "# plt.xticks(rotation=45)"
   ]
  },
  {
   "cell_type": "code",
   "execution_count": 22,
   "id": "e9f2c5e0",
   "metadata": {},
   "outputs": [
    {
     "data": {
      "text/plain": [
       "([0, 1, 2, 3, 4],\n",
       " [Text(0, 0, 'chromatin_accessibility'),\n",
       "  Text(1, 0, 'cpg_methylation'),\n",
       "  Text(2, 0, 'histone_modification'),\n",
       "  Text(3, 0, 'gene_finding'),\n",
       "  Text(4, 0, 'enhancer_annotation')])"
      ]
     },
     "execution_count": 22,
     "metadata": {},
     "output_type": "execute_result"
    },
    {
     "data": {
      "image/png": "[encoded data removed]",
      "text/plain": [
       "<Figure size 640x480 with 1 Axes>"
      ]
     },
     "metadata": {},
     "output_type": "display_data"
    }
   ],
   "source": [
    "sns.barplot(data=df_stats.sort_values(by='total training time (days)', ascending=False), x='task', y='total training time (days)', hue='Experiment')\n",
    "plt.xticks(rotation=45)"
   ]
  },
  {
   "cell_type": "code",
   "execution_count": null,
   "id": "cc956f5c",
   "metadata": {},
   "outputs": [],
   "source": []
  }
 ],
 "metadata": {
  "kernelspec": {
   "display_name": "bend",
   "language": "python",
   "name": "python3"
  },
  "language_info": {
   "codemirror_mode": {
    "name": "ipython",
    "version": 3
   },
   "file_extension": ".py",
   "mimetype": "text/x-python",
   "name": "python",
   "nbconvert_exporter": "python",
   "pygments_lexer": "ipython3",
   "version": "3.10.16"
  }
 },
 "nbformat": 4,
 "nbformat_minor": 5
}
